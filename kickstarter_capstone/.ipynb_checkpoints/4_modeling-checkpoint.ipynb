{
 "cells": [
  {
   "cell_type": "markdown",
   "metadata": {},
   "source": [
    "### Import necessary packages"
   ]
  },
  {
   "cell_type": "code",
   "execution_count": 1,
   "metadata": {
    "ExecuteTime": {
     "end_time": "2020-10-20T21:35:01.626660Z",
     "start_time": "2020-10-20T21:34:59.729111Z"
    }
   },
   "outputs": [],
   "source": [
    "import pandas as pd\n",
    "import matplotlib.pyplot as plt\n",
    "import seaborn as sns\n",
    "import numpy as np\n",
    "from sklearn.model_selection import RandomizedSearchCV"
   ]
  },
  {
   "cell_type": "code",
   "execution_count": 2,
   "metadata": {
    "ExecuteTime": {
     "end_time": "2020-10-20T21:35:03.611791Z",
     "start_time": "2020-10-20T21:35:01.628634Z"
    }
   },
   "outputs": [],
   "source": [
    "X_train = pd.read_csv('data/train_test/X_train.csv',index_col = 0)\n",
    "X_test = pd.read_csv('data/train_test/X_test.csv', index_col = 0)\n",
    "y_train = pd.read_csv('data/train_test/y_train.csv', index_col = 0)\n",
    "y_test = pd.read_csv('data/train_test/y_test.csv', index_col = 0)"
   ]
  },
  {
   "cell_type": "code",
   "execution_count": 3,
   "metadata": {
    "ExecuteTime": {
     "end_time": "2020-10-20T21:35:03.659764Z",
     "start_time": "2020-10-20T21:35:03.612764Z"
    }
   },
   "outputs": [
    {
     "data": {
      "text/html": [
       "<div>\n",
       "<style scoped>\n",
       "    .dataframe tbody tr th:only-of-type {\n",
       "        vertical-align: middle;\n",
       "    }\n",
       "\n",
       "    .dataframe tbody tr th {\n",
       "        vertical-align: top;\n",
       "    }\n",
       "\n",
       "    .dataframe thead th {\n",
       "        text-align: right;\n",
       "    }\n",
       "</style>\n",
       "<table border=\"1\" class=\"dataframe\">\n",
       "  <thead>\n",
       "    <tr style=\"text-align: right;\">\n",
       "      <th></th>\n",
       "      <th>goal</th>\n",
       "      <th>pledged</th>\n",
       "      <th>backers</th>\n",
       "      <th>usd pledged</th>\n",
       "      <th>usd_pledged_real</th>\n",
       "      <th>usd_goal_real</th>\n",
       "      <th>days_until_deadline</th>\n",
       "      <th>percent_achieved_real</th>\n",
       "      <th>main_category_Art</th>\n",
       "      <th>main_category_Comics</th>\n",
       "      <th>...</th>\n",
       "      <th>country_IT</th>\n",
       "      <th>country_JP</th>\n",
       "      <th>country_LU</th>\n",
       "      <th>country_MX</th>\n",
       "      <th>country_NL</th>\n",
       "      <th>country_NO</th>\n",
       "      <th>country_NZ</th>\n",
       "      <th>country_SE</th>\n",
       "      <th>country_SG</th>\n",
       "      <th>country_US</th>\n",
       "    </tr>\n",
       "  </thead>\n",
       "  <tbody>\n",
       "    <tr>\n",
       "      <th>215192</th>\n",
       "      <td>-0.609810</td>\n",
       "      <td>0.570121</td>\n",
       "      <td>0.345254</td>\n",
       "      <td>0.683936</td>\n",
       "      <td>0.573106</td>\n",
       "      <td>-0.614290</td>\n",
       "      <td>-1.070987</td>\n",
       "      <td>0.933229</td>\n",
       "      <td>0</td>\n",
       "      <td>0</td>\n",
       "      <td>...</td>\n",
       "      <td>0</td>\n",
       "      <td>0</td>\n",
       "      <td>0</td>\n",
       "      <td>0</td>\n",
       "      <td>0</td>\n",
       "      <td>0</td>\n",
       "      <td>0</td>\n",
       "      <td>0</td>\n",
       "      <td>0</td>\n",
       "      <td>1</td>\n",
       "    </tr>\n",
       "    <tr>\n",
       "      <th>352840</th>\n",
       "      <td>-2.270686</td>\n",
       "      <td>-1.748181</td>\n",
       "      <td>-1.420168</td>\n",
       "      <td>-1.594824</td>\n",
       "      <td>-1.750667</td>\n",
       "      <td>-2.301050</td>\n",
       "      <td>-3.893457</td>\n",
       "      <td>-1.270532</td>\n",
       "      <td>0</td>\n",
       "      <td>0</td>\n",
       "      <td>...</td>\n",
       "      <td>0</td>\n",
       "      <td>0</td>\n",
       "      <td>0</td>\n",
       "      <td>0</td>\n",
       "      <td>0</td>\n",
       "      <td>0</td>\n",
       "      <td>0</td>\n",
       "      <td>0</td>\n",
       "      <td>0</td>\n",
       "      <td>1</td>\n",
       "    </tr>\n",
       "    <tr>\n",
       "      <th>27806</th>\n",
       "      <td>-0.067559</td>\n",
       "      <td>-1.748181</td>\n",
       "      <td>-1.420168</td>\n",
       "      <td>-1.594824</td>\n",
       "      <td>-1.750667</td>\n",
       "      <td>-0.063588</td>\n",
       "      <td>-0.727928</td>\n",
       "      <td>-1.270532</td>\n",
       "      <td>0</td>\n",
       "      <td>0</td>\n",
       "      <td>...</td>\n",
       "      <td>0</td>\n",
       "      <td>0</td>\n",
       "      <td>0</td>\n",
       "      <td>0</td>\n",
       "      <td>0</td>\n",
       "      <td>0</td>\n",
       "      <td>0</td>\n",
       "      <td>0</td>\n",
       "      <td>0</td>\n",
       "      <td>1</td>\n",
       "    </tr>\n",
       "    <tr>\n",
       "      <th>186263</th>\n",
       "      <td>1.945779</td>\n",
       "      <td>0.988620</td>\n",
       "      <td>0.710319</td>\n",
       "      <td>1.095297</td>\n",
       "      <td>0.992592</td>\n",
       "      <td>1.981127</td>\n",
       "      <td>-0.154645</td>\n",
       "      <td>-0.394644</td>\n",
       "      <td>0</td>\n",
       "      <td>0</td>\n",
       "      <td>...</td>\n",
       "      <td>0</td>\n",
       "      <td>0</td>\n",
       "      <td>0</td>\n",
       "      <td>0</td>\n",
       "      <td>0</td>\n",
       "      <td>0</td>\n",
       "      <td>0</td>\n",
       "      <td>0</td>\n",
       "      <td>0</td>\n",
       "      <td>1</td>\n",
       "    </tr>\n",
       "    <tr>\n",
       "      <th>310366</th>\n",
       "      <td>-1.230738</td>\n",
       "      <td>-0.249903</td>\n",
       "      <td>-0.449291</td>\n",
       "      <td>-0.157135</td>\n",
       "      <td>-0.248853</td>\n",
       "      <td>-1.244895</td>\n",
       "      <td>-0.154645</td>\n",
       "      <td>0.166730</td>\n",
       "      <td>0</td>\n",
       "      <td>1</td>\n",
       "      <td>...</td>\n",
       "      <td>0</td>\n",
       "      <td>0</td>\n",
       "      <td>0</td>\n",
       "      <td>0</td>\n",
       "      <td>0</td>\n",
       "      <td>0</td>\n",
       "      <td>0</td>\n",
       "      <td>0</td>\n",
       "      <td>0</td>\n",
       "      <td>1</td>\n",
       "    </tr>\n",
       "  </tbody>\n",
       "</table>\n",
       "<p>5 rows × 46 columns</p>\n",
       "</div>"
      ],
      "text/plain": [
       "            goal   pledged   backers  usd pledged  usd_pledged_real  \\\n",
       "215192 -0.609810  0.570121  0.345254     0.683936          0.573106   \n",
       "352840 -2.270686 -1.748181 -1.420168    -1.594824         -1.750667   \n",
       "27806  -0.067559 -1.748181 -1.420168    -1.594824         -1.750667   \n",
       "186263  1.945779  0.988620  0.710319     1.095297          0.992592   \n",
       "310366 -1.230738 -0.249903 -0.449291    -0.157135         -0.248853   \n",
       "\n",
       "        usd_goal_real  days_until_deadline  percent_achieved_real  \\\n",
       "215192      -0.614290            -1.070987               0.933229   \n",
       "352840      -2.301050            -3.893457              -1.270532   \n",
       "27806       -0.063588            -0.727928              -1.270532   \n",
       "186263       1.981127            -0.154645              -0.394644   \n",
       "310366      -1.244895            -0.154645               0.166730   \n",
       "\n",
       "        main_category_Art  main_category_Comics  ...  country_IT  country_JP  \\\n",
       "215192                  0                     0  ...           0           0   \n",
       "352840                  0                     0  ...           0           0   \n",
       "27806                   0                     0  ...           0           0   \n",
       "186263                  0                     0  ...           0           0   \n",
       "310366                  0                     1  ...           0           0   \n",
       "\n",
       "        country_LU  country_MX  country_NL  country_NO  country_NZ  \\\n",
       "215192           0           0           0           0           0   \n",
       "352840           0           0           0           0           0   \n",
       "27806            0           0           0           0           0   \n",
       "186263           0           0           0           0           0   \n",
       "310366           0           0           0           0           0   \n",
       "\n",
       "        country_SE  country_SG  country_US  \n",
       "215192           0           0           1  \n",
       "352840           0           0           1  \n",
       "27806            0           0           1  \n",
       "186263           0           0           1  \n",
       "310366           0           0           1  \n",
       "\n",
       "[5 rows x 46 columns]"
      ]
     },
     "metadata": {},
     "output_type": "display_data"
    },
    {
     "data": {
      "text/html": [
       "<div>\n",
       "<style scoped>\n",
       "    .dataframe tbody tr th:only-of-type {\n",
       "        vertical-align: middle;\n",
       "    }\n",
       "\n",
       "    .dataframe tbody tr th {\n",
       "        vertical-align: top;\n",
       "    }\n",
       "\n",
       "    .dataframe thead th {\n",
       "        text-align: right;\n",
       "    }\n",
       "</style>\n",
       "<table border=\"1\" class=\"dataframe\">\n",
       "  <thead>\n",
       "    <tr style=\"text-align: right;\">\n",
       "      <th></th>\n",
       "      <th>state</th>\n",
       "    </tr>\n",
       "  </thead>\n",
       "  <tbody>\n",
       "    <tr>\n",
       "      <th>215192</th>\n",
       "      <td>1</td>\n",
       "    </tr>\n",
       "    <tr>\n",
       "      <th>352840</th>\n",
       "      <td>0</td>\n",
       "    </tr>\n",
       "    <tr>\n",
       "      <th>27806</th>\n",
       "      <td>0</td>\n",
       "    </tr>\n",
       "    <tr>\n",
       "      <th>186263</th>\n",
       "      <td>0</td>\n",
       "    </tr>\n",
       "    <tr>\n",
       "      <th>310366</th>\n",
       "      <td>0</td>\n",
       "    </tr>\n",
       "  </tbody>\n",
       "</table>\n",
       "</div>"
      ],
      "text/plain": [
       "        state\n",
       "215192      1\n",
       "352840      0\n",
       "27806       0\n",
       "186263      0\n",
       "310366      0"
      ]
     },
     "metadata": {},
     "output_type": "display_data"
    }
   ],
   "source": [
    "display(X_train.head(), y_train.head())"
   ]
  },
  {
   "cell_type": "markdown",
   "metadata": {},
   "source": [
    "### 1. Decision Forest Classifier"
   ]
  },
  {
   "cell_type": "code",
   "execution_count": 4,
   "metadata": {
    "ExecuteTime": {
     "end_time": "2020-10-20T21:35:03.770779Z",
     "start_time": "2020-10-20T21:35:03.662763Z"
    }
   },
   "outputs": [],
   "source": [
    "from sklearn import tree, metrics"
   ]
  },
  {
   "cell_type": "code",
   "execution_count": 5,
   "metadata": {
    "ExecuteTime": {
     "end_time": "2020-10-20T21:35:06.736163Z",
     "start_time": "2020-10-20T21:35:03.772780Z"
    }
   },
   "outputs": [],
   "source": [
    "baseline = tree.DecisionTreeClassifier(criterion = 'entropy')\n",
    "baseline.fit(X_train, y_train)\n",
    "\n",
    "baseline_pred = baseline.predict(X_test)"
   ]
  },
  {
   "cell_type": "code",
   "execution_count": 42,
   "metadata": {
    "ExecuteTime": {
     "end_time": "2020-10-21T01:29:22.099883Z",
     "start_time": "2020-10-21T01:29:22.091894Z"
    }
   },
   "outputs": [],
   "source": [
    "def score_model(model, prediction):\n",
    "    acc = metrics.accuracy_score(y_test, prediction)\n",
    "    bal_acc = metrics.balanced_accuracy_score(y_test, prediction)\n",
    "    precision = metrics.precision_score(y_test, prediction, pos_label = 1)\n",
    "    recall = metrics.recall_score(y_test, prediction, pos_label = 1)\n",
    "    \n",
    "    print(f'Accuracy: {acc:.4f}')\n",
    "    print(f'Balanced Accuracy: {bal_acc:.4f}')\n",
    "    print(f'Precision score for yes: {precision:.4f}')\n",
    "    print(f'Recall score for yes: {recall:.4f}')\n",
    "    \n",
    "    class_labels = model.classes_.astype(str)\n",
    "    \n",
    "    print(metrics.classification_report(y_test, prediction))\n",
    "    \n",
    "    metrics.plot_confusion_matrix(model, X_test, y_test, display_labels = class_labels)\n",
    "    plt.show()\n",
    "    \n",
    "    return"
   ]
  },
  {
   "cell_type": "code",
   "execution_count": 7,
   "metadata": {
    "ExecuteTime": {
     "end_time": "2020-10-20T21:35:07.242147Z",
     "start_time": "2020-10-20T21:35:06.758163Z"
    },
    "scrolled": false
   },
   "outputs": [
    {
     "name": "stdout",
     "output_type": "stream",
     "text": [
      "Baseline Decision Tree Model\n",
      "Accuracy: 0.9961\n",
      "Balanced Accuracy: 0.9958\n",
      "Precision score for yes: 0.9946\n",
      "Recall score for yes: 0.9945\n",
      "              precision    recall  f1-score   support\n",
      "\n",
      "           0       1.00      1.00      1.00     47133\n",
      "           1       0.99      0.99      0.99     26349\n",
      "\n",
      "    accuracy                           1.00     73482\n",
      "   macro avg       1.00      1.00      1.00     73482\n",
      "weighted avg       1.00      1.00      1.00     73482\n",
      "\n"
     ]
    },
    {
     "data": {
      "image/png": "[encoded data removed]",
      "text/plain": [
       "<Figure size 432x288 with 2 Axes>"
      ]
     },
     "metadata": {
      "needs_background": "light"
     },
     "output_type": "display_data"
    }
   ],
   "source": [
    "print(\"Baseline Decision Tree Model\")\n",
    "score_model(baseline, baseline_pred)"
   ]
  },
  {
   "cell_type": "markdown",
   "metadata": {},
   "source": [
    "From the baseline Decision Tree model, we are able to accurately predict whether Kickstarter projects will reach their goal or not. However, with such good results, it seems like this could be too good to be true. To make sure, I will try hyperparameter tuning and other models to further optimize the model."
   ]
  },
  {
   "cell_type": "code",
   "execution_count": 8,
   "metadata": {
    "ExecuteTime": {
     "end_time": "2020-10-20T21:35:07.258147Z",
     "start_time": "2020-10-20T21:35:07.244147Z"
    },
    "scrolled": true
   },
   "outputs": [
    {
     "data": {
      "text/plain": [
       "35"
      ]
     },
     "execution_count": 8,
     "metadata": {},
     "output_type": "execute_result"
    }
   ],
   "source": [
    "baseline.get_depth()"
   ]
  },
  {
   "cell_type": "markdown",
   "metadata": {},
   "source": [
    "### 1a. Hyperparameter Tuning for Decision Tree"
   ]
  },
  {
   "cell_type": "code",
   "execution_count": 37,
   "metadata": {
    "ExecuteTime": {
     "end_time": "2020-10-21T00:44:16.508699Z",
     "start_time": "2020-10-21T00:44:16.498689Z"
    }
   },
   "outputs": [],
   "source": [
    "from sklearn.model_selection import RandomizedSearchCV\n",
    "\n",
    "def tune_model(model, param_grid):\n",
    "    model_randomsearch = RandomizedSearchCV(model, param_grid, cv = 5)\n",
    "    \n",
    "    model_randomsearch.fit(X_train, y_train.values.ravel())\n",
    "    \n",
    "    print(f'Optimal hyperparameters: {model_randomsearch.best_params_}')\n",
    "    \n",
    "    tuned_pred = model_randomsearch.predict(X_test)\n",
    "    \n",
    "    return model_randomsearch, tuned_pred"
   ]
  },
  {
   "cell_type": "code",
   "execution_count": 38,
   "metadata": {
    "ExecuteTime": {
     "end_time": "2020-10-21T00:44:40.455542Z",
     "start_time": "2020-10-21T00:44:19.289201Z"
    }
   },
   "outputs": [
    {
     "name": "stdout",
     "output_type": "stream",
     "text": [
      "Optimal hyperparameters: {'max_features': 9, 'max_depth': 20, 'criterion': 'gini'}\n"
     ]
    }
   ],
   "source": [
    "params = {'max_depth': [10,20,30,40, None],\n",
    "          'criterion': ['gini', 'entropy'],\n",
    "          'max_features': np.arange(1,10)}\n",
    "\n",
    "clf = tree.DecisionTreeClassifier()\n",
    "\n",
    "tree_cv, tree_cv_pred = tune_model(clf, params)"
   ]
  },
  {
   "cell_type": "code",
   "execution_count": 39,
   "metadata": {
    "ExecuteTime": {
     "end_time": "2020-10-21T00:44:46.755300Z",
     "start_time": "2020-10-21T00:44:46.371313Z"
    }
   },
   "outputs": [
    {
     "name": "stdout",
     "output_type": "stream",
     "text": [
      "Hyperparameter Tuned Decision Tree Model\n",
      "Accuracy: 0.9960\n",
      "Balanced Accuracy: 0.9958\n",
      "Precision score for yes: 0.9938\n",
      "Recall score for yes: 0.9951\n",
      "              precision    recall  f1-score   support\n",
      "\n",
      "           0       1.00      1.00      1.00     47133\n",
      "           1       0.99      1.00      0.99     26349\n",
      "\n",
      "    accuracy                           1.00     73482\n",
      "   macro avg       1.00      1.00      1.00     73482\n",
      "weighted avg       1.00      1.00      1.00     73482\n",
      "\n"
     ]
    },
    {
     "data": {
      "image/png": "[encoded data removed]",
      "text/plain": [
       "<Figure size 432x288 with 2 Axes>"
      ]
     },
     "metadata": {
      "needs_background": "light"
     },
     "output_type": "display_data"
    }
   ],
   "source": [
    "print('Hyperparameter Tuned Decision Tree Model')\n",
    "score_model(tree_cv, tree_cv_pred)"
   ]
  },
  {
   "cell_type": "markdown",
   "metadata": {},
   "source": [
    "Using `RandomizedSearchCV` only performed slightly worse than the baseline model. The results are still outstanding for a classifier, scoring 0.9939 and 0.9940 for precision and recall, respectively. "
   ]
  },
  {
   "cell_type": "markdown",
   "metadata": {},
   "source": [
    "### 2. Random Forest"
   ]
  },
  {
   "cell_type": "code",
   "execution_count": 13,
   "metadata": {
    "ExecuteTime": {
     "end_time": "2020-10-20T21:36:18.704218Z",
     "start_time": "2020-10-20T21:35:36.092724Z"
    }
   },
   "outputs": [],
   "source": [
    "from sklearn.ensemble import RandomForestClassifier\n",
    "\n",
    "base_forest = RandomForestClassifier(n_estimators = 300, n_jobs = -1)\n",
    "base_forest.fit(X_train, y_train.values.ravel())\n",
    "\n",
    "base_forest_pred = base_forest.predict(X_test)"
   ]
  },
  {
   "cell_type": "code",
   "execution_count": 14,
   "metadata": {
    "ExecuteTime": {
     "end_time": "2020-10-20T21:36:20.351490Z",
     "start_time": "2020-10-20T21:36:18.706217Z"
    }
   },
   "outputs": [
    {
     "name": "stdout",
     "output_type": "stream",
     "text": [
      "Base Random Forest Model\n",
      "Accuracy: 0.9979\n",
      "Balanced Accuracy: 0.9983\n",
      "Precision score for yes: 0.9944\n",
      "Recall score for yes: 0.9998\n",
      "              precision    recall  f1-score   support\n",
      "\n",
      "           0       1.00      1.00      1.00     47133\n",
      "           1       0.99      1.00      1.00     26349\n",
      "\n",
      "    accuracy                           1.00     73482\n",
      "   macro avg       1.00      1.00      1.00     73482\n",
      "weighted avg       1.00      1.00      1.00     73482\n",
      "\n"
     ]
    },
    {
     "data": {
      "image/png": "[encoded data removed]",
      "text/plain": [
       "<Figure size 432x288 with 2 Axes>"
      ]
     },
     "metadata": {
      "needs_background": "light"
     },
     "output_type": "display_data"
    }
   ],
   "source": [
    "print('Base Random Forest Model')\n",
    "score_model(base_forest, base_forest_pred)"
   ]
  },
  {
   "cell_type": "markdown",
   "metadata": {},
   "source": [
    "The baseline Random Forest model performed significantly better than the past two decision tree models which was expected, as a Random Forest is an ensemble of multiple Decision Trees working simultaneously. Because this model is already performing extremely well, this model will stay as is without hyperparameter tuning."
   ]
  },
  {
   "cell_type": "code",
   "execution_count": 15,
   "metadata": {
    "ExecuteTime": {
     "end_time": "2020-10-20T21:36:20.702192Z",
     "start_time": "2020-10-20T21:36:20.355165Z"
    }
   },
   "outputs": [
    {
     "data": {
      "image/png": "[encoded data removed]",
      "text/plain": [
       "<Figure size 576x576 with 1 Axes>"
      ]
     },
     "metadata": {
      "needs_background": "light"
     },
     "output_type": "display_data"
    }
   ],
   "source": [
    "feature_importance = base_forest.feature_importances_\n",
    "feature_importance = 100*(feature_importance / max(feature_importance))[:20]\n",
    "sorted_idx = np.argsort(feature_importance)[:20]\n",
    "\n",
    "pos = np.arange(sorted_idx.shape[0]) + .5\n",
    "plt.figure(figsize = (8,8))\n",
    "plt.barh(pos, feature_importance[sorted_idx], align = 'center')\n",
    "plt.yticks(pos, X_train.columns[sorted_idx])\n",
    "plt.title('Relative Importance of Features')\n",
    "plt.xlabel('Relative Importance')\n",
    "plt.ylabel('Features')\n",
    "plt.show()"
   ]
  },
  {
   "cell_type": "markdown",
   "metadata": {},
   "source": [
    "From the graph above, it can be seen that the most important feature in terms of predicting whether the project's goal will be met is `percent_achieved_real`. This makes sense as the higher the percent is, the more likely the project goal will be achieved, and vice versa. No other feature has a strong of a correlation as `percent_achieved_real`. After the 8th most important feature, the features are the one hot encoded main category features with almost 0 relative importance. This means that the main category of a Kickstarter project has minimal impact on how this model made its predictions. "
   ]
  },
  {
   "cell_type": "markdown",
   "metadata": {},
   "source": [
    "### 3. Gradient Boosting Classifier"
   ]
  },
  {
   "cell_type": "code",
   "execution_count": 31,
   "metadata": {
    "ExecuteTime": {
     "end_time": "2020-10-20T21:47:45.009377Z",
     "start_time": "2020-10-20T21:46:15.688460Z"
    }
   },
   "outputs": [
    {
     "name": "stdout",
     "output_type": "stream",
     "text": [
      "Accuracy: 0.9979\n",
      "Balanced Accuracy: 0.9983\n",
      "Precision score for yes: 0.9945\n",
      "Recall score for yes: 0.9997\n",
      "              precision    recall  f1-score   support\n",
      "\n",
      "           0       1.00      1.00      1.00     47133\n",
      "           1       0.99      1.00      1.00     26349\n",
      "\n",
      "    accuracy                           1.00     73482\n",
      "   macro avg       1.00      1.00      1.00     73482\n",
      "weighted avg       1.00      1.00      1.00     73482\n",
      "\n"
     ]
    },
    {
     "data": {
      "image/png": "[encoded data removed]",
      "text/plain": [
       "<Figure size 432x288 with 2 Axes>"
      ]
     },
     "metadata": {
      "needs_background": "light"
     },
     "output_type": "display_data"
    }
   ],
   "source": [
    "from sklearn.ensemble import GradientBoostingClassifier\n",
    "\n",
    "base_gbm = GradientBoostingClassifier()\n",
    "base_gbm.fit(X_train, y_train.values.ravel())\n",
    "\n",
    "base_gbm_pred = base_gbm.predict(X_test)\n",
    "\n",
    "score_model(base_gbm, base_gbm_pred)"
   ]
  },
  {
   "cell_type": "markdown",
   "metadata": {},
   "source": [
    "### 3a. Hyperparameter Tuning for Gradient Boosting Classifier"
   ]
  },
  {
   "cell_type": "code",
   "execution_count": 40,
   "metadata": {
    "ExecuteTime": {
     "end_time": "2020-10-21T01:07:10.425723Z",
     "start_time": "2020-10-21T00:44:49.921776Z"
    }
   },
   "outputs": [
    {
     "name": "stdout",
     "output_type": "stream",
     "text": [
      "Optimal hyperparameters: {'n_estimators': 30, 'learning_rate': 0.05}\n"
     ]
    }
   ],
   "source": [
    "params = {'learning_rate': np.arange(0.05,0.2,0.05),\n",
    "          'n_estimators': np.arange(20,81,10)}\n",
    "\n",
    "bgm = GradientBoostingClassifier()\n",
    "\n",
    "bgm_cv, bgm_cv_pred = tune_model(bgm, params)"
   ]
  },
  {
   "cell_type": "code",
   "execution_count": 43,
   "metadata": {
    "ExecuteTime": {
     "end_time": "2020-10-21T01:29:24.578046Z",
     "start_time": "2020-10-21T01:29:24.103059Z"
    }
   },
   "outputs": [
    {
     "name": "stdout",
     "output_type": "stream",
     "text": [
      "Accuracy: 0.9980\n",
      "Balanced Accuracy: 0.9984\n",
      "Precision score for yes: 0.9945\n",
      "Recall score for yes: 1.0000\n",
      "              precision    recall  f1-score   support\n",
      "\n",
      "           0       1.00      1.00      1.00     47133\n",
      "           1       0.99      1.00      1.00     26349\n",
      "\n",
      "    accuracy                           1.00     73482\n",
      "   macro avg       1.00      1.00      1.00     73482\n",
      "weighted avg       1.00      1.00      1.00     73482\n",
      "\n"
     ]
    },
    {
     "data": {
      "image/png": "[encoded data removed]",
      "text/plain": [
       "<Figure size 432x288 with 2 Axes>"
      ]
     },
     "metadata": {
      "needs_background": "light"
     },
     "output_type": "display_data"
    }
   ],
   "source": [
    "score_model(bgm_cv, bgm_cv_pred)"
   ]
  },
  {
   "cell_type": "markdown",
   "metadata": {},
   "source": [
    "Tuning the hyperparameters of the Gradient Boosting Machine classifier resulted in only a slight improvement of its predicting power. There are still as many incorrectly predicted 0 labels but was able to correctly predict all projects that have met their goal. With the tuned hyperparameters, the Gradient Boosting classifier is the best performing model so far, even if it's by only an incremental amount."
   ]
  },
  {
   "cell_type": "markdown",
   "metadata": {},
   "source": [
    "### 4. K-Nearest Neighbors Classifier"
   ]
  },
  {
   "cell_type": "code",
   "execution_count": 45,
   "metadata": {
    "ExecuteTime": {
     "end_time": "2020-10-21T02:56:42.069799Z",
     "start_time": "2020-10-21T01:54:52.251005Z"
    }
   },
   "outputs": [],
   "source": [
    "from sklearn.neighbors import KNeighborsClassifier\n",
    "\n",
    "train_scores = []\n",
    "test_scores = []\n",
    "\n",
    "for i in range(1,11):\n",
    "    knn = KNeighborsClassifier(i)\n",
    "    knn.fit(X_train, y_train.values.ravel())\n",
    "    \n",
    "    train_scores.append(knn.score(X_train,y_train))\n",
    "    test_scores.append(knn.score(X_test,y_test))"
   ]
  },
  {
   "cell_type": "code",
   "execution_count": 57,
   "metadata": {
    "ExecuteTime": {
     "end_time": "2020-10-21T03:06:06.764765Z",
     "start_time": "2020-10-21T03:06:06.565781Z"
    }
   },
   "outputs": [
    {
     "data": {
      "image/png": "[encoded data removed]",
      "text/plain": [
       "<Figure size 504x360 with 1 Axes>"
      ]
     },
     "metadata": {
      "needs_background": "light"
     },
     "output_type": "display_data"
    }
   ],
   "source": [
    "plt.figure(figsize = (7,5))\n",
    "plt.plot(list(range(1,11)), train_scores, label = 'Train')\n",
    "plt.plot(list(range(1,11)), test_scores, label = 'Test')\n",
    "plt.xticks(list(range(1,11)))\n",
    "plt.xlabel('K neighbors')\n",
    "plt.ylabel('Score')\n",
    "plt.title('Train and Test Scores Using Various K-Neighbors')\n",
    "plt.legend()\n",
    "plt.show()"
   ]
  },
  {
   "cell_type": "markdown",
   "metadata": {},
   "source": [
    "Using "
   ]
  }
 ],
 "metadata": {
  "kernelspec": {
   "display_name": "Python 3",
   "language": "python",
   "name": "python3"
  },
  "language_info": {
   "codemirror_mode": {
    "name": "ipython",
    "version": 3
   },
   "file_extension": ".py",
   "mimetype": "text/x-python",
   "name": "python",
   "nbconvert_exporter": "python",
   "pygments_lexer": "ipython3",
   "version": "3.8.3"
  },
  "varInspector": {
   "cols": {
    "lenName": 16,
    "lenType": 16,
    "lenVar": 40
   },
   "kernels_config": {
    "python": {
     "delete_cmd_postfix": "",
     "delete_cmd_prefix": "del ",
     "library": "var_list.py",
     "varRefreshCmd": "print(var_dic_list())"
    },
    "r": {
     "delete_cmd_postfix": ") ",
     "delete_cmd_prefix": "rm(",
     "library": "var_list.r",
     "varRefreshCmd": "cat(var_dic_list()) "
    }
   },
   "types_to_exclude": [
    "module",
    "function",
    "builtin_function_or_method",
    "instance",
    "_Feature"
   ],
   "window_display": false
  }
 },
 "nbformat": 4,
 "nbformat_minor": 4
}
