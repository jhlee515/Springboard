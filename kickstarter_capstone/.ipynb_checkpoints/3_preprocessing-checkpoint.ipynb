{
 "cells": [
  {
   "cell_type": "markdown",
   "metadata": {},
   "source": [
    "### Importing necessary packages"
   ]
  },
  {
   "cell_type": "code",
   "execution_count": 1,
   "metadata": {
    "ExecuteTime": {
     "end_time": "2020-10-20T18:00:29.067810Z",
     "start_time": "2020-10-20T18:00:27.123965Z"
    }
   },
   "outputs": [],
   "source": [
    "import pandas as pd\n",
    "import numpy as np\n",
    "from sklearn.preprocessing import StandardScaler\n",
    "from sklearn.model_selection import train_test_split\n",
    "import seaborn as sns\n",
    "import matplotlib.pyplot as plt"
   ]
  },
  {
   "cell_type": "markdown",
   "metadata": {},
   "source": [
    "### Investigating dataset"
   ]
  },
  {
   "cell_type": "code",
   "execution_count": 2,
   "metadata": {
    "ExecuteTime": {
     "end_time": "2020-10-20T18:00:29.855786Z",
     "start_time": "2020-10-20T18:00:29.068812Z"
    }
   },
   "outputs": [
    {
     "data": {
      "text/html": [
       "<div>\n",
       "<style scoped>\n",
       "    .dataframe tbody tr th:only-of-type {\n",
       "        vertical-align: middle;\n",
       "    }\n",
       "\n",
       "    .dataframe tbody tr th {\n",
       "        vertical-align: top;\n",
       "    }\n",
       "\n",
       "    .dataframe thead th {\n",
       "        text-align: right;\n",
       "    }\n",
       "</style>\n",
       "<table border=\"1\" class=\"dataframe\">\n",
       "  <thead>\n",
       "    <tr style=\"text-align: right;\">\n",
       "      <th></th>\n",
       "      <th>category</th>\n",
       "      <th>main_category</th>\n",
       "      <th>currency</th>\n",
       "      <th>deadline</th>\n",
       "      <th>goal</th>\n",
       "      <th>launched</th>\n",
       "      <th>pledged</th>\n",
       "      <th>state</th>\n",
       "      <th>backers</th>\n",
       "      <th>country</th>\n",
       "      <th>usd pledged</th>\n",
       "      <th>usd_pledged_real</th>\n",
       "      <th>usd_goal_real</th>\n",
       "      <th>days_until_deadline</th>\n",
       "      <th>percent_achieved_real</th>\n",
       "    </tr>\n",
       "  </thead>\n",
       "  <tbody>\n",
       "    <tr>\n",
       "      <th>0</th>\n",
       "      <td>Poetry</td>\n",
       "      <td>Publishing</td>\n",
       "      <td>GBP</td>\n",
       "      <td>2015-10-09 00:00:00</td>\n",
       "      <td>1000.0</td>\n",
       "      <td>2015-08-11 12:12:28</td>\n",
       "      <td>0.0</td>\n",
       "      <td>0</td>\n",
       "      <td>0</td>\n",
       "      <td>GB</td>\n",
       "      <td>0.0</td>\n",
       "      <td>0.0</td>\n",
       "      <td>1533.95</td>\n",
       "      <td>58</td>\n",
       "      <td>0.000000</td>\n",
       "    </tr>\n",
       "    <tr>\n",
       "      <th>1</th>\n",
       "      <td>Narrative Film</td>\n",
       "      <td>Film &amp; Video</td>\n",
       "      <td>USD</td>\n",
       "      <td>2017-11-01 00:00:00</td>\n",
       "      <td>30000.0</td>\n",
       "      <td>2017-09-02 04:43:57</td>\n",
       "      <td>2421.0</td>\n",
       "      <td>0</td>\n",
       "      <td>15</td>\n",
       "      <td>US</td>\n",
       "      <td>100.0</td>\n",
       "      <td>2421.0</td>\n",
       "      <td>30000.00</td>\n",
       "      <td>59</td>\n",
       "      <td>8.070000</td>\n",
       "    </tr>\n",
       "    <tr>\n",
       "      <th>2</th>\n",
       "      <td>Narrative Film</td>\n",
       "      <td>Film &amp; Video</td>\n",
       "      <td>USD</td>\n",
       "      <td>2013-02-26 00:00:00</td>\n",
       "      <td>45000.0</td>\n",
       "      <td>2013-01-12 00:20:50</td>\n",
       "      <td>220.0</td>\n",
       "      <td>0</td>\n",
       "      <td>3</td>\n",
       "      <td>US</td>\n",
       "      <td>220.0</td>\n",
       "      <td>220.0</td>\n",
       "      <td>45000.00</td>\n",
       "      <td>44</td>\n",
       "      <td>0.488889</td>\n",
       "    </tr>\n",
       "    <tr>\n",
       "      <th>3</th>\n",
       "      <td>Music</td>\n",
       "      <td>Music</td>\n",
       "      <td>USD</td>\n",
       "      <td>2012-04-16 00:00:00</td>\n",
       "      <td>5000.0</td>\n",
       "      <td>2012-03-17 03:24:11</td>\n",
       "      <td>1.0</td>\n",
       "      <td>0</td>\n",
       "      <td>1</td>\n",
       "      <td>US</td>\n",
       "      <td>1.0</td>\n",
       "      <td>1.0</td>\n",
       "      <td>5000.00</td>\n",
       "      <td>29</td>\n",
       "      <td>0.020000</td>\n",
       "    </tr>\n",
       "    <tr>\n",
       "      <th>4</th>\n",
       "      <td>Film &amp; Video</td>\n",
       "      <td>Film &amp; Video</td>\n",
       "      <td>USD</td>\n",
       "      <td>2015-08-29 00:00:00</td>\n",
       "      <td>19500.0</td>\n",
       "      <td>2015-07-04 08:35:03</td>\n",
       "      <td>1283.0</td>\n",
       "      <td>0</td>\n",
       "      <td>14</td>\n",
       "      <td>US</td>\n",
       "      <td>1283.0</td>\n",
       "      <td>1283.0</td>\n",
       "      <td>19500.00</td>\n",
       "      <td>55</td>\n",
       "      <td>6.579487</td>\n",
       "    </tr>\n",
       "  </tbody>\n",
       "</table>\n",
       "</div>"
      ],
      "text/plain": [
       "         category main_category currency             deadline     goal  \\\n",
       "0          Poetry    Publishing      GBP  2015-10-09 00:00:00   1000.0   \n",
       "1  Narrative Film  Film & Video      USD  2017-11-01 00:00:00  30000.0   \n",
       "2  Narrative Film  Film & Video      USD  2013-02-26 00:00:00  45000.0   \n",
       "3           Music         Music      USD  2012-04-16 00:00:00   5000.0   \n",
       "4    Film & Video  Film & Video      USD  2015-08-29 00:00:00  19500.0   \n",
       "\n",
       "              launched  pledged  state  backers country  usd pledged  \\\n",
       "0  2015-08-11 12:12:28      0.0      0        0      GB          0.0   \n",
       "1  2017-09-02 04:43:57   2421.0      0       15      US        100.0   \n",
       "2  2013-01-12 00:20:50    220.0      0        3      US        220.0   \n",
       "3  2012-03-17 03:24:11      1.0      0        1      US          1.0   \n",
       "4  2015-07-04 08:35:03   1283.0      0       14      US       1283.0   \n",
       "\n",
       "   usd_pledged_real  usd_goal_real  days_until_deadline  percent_achieved_real  \n",
       "0               0.0        1533.95                   58               0.000000  \n",
       "1            2421.0       30000.00                   59               8.070000  \n",
       "2             220.0       45000.00                   44               0.488889  \n",
       "3               1.0        5000.00                   29               0.020000  \n",
       "4            1283.0       19500.00                   55               6.579487  "
      ]
     },
     "execution_count": 2,
     "metadata": {},
     "output_type": "execute_result"
    }
   ],
   "source": [
    "df = pd.read_csv('data/after_eda.csv', index_col = 0)\n",
    "df.head()"
   ]
  },
  {
   "cell_type": "code",
   "execution_count": 3,
   "metadata": {
    "ExecuteTime": {
     "end_time": "2020-10-20T18:00:29.966784Z",
     "start_time": "2020-10-20T18:00:29.857787Z"
    }
   },
   "outputs": [
    {
     "name": "stdout",
     "output_type": "stream",
     "text": [
      "<class 'pandas.core.frame.DataFrame'>\n",
      "Int64Index: 370454 entries, 0 to 378660\n",
      "Data columns (total 15 columns):\n",
      " #   Column                 Non-Null Count   Dtype  \n",
      "---  ------                 --------------   -----  \n",
      " 0   category               370454 non-null  object \n",
      " 1   main_category          370454 non-null  object \n",
      " 2   currency               370454 non-null  object \n",
      " 3   deadline               370454 non-null  object \n",
      " 4   goal                   370454 non-null  float64\n",
      " 5   launched               370454 non-null  object \n",
      " 6   pledged                370454 non-null  float64\n",
      " 7   state                  370454 non-null  int64  \n",
      " 8   backers                370454 non-null  int64  \n",
      " 9   country                370454 non-null  object \n",
      " 10  usd pledged            370454 non-null  float64\n",
      " 11  usd_pledged_real       370454 non-null  float64\n",
      " 12  usd_goal_real          370454 non-null  float64\n",
      " 13  days_until_deadline    370454 non-null  int64  \n",
      " 14  percent_achieved_real  370454 non-null  float64\n",
      "dtypes: float64(6), int64(3), object(6)\n",
      "memory usage: 45.2+ MB\n"
     ]
    }
   ],
   "source": [
    "df.info()"
   ]
  },
  {
   "cell_type": "markdown",
   "metadata": {},
   "source": [
    "### Tasks:\n",
    "1. Scale numerical columns\n",
    "2. Categorical encoding for non-numerical columns"
   ]
  },
  {
   "cell_type": "code",
   "execution_count": 4,
   "metadata": {
    "ExecuteTime": {
     "end_time": "2020-10-20T18:00:32.189714Z",
     "start_time": "2020-10-20T18:00:29.968783Z"
    },
    "scrolled": true
   },
   "outputs": [
    {
     "data": {
      "image/png": "[encoded data removed]",
      "text/plain": [
       "<Figure size 432x288 with 1 Axes>"
      ]
     },
     "metadata": {
      "needs_background": "light"
     },
     "output_type": "display_data"
    },
    {
     "data": {
      "image/png": "[encoded data removed]",
      "text/plain": [
       "<Figure size 432x288 with 1 Axes>"
      ]
     },
     "metadata": {
      "needs_background": "light"
     },
     "output_type": "display_data"
    },
    {
     "data": {
      "image/png": "[encoded data removed]",
      "text/plain": [
       "<Figure size 432x288 with 1 Axes>"
      ]
     },
     "metadata": {
      "needs_background": "light"
     },
     "output_type": "display_data"
    },
    {
     "data": {
      "image/png": "[encoded data removed]",
      "text/plain": [
       "<Figure size 432x288 with 1 Axes>"
      ]
     },
     "metadata": {
      "needs_background": "light"
     },
     "output_type": "display_data"
    },
    {
     "data": {
      "image/png": "[encoded data removed]",
      "text/plain": [
       "<Figure size 432x288 with 1 Axes>"
      ]
     },
     "metadata": {
      "needs_background": "light"
     },
     "output_type": "display_data"
    },
    {
     "data": {
      "image/png": "[encoded data removed]",
      "text/plain": [
       "<Figure size 432x288 with 1 Axes>"
      ]
     },
     "metadata": {
      "needs_background": "light"
     },
     "output_type": "display_data"
    },
    {
     "data": {
      "image/png": "[encoded data removed]",
      "text/plain": [
       "<Figure size 432x288 with 1 Axes>"
      ]
     },
     "metadata": {
      "needs_background": "light"
     },
     "output_type": "display_data"
    },
    {
     "data": {
      "image/png": "[encoded data removed]",
      "text/plain": [
       "<Figure size 432x288 with 1 Axes>"
      ]
     },
     "metadata": {
      "needs_background": "light"
     },
     "output_type": "display_data"
    }
   ],
   "source": [
    "numerical_cols = list(df.select_dtypes(['float64', 'int64']).drop('state', axis = 1).columns)\n",
    "\n",
    "for col in numerical_cols:\n",
    "    sns.distplot(df[col])\n",
    "    plt.show()"
   ]
  },
  {
   "cell_type": "markdown",
   "metadata": {
    "ExecuteTime": {
     "end_time": "2020-10-08T23:01:20.244810Z",
     "start_time": "2020-10-08T23:01:20.217810Z"
    }
   },
   "source": [
    "All of the numerical features (except for `state`) are heavily right skewed, which leaves me with two options of handling these features. I could either remove the extreme outliers or log-scale these features. I will try both methods to see what sort of distribution is obtained at the end."
   ]
  },
  {
   "cell_type": "markdown",
   "metadata": {},
   "source": [
    "### Removing outliers"
   ]
  },
  {
   "cell_type": "code",
   "execution_count": 5,
   "metadata": {
    "ExecuteTime": {
     "end_time": "2020-10-20T18:00:32.313710Z",
     "start_time": "2020-10-20T18:00:32.190714Z"
    }
   },
   "outputs": [
    {
     "data": {
      "text/plain": [
       "(367406, 15)"
      ]
     },
     "execution_count": 5,
     "metadata": {},
     "output_type": "execute_result"
    }
   ],
   "source": [
    "from scipy import stats\n",
    "\n",
    "z_score = abs(stats.zscore(df.select_dtypes(['int64', 'float64']).drop('state', axis = 1)))\n",
    "df_no_outliers = df[(z_score < 3).all(axis = 1)]\n",
    "df_no_outliers.shape"
   ]
  },
  {
   "cell_type": "code",
   "execution_count": 6,
   "metadata": {
    "ExecuteTime": {
     "end_time": "2020-10-20T18:00:34.579694Z",
     "start_time": "2020-10-20T18:00:32.315709Z"
    }
   },
   "outputs": [
    {
     "data": {
      "image/png": "[encoded data removed]",
      "text/plain": [
       "<Figure size 432x288 with 1 Axes>"
      ]
     },
     "metadata": {
      "needs_background": "light"
     },
     "output_type": "display_data"
    },
    {
     "data": {
      "image/png": "[encoded data removed]",
      "text/plain": [
       "<Figure size 432x288 with 1 Axes>"
      ]
     },
     "metadata": {
      "needs_background": "light"
     },
     "output_type": "display_data"
    },
    {
     "data": {
      "image/png": "[encoded data removed]",
      "text/plain": [
       "<Figure size 432x288 with 1 Axes>"
      ]
     },
     "metadata": {
      "needs_background": "light"
     },
     "output_type": "display_data"
    },
    {
     "data": {
      "image/png": "[encoded data removed]",
      "text/plain": [
       "<Figure size 432x288 with 1 Axes>"
      ]
     },
     "metadata": {
      "needs_background": "light"
     },
     "output_type": "display_data"
    },
    {
     "data": {
      "image/png": "[encoded data removed]",
      "text/plain": [
       "<Figure size 432x288 with 1 Axes>"
      ]
     },
     "metadata": {
      "needs_background": "light"
     },
     "output_type": "display_data"
    },
    {
     "data": {
      "image/png": "[encoded data removed]",
      "text/plain": [
       "<Figure size 432x288 with 1 Axes>"
      ]
     },
     "metadata": {
      "needs_background": "light"
     },
     "output_type": "display_data"
    },
    {
     "data": {
      "image/png": "[encoded data removed]",
      "text/plain": [
       "<Figure size 432x288 with 1 Axes>"
      ]
     },
     "metadata": {
      "needs_background": "light"
     },
     "output_type": "display_data"
    },
    {
     "data": {
      "image/png": "[encoded data removed]",
      "text/plain": [
       "<Figure size 432x288 with 1 Axes>"
      ]
     },
     "metadata": {
      "needs_background": "light"
     },
     "output_type": "display_data"
    }
   ],
   "source": [
    "for col in numerical_cols:\n",
    "    sns.distplot(df_no_outliers[col])\n",
    "    plt.show()"
   ]
  },
  {
   "cell_type": "markdown",
   "metadata": {},
   "source": [
    "Even after excluding the outliers, the distribution of the columns are very heavily right skewed. Because of this the numbers will be scaled using log transformation to obtain a more normal distribution"
   ]
  },
  {
   "cell_type": "code",
   "execution_count": 7,
   "metadata": {
    "ExecuteTime": {
     "end_time": "2020-10-20T18:00:34.656663Z",
     "start_time": "2020-10-20T18:00:34.582666Z"
    }
   },
   "outputs": [
    {
     "name": "stderr",
     "output_type": "stream",
     "text": [
      "<ipython-input-7-78b0ec081650>:2: SettingWithCopyWarning: \n",
      "A value is trying to be set on a copy of a slice from a DataFrame.\n",
      "Try using .loc[row_indexer,col_indexer] = value instead\n",
      "\n",
      "See the caveats in the documentation: https://pandas.pydata.org/pandas-docs/stable/user_guide/indexing.html#returning-a-view-versus-a-copy\n",
      "  df_no_outliers[col] = np.log1p(df_no_outliers[col])\n"
     ]
    }
   ],
   "source": [
    "for col in numerical_cols:\n",
    "    df_no_outliers[col] = np.log1p(df_no_outliers[col])"
   ]
  },
  {
   "cell_type": "code",
   "execution_count": 8,
   "metadata": {
    "ExecuteTime": {
     "end_time": "2020-10-20T18:00:34.703662Z",
     "start_time": "2020-10-20T18:00:34.659664Z"
    },
    "scrolled": true
   },
   "outputs": [
    {
     "data": {
      "text/html": [
       "<div>\n",
       "<style scoped>\n",
       "    .dataframe tbody tr th:only-of-type {\n",
       "        vertical-align: middle;\n",
       "    }\n",
       "\n",
       "    .dataframe tbody tr th {\n",
       "        vertical-align: top;\n",
       "    }\n",
       "\n",
       "    .dataframe thead th {\n",
       "        text-align: right;\n",
       "    }\n",
       "</style>\n",
       "<table border=\"1\" class=\"dataframe\">\n",
       "  <thead>\n",
       "    <tr style=\"text-align: right;\">\n",
       "      <th></th>\n",
       "      <th>category</th>\n",
       "      <th>main_category</th>\n",
       "      <th>currency</th>\n",
       "      <th>deadline</th>\n",
       "      <th>goal</th>\n",
       "      <th>launched</th>\n",
       "      <th>pledged</th>\n",
       "      <th>state</th>\n",
       "      <th>backers</th>\n",
       "      <th>country</th>\n",
       "      <th>usd pledged</th>\n",
       "      <th>usd_pledged_real</th>\n",
       "      <th>usd_goal_real</th>\n",
       "      <th>days_until_deadline</th>\n",
       "      <th>percent_achieved_real</th>\n",
       "    </tr>\n",
       "  </thead>\n",
       "  <tbody>\n",
       "    <tr>\n",
       "      <th>0</th>\n",
       "      <td>Poetry</td>\n",
       "      <td>Publishing</td>\n",
       "      <td>GBP</td>\n",
       "      <td>2015-10-09 00:00:00</td>\n",
       "      <td>6.908755</td>\n",
       "      <td>2015-08-11 12:12:28</td>\n",
       "      <td>0.000000</td>\n",
       "      <td>0</td>\n",
       "      <td>0.000000</td>\n",
       "      <td>GB</td>\n",
       "      <td>0.000000</td>\n",
       "      <td>0.000000</td>\n",
       "      <td>7.336253</td>\n",
       "      <td>4.077537</td>\n",
       "      <td>0.000000</td>\n",
       "    </tr>\n",
       "    <tr>\n",
       "      <th>1</th>\n",
       "      <td>Narrative Film</td>\n",
       "      <td>Film &amp; Video</td>\n",
       "      <td>USD</td>\n",
       "      <td>2017-11-01 00:00:00</td>\n",
       "      <td>10.308986</td>\n",
       "      <td>2017-09-02 04:43:57</td>\n",
       "      <td>7.792349</td>\n",
       "      <td>0</td>\n",
       "      <td>2.772589</td>\n",
       "      <td>US</td>\n",
       "      <td>4.615121</td>\n",
       "      <td>7.792349</td>\n",
       "      <td>10.308986</td>\n",
       "      <td>4.094345</td>\n",
       "      <td>2.204972</td>\n",
       "    </tr>\n",
       "    <tr>\n",
       "      <th>2</th>\n",
       "      <td>Narrative Film</td>\n",
       "      <td>Film &amp; Video</td>\n",
       "      <td>USD</td>\n",
       "      <td>2013-02-26 00:00:00</td>\n",
       "      <td>10.714440</td>\n",
       "      <td>2013-01-12 00:20:50</td>\n",
       "      <td>5.398163</td>\n",
       "      <td>0</td>\n",
       "      <td>1.386294</td>\n",
       "      <td>US</td>\n",
       "      <td>5.398163</td>\n",
       "      <td>5.398163</td>\n",
       "      <td>10.714440</td>\n",
       "      <td>3.806662</td>\n",
       "      <td>0.398030</td>\n",
       "    </tr>\n",
       "    <tr>\n",
       "      <th>3</th>\n",
       "      <td>Music</td>\n",
       "      <td>Music</td>\n",
       "      <td>USD</td>\n",
       "      <td>2012-04-16 00:00:00</td>\n",
       "      <td>8.517393</td>\n",
       "      <td>2012-03-17 03:24:11</td>\n",
       "      <td>0.693147</td>\n",
       "      <td>0</td>\n",
       "      <td>0.693147</td>\n",
       "      <td>US</td>\n",
       "      <td>0.693147</td>\n",
       "      <td>0.693147</td>\n",
       "      <td>8.517393</td>\n",
       "      <td>3.401197</td>\n",
       "      <td>0.019803</td>\n",
       "    </tr>\n",
       "    <tr>\n",
       "      <th>4</th>\n",
       "      <td>Film &amp; Video</td>\n",
       "      <td>Film &amp; Video</td>\n",
       "      <td>USD</td>\n",
       "      <td>2015-08-29 00:00:00</td>\n",
       "      <td>9.878221</td>\n",
       "      <td>2015-07-04 08:35:03</td>\n",
       "      <td>7.157735</td>\n",
       "      <td>0</td>\n",
       "      <td>2.708050</td>\n",
       "      <td>US</td>\n",
       "      <td>7.157735</td>\n",
       "      <td>7.157735</td>\n",
       "      <td>9.878221</td>\n",
       "      <td>4.025352</td>\n",
       "      <td>2.025446</td>\n",
       "    </tr>\n",
       "    <tr>\n",
       "      <th>...</th>\n",
       "      <td>...</td>\n",
       "      <td>...</td>\n",
       "      <td>...</td>\n",
       "      <td>...</td>\n",
       "      <td>...</td>\n",
       "      <td>...</td>\n",
       "      <td>...</td>\n",
       "      <td>...</td>\n",
       "      <td>...</td>\n",
       "      <td>...</td>\n",
       "      <td>...</td>\n",
       "      <td>...</td>\n",
       "      <td>...</td>\n",
       "      <td>...</td>\n",
       "      <td>...</td>\n",
       "    </tr>\n",
       "    <tr>\n",
       "      <th>378656</th>\n",
       "      <td>Documentary</td>\n",
       "      <td>Film &amp; Video</td>\n",
       "      <td>USD</td>\n",
       "      <td>2014-10-17 00:00:00</td>\n",
       "      <td>10.819798</td>\n",
       "      <td>2014-09-17 02:35:30</td>\n",
       "      <td>3.258097</td>\n",
       "      <td>0</td>\n",
       "      <td>0.693147</td>\n",
       "      <td>US</td>\n",
       "      <td>3.258097</td>\n",
       "      <td>3.258097</td>\n",
       "      <td>10.819798</td>\n",
       "      <td>3.401197</td>\n",
       "      <td>0.048790</td>\n",
       "    </tr>\n",
       "    <tr>\n",
       "      <th>378657</th>\n",
       "      <td>Narrative Film</td>\n",
       "      <td>Film &amp; Video</td>\n",
       "      <td>USD</td>\n",
       "      <td>2011-07-19 00:00:00</td>\n",
       "      <td>7.313887</td>\n",
       "      <td>2011-06-22 03:35:14</td>\n",
       "      <td>5.049856</td>\n",
       "      <td>0</td>\n",
       "      <td>1.791759</td>\n",
       "      <td>US</td>\n",
       "      <td>5.049856</td>\n",
       "      <td>5.049856</td>\n",
       "      <td>7.313887</td>\n",
       "      <td>3.295837</td>\n",
       "      <td>2.427748</td>\n",
       "    </tr>\n",
       "    <tr>\n",
       "      <th>378658</th>\n",
       "      <td>Narrative Film</td>\n",
       "      <td>Film &amp; Video</td>\n",
       "      <td>USD</td>\n",
       "      <td>2010-08-16 00:00:00</td>\n",
       "      <td>9.615872</td>\n",
       "      <td>2010-07-01 19:40:30</td>\n",
       "      <td>3.044522</td>\n",
       "      <td>0</td>\n",
       "      <td>0.693147</td>\n",
       "      <td>US</td>\n",
       "      <td>3.044522</td>\n",
       "      <td>3.044522</td>\n",
       "      <td>9.615872</td>\n",
       "      <td>3.828641</td>\n",
       "      <td>0.125163</td>\n",
       "    </tr>\n",
       "    <tr>\n",
       "      <th>378659</th>\n",
       "      <td>Technology</td>\n",
       "      <td>Technology</td>\n",
       "      <td>USD</td>\n",
       "      <td>2016-02-13 00:00:00</td>\n",
       "      <td>9.615872</td>\n",
       "      <td>2016-01-13 18:13:53</td>\n",
       "      <td>5.303305</td>\n",
       "      <td>0</td>\n",
       "      <td>1.945910</td>\n",
       "      <td>US</td>\n",
       "      <td>5.303305</td>\n",
       "      <td>5.303305</td>\n",
       "      <td>9.615872</td>\n",
       "      <td>3.433987</td>\n",
       "      <td>0.847298</td>\n",
       "    </tr>\n",
       "    <tr>\n",
       "      <th>378660</th>\n",
       "      <td>Performance Art</td>\n",
       "      <td>Art</td>\n",
       "      <td>USD</td>\n",
       "      <td>2011-08-16 00:00:00</td>\n",
       "      <td>7.601402</td>\n",
       "      <td>2011-07-19 09:07:47</td>\n",
       "      <td>6.263398</td>\n",
       "      <td>0</td>\n",
       "      <td>2.890372</td>\n",
       "      <td>US</td>\n",
       "      <td>6.263398</td>\n",
       "      <td>6.263398</td>\n",
       "      <td>7.601402</td>\n",
       "      <td>3.332205</td>\n",
       "      <td>3.303217</td>\n",
       "    </tr>\n",
       "  </tbody>\n",
       "</table>\n",
       "<p>367406 rows × 15 columns</p>\n",
       "</div>"
      ],
      "text/plain": [
       "               category main_category currency             deadline  \\\n",
       "0                Poetry    Publishing      GBP  2015-10-09 00:00:00   \n",
       "1        Narrative Film  Film & Video      USD  2017-11-01 00:00:00   \n",
       "2        Narrative Film  Film & Video      USD  2013-02-26 00:00:00   \n",
       "3                 Music         Music      USD  2012-04-16 00:00:00   \n",
       "4          Film & Video  Film & Video      USD  2015-08-29 00:00:00   \n",
       "...                 ...           ...      ...                  ...   \n",
       "378656      Documentary  Film & Video      USD  2014-10-17 00:00:00   \n",
       "378657   Narrative Film  Film & Video      USD  2011-07-19 00:00:00   \n",
       "378658   Narrative Film  Film & Video      USD  2010-08-16 00:00:00   \n",
       "378659       Technology    Technology      USD  2016-02-13 00:00:00   \n",
       "378660  Performance Art           Art      USD  2011-08-16 00:00:00   \n",
       "\n",
       "             goal             launched   pledged  state   backers country  \\\n",
       "0        6.908755  2015-08-11 12:12:28  0.000000      0  0.000000      GB   \n",
       "1       10.308986  2017-09-02 04:43:57  7.792349      0  2.772589      US   \n",
       "2       10.714440  2013-01-12 00:20:50  5.398163      0  1.386294      US   \n",
       "3        8.517393  2012-03-17 03:24:11  0.693147      0  0.693147      US   \n",
       "4        9.878221  2015-07-04 08:35:03  7.157735      0  2.708050      US   \n",
       "...           ...                  ...       ...    ...       ...     ...   \n",
       "378656  10.819798  2014-09-17 02:35:30  3.258097      0  0.693147      US   \n",
       "378657   7.313887  2011-06-22 03:35:14  5.049856      0  1.791759      US   \n",
       "378658   9.615872  2010-07-01 19:40:30  3.044522      0  0.693147      US   \n",
       "378659   9.615872  2016-01-13 18:13:53  5.303305      0  1.945910      US   \n",
       "378660   7.601402  2011-07-19 09:07:47  6.263398      0  2.890372      US   \n",
       "\n",
       "        usd pledged  usd_pledged_real  usd_goal_real  days_until_deadline  \\\n",
       "0          0.000000          0.000000       7.336253             4.077537   \n",
       "1          4.615121          7.792349      10.308986             4.094345   \n",
       "2          5.398163          5.398163      10.714440             3.806662   \n",
       "3          0.693147          0.693147       8.517393             3.401197   \n",
       "4          7.157735          7.157735       9.878221             4.025352   \n",
       "...             ...               ...            ...                  ...   \n",
       "378656     3.258097          3.258097      10.819798             3.401197   \n",
       "378657     5.049856          5.049856       7.313887             3.295837   \n",
       "378658     3.044522          3.044522       9.615872             3.828641   \n",
       "378659     5.303305          5.303305       9.615872             3.433987   \n",
       "378660     6.263398          6.263398       7.601402             3.332205   \n",
       "\n",
       "        percent_achieved_real  \n",
       "0                    0.000000  \n",
       "1                    2.204972  \n",
       "2                    0.398030  \n",
       "3                    0.019803  \n",
       "4                    2.025446  \n",
       "...                       ...  \n",
       "378656               0.048790  \n",
       "378657               2.427748  \n",
       "378658               0.125163  \n",
       "378659               0.847298  \n",
       "378660               3.303217  \n",
       "\n",
       "[367406 rows x 15 columns]"
      ]
     },
     "execution_count": 8,
     "metadata": {},
     "output_type": "execute_result"
    }
   ],
   "source": [
    "df_no_outliers"
   ]
  },
  {
   "cell_type": "code",
   "execution_count": 9,
   "metadata": {
    "ExecuteTime": {
     "end_time": "2020-10-20T18:00:36.973591Z",
     "start_time": "2020-10-20T18:00:34.705662Z"
    },
    "scrolled": true
   },
   "outputs": [
    {
     "data": {
      "image/png": "[encoded data removed]",
      "text/plain": [
       "<Figure size 432x288 with 1 Axes>"
      ]
     },
     "metadata": {
      "needs_background": "light"
     },
     "output_type": "display_data"
    },
    {
     "data": {
      "image/png": "[encoded data removed]",
      "text/plain": [
       "<Figure size 432x288 with 1 Axes>"
      ]
     },
     "metadata": {
      "needs_background": "light"
     },
     "output_type": "display_data"
    },
    {
     "data": {
      "image/png": "[encoded data removed]",
      "text/plain": [
       "<Figure size 432x288 with 1 Axes>"
      ]
     },
     "metadata": {
      "needs_background": "light"
     },
     "output_type": "display_data"
    },
    {
     "data": {
      "image/png": "[encoded data removed]",
      "text/plain": [
       "<Figure size 432x288 with 1 Axes>"
      ]
     },
     "metadata": {
      "needs_background": "light"
     },
     "output_type": "display_data"
    },
    {
     "data": {
      "image/png": "[encoded data removed]",
      "text/plain": [
       "<Figure size 432x288 with 1 Axes>"
      ]
     },
     "metadata": {
      "needs_background": "light"
     },
     "output_type": "display_data"
    },
    {
     "data": {
      "image/png": "[encoded data removed]",
      "text/plain": [
       "<Figure size 432x288 with 1 Axes>"
      ]
     },
     "metadata": {
      "needs_background": "light"
     },
     "output_type": "display_data"
    },
    {
     "data": {
      "image/png": "[encoded data removed]",
      "text/plain": [
       "<Figure size 432x288 with 1 Axes>"
      ]
     },
     "metadata": {
      "needs_background": "light"
     },
     "output_type": "display_data"
    },
    {
     "data": {
      "image/png": "[encoded data removed]",
      "text/plain": [
       "<Figure size 432x288 with 1 Axes>"
      ]
     },
     "metadata": {
      "needs_background": "light"
     },
     "output_type": "display_data"
    }
   ],
   "source": [
    "for col in numerical_cols:\n",
    "    sns.distplot(df_no_outliers[col])\n",
    "    plt.show()"
   ]
  },
  {
   "cell_type": "markdown",
   "metadata": {
    "ExecuteTime": {
     "end_time": "2020-10-12T20:25:38.830607Z",
     "start_time": "2020-10-12T20:25:38.800598Z"
    }
   },
   "source": [
    "### Drop redundant/irrelevant columns"
   ]
  },
  {
   "cell_type": "code",
   "execution_count": 10,
   "metadata": {
    "ExecuteTime": {
     "end_time": "2020-10-20T18:00:37.037589Z",
     "start_time": "2020-10-20T18:00:36.975591Z"
    }
   },
   "outputs": [
    {
     "name": "stderr",
     "output_type": "stream",
     "text": [
      "C:\\Users\\Ji Ho\\anaconda3\\lib\\site-packages\\pandas\\core\\frame.py:3990: SettingWithCopyWarning: \n",
      "A value is trying to be set on a copy of a slice from a DataFrame\n",
      "\n",
      "See the caveats in the documentation: https://pandas.pydata.org/pandas-docs/stable/user_guide/indexing.html#returning-a-view-versus-a-copy\n",
      "  return super().drop(\n"
     ]
    },
    {
     "data": {
      "text/html": [
       "<div>\n",
       "<style scoped>\n",
       "    .dataframe tbody tr th:only-of-type {\n",
       "        vertical-align: middle;\n",
       "    }\n",
       "\n",
       "    .dataframe tbody tr th {\n",
       "        vertical-align: top;\n",
       "    }\n",
       "\n",
       "    .dataframe thead th {\n",
       "        text-align: right;\n",
       "    }\n",
       "</style>\n",
       "<table border=\"1\" class=\"dataframe\">\n",
       "  <thead>\n",
       "    <tr style=\"text-align: right;\">\n",
       "      <th></th>\n",
       "      <th>main_category</th>\n",
       "      <th>goal</th>\n",
       "      <th>pledged</th>\n",
       "      <th>state</th>\n",
       "      <th>backers</th>\n",
       "      <th>country</th>\n",
       "      <th>usd pledged</th>\n",
       "      <th>usd_pledged_real</th>\n",
       "      <th>usd_goal_real</th>\n",
       "      <th>days_until_deadline</th>\n",
       "      <th>percent_achieved_real</th>\n",
       "    </tr>\n",
       "  </thead>\n",
       "  <tbody>\n",
       "    <tr>\n",
       "      <th>0</th>\n",
       "      <td>Publishing</td>\n",
       "      <td>6.908755</td>\n",
       "      <td>0.000000</td>\n",
       "      <td>0</td>\n",
       "      <td>0.000000</td>\n",
       "      <td>GB</td>\n",
       "      <td>0.000000</td>\n",
       "      <td>0.000000</td>\n",
       "      <td>7.336253</td>\n",
       "      <td>4.077537</td>\n",
       "      <td>0.000000</td>\n",
       "    </tr>\n",
       "    <tr>\n",
       "      <th>1</th>\n",
       "      <td>Film &amp; Video</td>\n",
       "      <td>10.308986</td>\n",
       "      <td>7.792349</td>\n",
       "      <td>0</td>\n",
       "      <td>2.772589</td>\n",
       "      <td>US</td>\n",
       "      <td>4.615121</td>\n",
       "      <td>7.792349</td>\n",
       "      <td>10.308986</td>\n",
       "      <td>4.094345</td>\n",
       "      <td>2.204972</td>\n",
       "    </tr>\n",
       "    <tr>\n",
       "      <th>2</th>\n",
       "      <td>Film &amp; Video</td>\n",
       "      <td>10.714440</td>\n",
       "      <td>5.398163</td>\n",
       "      <td>0</td>\n",
       "      <td>1.386294</td>\n",
       "      <td>US</td>\n",
       "      <td>5.398163</td>\n",
       "      <td>5.398163</td>\n",
       "      <td>10.714440</td>\n",
       "      <td>3.806662</td>\n",
       "      <td>0.398030</td>\n",
       "    </tr>\n",
       "    <tr>\n",
       "      <th>3</th>\n",
       "      <td>Music</td>\n",
       "      <td>8.517393</td>\n",
       "      <td>0.693147</td>\n",
       "      <td>0</td>\n",
       "      <td>0.693147</td>\n",
       "      <td>US</td>\n",
       "      <td>0.693147</td>\n",
       "      <td>0.693147</td>\n",
       "      <td>8.517393</td>\n",
       "      <td>3.401197</td>\n",
       "      <td>0.019803</td>\n",
       "    </tr>\n",
       "    <tr>\n",
       "      <th>4</th>\n",
       "      <td>Film &amp; Video</td>\n",
       "      <td>9.878221</td>\n",
       "      <td>7.157735</td>\n",
       "      <td>0</td>\n",
       "      <td>2.708050</td>\n",
       "      <td>US</td>\n",
       "      <td>7.157735</td>\n",
       "      <td>7.157735</td>\n",
       "      <td>9.878221</td>\n",
       "      <td>4.025352</td>\n",
       "      <td>2.025446</td>\n",
       "    </tr>\n",
       "  </tbody>\n",
       "</table>\n",
       "</div>"
      ],
      "text/plain": [
       "  main_category       goal   pledged  state   backers country  usd pledged  \\\n",
       "0    Publishing   6.908755  0.000000      0  0.000000      GB     0.000000   \n",
       "1  Film & Video  10.308986  7.792349      0  2.772589      US     4.615121   \n",
       "2  Film & Video  10.714440  5.398163      0  1.386294      US     5.398163   \n",
       "3         Music   8.517393  0.693147      0  0.693147      US     0.693147   \n",
       "4  Film & Video   9.878221  7.157735      0  2.708050      US     7.157735   \n",
       "\n",
       "   usd_pledged_real  usd_goal_real  days_until_deadline  percent_achieved_real  \n",
       "0          0.000000       7.336253             4.077537               0.000000  \n",
       "1          7.792349      10.308986             4.094345               2.204972  \n",
       "2          5.398163      10.714440             3.806662               0.398030  \n",
       "3          0.693147       8.517393             3.401197               0.019803  \n",
       "4          7.157735       9.878221             4.025352               2.025446  "
      ]
     },
     "execution_count": 10,
     "metadata": {},
     "output_type": "execute_result"
    }
   ],
   "source": [
    "df_no_outliers.drop(['category', 'currency', 'deadline', 'launched'], axis = 1, inplace = True)\n",
    "df_no_outliers.head()"
   ]
  },
  {
   "cell_type": "code",
   "execution_count": 11,
   "metadata": {
    "ExecuteTime": {
     "end_time": "2020-10-20T18:00:37.053590Z",
     "start_time": "2020-10-20T18:00:37.039589Z"
    }
   },
   "outputs": [],
   "source": [
    "df_no_outliers.reset_index(drop = True, inplace  = True)"
   ]
  },
  {
   "cell_type": "markdown",
   "metadata": {
    "ExecuteTime": {
     "end_time": "2020-10-12T20:34:38.461202Z",
     "start_time": "2020-10-12T20:34:38.438203Z"
    }
   },
   "source": [
    "### Encode categorical features"
   ]
  },
  {
   "cell_type": "code",
   "execution_count": 12,
   "metadata": {
    "ExecuteTime": {
     "end_time": "2020-10-20T18:00:37.069589Z",
     "start_time": "2020-10-20T18:00:37.054588Z"
    }
   },
   "outputs": [],
   "source": [
    "categorical_columns = df_no_outliers.select_dtypes('object')"
   ]
  },
  {
   "cell_type": "code",
   "execution_count": 13,
   "metadata": {
    "ExecuteTime": {
     "end_time": "2020-10-20T18:00:37.164585Z",
     "start_time": "2020-10-20T18:00:37.071587Z"
    }
   },
   "outputs": [
    {
     "data": {
      "text/html": [
       "<div>\n",
       "<style scoped>\n",
       "    .dataframe tbody tr th:only-of-type {\n",
       "        vertical-align: middle;\n",
       "    }\n",
       "\n",
       "    .dataframe tbody tr th {\n",
       "        vertical-align: top;\n",
       "    }\n",
       "\n",
       "    .dataframe thead th {\n",
       "        text-align: right;\n",
       "    }\n",
       "</style>\n",
       "<table border=\"1\" class=\"dataframe\">\n",
       "  <thead>\n",
       "    <tr style=\"text-align: right;\">\n",
       "      <th></th>\n",
       "      <th>main_category_Art</th>\n",
       "      <th>main_category_Comics</th>\n",
       "      <th>main_category_Crafts</th>\n",
       "      <th>main_category_Dance</th>\n",
       "      <th>main_category_Design</th>\n",
       "      <th>main_category_Fashion</th>\n",
       "      <th>main_category_Film &amp; Video</th>\n",
       "      <th>main_category_Food</th>\n",
       "      <th>main_category_Games</th>\n",
       "      <th>main_category_Journalism</th>\n",
       "      <th>...</th>\n",
       "      <th>country_IT</th>\n",
       "      <th>country_JP</th>\n",
       "      <th>country_LU</th>\n",
       "      <th>country_MX</th>\n",
       "      <th>country_NL</th>\n",
       "      <th>country_NO</th>\n",
       "      <th>country_NZ</th>\n",
       "      <th>country_SE</th>\n",
       "      <th>country_SG</th>\n",
       "      <th>country_US</th>\n",
       "    </tr>\n",
       "  </thead>\n",
       "  <tbody>\n",
       "    <tr>\n",
       "      <th>0</th>\n",
       "      <td>0</td>\n",
       "      <td>0</td>\n",
       "      <td>0</td>\n",
       "      <td>0</td>\n",
       "      <td>0</td>\n",
       "      <td>0</td>\n",
       "      <td>0</td>\n",
       "      <td>0</td>\n",
       "      <td>0</td>\n",
       "      <td>0</td>\n",
       "      <td>...</td>\n",
       "      <td>0</td>\n",
       "      <td>0</td>\n",
       "      <td>0</td>\n",
       "      <td>0</td>\n",
       "      <td>0</td>\n",
       "      <td>0</td>\n",
       "      <td>0</td>\n",
       "      <td>0</td>\n",
       "      <td>0</td>\n",
       "      <td>0</td>\n",
       "    </tr>\n",
       "    <tr>\n",
       "      <th>1</th>\n",
       "      <td>0</td>\n",
       "      <td>0</td>\n",
       "      <td>0</td>\n",
       "      <td>0</td>\n",
       "      <td>0</td>\n",
       "      <td>0</td>\n",
       "      <td>1</td>\n",
       "      <td>0</td>\n",
       "      <td>0</td>\n",
       "      <td>0</td>\n",
       "      <td>...</td>\n",
       "      <td>0</td>\n",
       "      <td>0</td>\n",
       "      <td>0</td>\n",
       "      <td>0</td>\n",
       "      <td>0</td>\n",
       "      <td>0</td>\n",
       "      <td>0</td>\n",
       "      <td>0</td>\n",
       "      <td>0</td>\n",
       "      <td>1</td>\n",
       "    </tr>\n",
       "    <tr>\n",
       "      <th>2</th>\n",
       "      <td>0</td>\n",
       "      <td>0</td>\n",
       "      <td>0</td>\n",
       "      <td>0</td>\n",
       "      <td>0</td>\n",
       "      <td>0</td>\n",
       "      <td>1</td>\n",
       "      <td>0</td>\n",
       "      <td>0</td>\n",
       "      <td>0</td>\n",
       "      <td>...</td>\n",
       "      <td>0</td>\n",
       "      <td>0</td>\n",
       "      <td>0</td>\n",
       "      <td>0</td>\n",
       "      <td>0</td>\n",
       "      <td>0</td>\n",
       "      <td>0</td>\n",
       "      <td>0</td>\n",
       "      <td>0</td>\n",
       "      <td>1</td>\n",
       "    </tr>\n",
       "    <tr>\n",
       "      <th>3</th>\n",
       "      <td>0</td>\n",
       "      <td>0</td>\n",
       "      <td>0</td>\n",
       "      <td>0</td>\n",
       "      <td>0</td>\n",
       "      <td>0</td>\n",
       "      <td>0</td>\n",
       "      <td>0</td>\n",
       "      <td>0</td>\n",
       "      <td>0</td>\n",
       "      <td>...</td>\n",
       "      <td>0</td>\n",
       "      <td>0</td>\n",
       "      <td>0</td>\n",
       "      <td>0</td>\n",
       "      <td>0</td>\n",
       "      <td>0</td>\n",
       "      <td>0</td>\n",
       "      <td>0</td>\n",
       "      <td>0</td>\n",
       "      <td>1</td>\n",
       "    </tr>\n",
       "    <tr>\n",
       "      <th>4</th>\n",
       "      <td>0</td>\n",
       "      <td>0</td>\n",
       "      <td>0</td>\n",
       "      <td>0</td>\n",
       "      <td>0</td>\n",
       "      <td>0</td>\n",
       "      <td>1</td>\n",
       "      <td>0</td>\n",
       "      <td>0</td>\n",
       "      <td>0</td>\n",
       "      <td>...</td>\n",
       "      <td>0</td>\n",
       "      <td>0</td>\n",
       "      <td>0</td>\n",
       "      <td>0</td>\n",
       "      <td>0</td>\n",
       "      <td>0</td>\n",
       "      <td>0</td>\n",
       "      <td>0</td>\n",
       "      <td>0</td>\n",
       "      <td>1</td>\n",
       "    </tr>\n",
       "  </tbody>\n",
       "</table>\n",
       "<p>5 rows × 38 columns</p>\n",
       "</div>"
      ],
      "text/plain": [
       "   main_category_Art  main_category_Comics  main_category_Crafts  \\\n",
       "0                  0                     0                     0   \n",
       "1                  0                     0                     0   \n",
       "2                  0                     0                     0   \n",
       "3                  0                     0                     0   \n",
       "4                  0                     0                     0   \n",
       "\n",
       "   main_category_Dance  main_category_Design  main_category_Fashion  \\\n",
       "0                    0                     0                      0   \n",
       "1                    0                     0                      0   \n",
       "2                    0                     0                      0   \n",
       "3                    0                     0                      0   \n",
       "4                    0                     0                      0   \n",
       "\n",
       "   main_category_Film & Video  main_category_Food  main_category_Games  \\\n",
       "0                           0                   0                    0   \n",
       "1                           1                   0                    0   \n",
       "2                           1                   0                    0   \n",
       "3                           0                   0                    0   \n",
       "4                           1                   0                    0   \n",
       "\n",
       "   main_category_Journalism  ...  country_IT  country_JP  country_LU  \\\n",
       "0                         0  ...           0           0           0   \n",
       "1                         0  ...           0           0           0   \n",
       "2                         0  ...           0           0           0   \n",
       "3                         0  ...           0           0           0   \n",
       "4                         0  ...           0           0           0   \n",
       "\n",
       "   country_MX  country_NL  country_NO  country_NZ  country_SE  country_SG  \\\n",
       "0           0           0           0           0           0           0   \n",
       "1           0           0           0           0           0           0   \n",
       "2           0           0           0           0           0           0   \n",
       "3           0           0           0           0           0           0   \n",
       "4           0           0           0           0           0           0   \n",
       "\n",
       "   country_US  \n",
       "0           0  \n",
       "1           1  \n",
       "2           1  \n",
       "3           1  \n",
       "4           1  \n",
       "\n",
       "[5 rows x 38 columns]"
      ]
     },
     "execution_count": 13,
     "metadata": {},
     "output_type": "execute_result"
    }
   ],
   "source": [
    "categorical = pd.get_dummies(categorical_columns)\n",
    "categorical.head()"
   ]
  },
  {
   "cell_type": "markdown",
   "metadata": {},
   "source": [
    "### Scale features"
   ]
  },
  {
   "cell_type": "code",
   "execution_count": 14,
   "metadata": {
    "ExecuteTime": {
     "end_time": "2020-10-20T18:00:37.195584Z",
     "start_time": "2020-10-20T18:00:37.165585Z"
    }
   },
   "outputs": [
    {
     "data": {
      "text/html": [
       "<div>\n",
       "<style scoped>\n",
       "    .dataframe tbody tr th:only-of-type {\n",
       "        vertical-align: middle;\n",
       "    }\n",
       "\n",
       "    .dataframe tbody tr th {\n",
       "        vertical-align: top;\n",
       "    }\n",
       "\n",
       "    .dataframe thead th {\n",
       "        text-align: right;\n",
       "    }\n",
       "</style>\n",
       "<table border=\"1\" class=\"dataframe\">\n",
       "  <thead>\n",
       "    <tr style=\"text-align: right;\">\n",
       "      <th></th>\n",
       "      <th>goal</th>\n",
       "      <th>pledged</th>\n",
       "      <th>backers</th>\n",
       "      <th>usd pledged</th>\n",
       "      <th>usd_pledged_real</th>\n",
       "      <th>usd_goal_real</th>\n",
       "      <th>days_until_deadline</th>\n",
       "      <th>percent_achieved_real</th>\n",
       "    </tr>\n",
       "  </thead>\n",
       "  <tbody>\n",
       "    <tr>\n",
       "      <th>0</th>\n",
       "      <td>6.908755</td>\n",
       "      <td>0.000000</td>\n",
       "      <td>0.000000</td>\n",
       "      <td>0.000000</td>\n",
       "      <td>0.000000</td>\n",
       "      <td>7.336253</td>\n",
       "      <td>4.077537</td>\n",
       "      <td>0.000000</td>\n",
       "    </tr>\n",
       "    <tr>\n",
       "      <th>1</th>\n",
       "      <td>10.308986</td>\n",
       "      <td>7.792349</td>\n",
       "      <td>2.772589</td>\n",
       "      <td>4.615121</td>\n",
       "      <td>7.792349</td>\n",
       "      <td>10.308986</td>\n",
       "      <td>4.094345</td>\n",
       "      <td>2.204972</td>\n",
       "    </tr>\n",
       "    <tr>\n",
       "      <th>2</th>\n",
       "      <td>10.714440</td>\n",
       "      <td>5.398163</td>\n",
       "      <td>1.386294</td>\n",
       "      <td>5.398163</td>\n",
       "      <td>5.398163</td>\n",
       "      <td>10.714440</td>\n",
       "      <td>3.806662</td>\n",
       "      <td>0.398030</td>\n",
       "    </tr>\n",
       "    <tr>\n",
       "      <th>3</th>\n",
       "      <td>8.517393</td>\n",
       "      <td>0.693147</td>\n",
       "      <td>0.693147</td>\n",
       "      <td>0.693147</td>\n",
       "      <td>0.693147</td>\n",
       "      <td>8.517393</td>\n",
       "      <td>3.401197</td>\n",
       "      <td>0.019803</td>\n",
       "    </tr>\n",
       "    <tr>\n",
       "      <th>4</th>\n",
       "      <td>9.878221</td>\n",
       "      <td>7.157735</td>\n",
       "      <td>2.708050</td>\n",
       "      <td>7.157735</td>\n",
       "      <td>7.157735</td>\n",
       "      <td>9.878221</td>\n",
       "      <td>4.025352</td>\n",
       "      <td>2.025446</td>\n",
       "    </tr>\n",
       "  </tbody>\n",
       "</table>\n",
       "</div>"
      ],
      "text/plain": [
       "        goal   pledged   backers  usd pledged  usd_pledged_real  \\\n",
       "0   6.908755  0.000000  0.000000     0.000000          0.000000   \n",
       "1  10.308986  7.792349  2.772589     4.615121          7.792349   \n",
       "2  10.714440  5.398163  1.386294     5.398163          5.398163   \n",
       "3   8.517393  0.693147  0.693147     0.693147          0.693147   \n",
       "4   9.878221  7.157735  2.708050     7.157735          7.157735   \n",
       "\n",
       "   usd_goal_real  days_until_deadline  percent_achieved_real  \n",
       "0       7.336253             4.077537               0.000000  \n",
       "1      10.308986             4.094345               2.204972  \n",
       "2      10.714440             3.806662               0.398030  \n",
       "3       8.517393             3.401197               0.019803  \n",
       "4       9.878221             4.025352               2.025446  "
      ]
     },
     "execution_count": 14,
     "metadata": {},
     "output_type": "execute_result"
    }
   ],
   "source": [
    "numerical = df_no_outliers[numerical_cols]\n",
    "y = df_no_outliers['state']\n",
    "numerical.head()"
   ]
  },
  {
   "cell_type": "code",
   "execution_count": 15,
   "metadata": {
    "ExecuteTime": {
     "end_time": "2020-10-20T18:00:37.291581Z",
     "start_time": "2020-10-20T18:00:37.197584Z"
    }
   },
   "outputs": [],
   "source": [
    "scaler = StandardScaler()\n",
    "numerical_scaled = scaler.fit_transform(numerical)"
   ]
  },
  {
   "cell_type": "code",
   "execution_count": 16,
   "metadata": {
    "ExecuteTime": {
     "end_time": "2020-10-20T18:00:37.306580Z",
     "start_time": "2020-10-20T18:00:37.293581Z"
    }
   },
   "outputs": [],
   "source": [
    "X = pd.DataFrame(numerical_scaled, columns = numerical_cols)"
   ]
  },
  {
   "cell_type": "code",
   "execution_count": 17,
   "metadata": {
    "ExecuteTime": {
     "end_time": "2020-10-20T18:00:37.337581Z",
     "start_time": "2020-10-20T18:00:37.308581Z"
    }
   },
   "outputs": [],
   "source": [
    "X = pd.concat([X, categorical], axis = 1)"
   ]
  },
  {
   "cell_type": "code",
   "execution_count": 18,
   "metadata": {
    "ExecuteTime": {
     "end_time": "2020-10-20T18:00:37.369579Z",
     "start_time": "2020-10-20T18:00:37.339580Z"
    }
   },
   "outputs": [
    {
     "data": {
      "text/html": [
       "<div>\n",
       "<style scoped>\n",
       "    .dataframe tbody tr th:only-of-type {\n",
       "        vertical-align: middle;\n",
       "    }\n",
       "\n",
       "    .dataframe tbody tr th {\n",
       "        vertical-align: top;\n",
       "    }\n",
       "\n",
       "    .dataframe thead th {\n",
       "        text-align: right;\n",
       "    }\n",
       "</style>\n",
       "<table border=\"1\" class=\"dataframe\">\n",
       "  <thead>\n",
       "    <tr style=\"text-align: right;\">\n",
       "      <th></th>\n",
       "      <th>goal</th>\n",
       "      <th>pledged</th>\n",
       "      <th>backers</th>\n",
       "      <th>usd pledged</th>\n",
       "      <th>usd_pledged_real</th>\n",
       "      <th>usd_goal_real</th>\n",
       "      <th>days_until_deadline</th>\n",
       "      <th>percent_achieved_real</th>\n",
       "      <th>main_category_Art</th>\n",
       "      <th>main_category_Comics</th>\n",
       "      <th>...</th>\n",
       "      <th>country_IT</th>\n",
       "      <th>country_JP</th>\n",
       "      <th>country_LU</th>\n",
       "      <th>country_MX</th>\n",
       "      <th>country_NL</th>\n",
       "      <th>country_NO</th>\n",
       "      <th>country_NZ</th>\n",
       "      <th>country_SE</th>\n",
       "      <th>country_SG</th>\n",
       "      <th>country_US</th>\n",
       "    </tr>\n",
       "  </thead>\n",
       "  <tbody>\n",
       "    <tr>\n",
       "      <th>0</th>\n",
       "      <td>-1.019846</td>\n",
       "      <td>-1.748181</td>\n",
       "      <td>-1.420168</td>\n",
       "      <td>-1.594824</td>\n",
       "      <td>-1.750667</td>\n",
       "      <td>-0.773700</td>\n",
       "      <td>1.582956</td>\n",
       "      <td>-1.270532</td>\n",
       "      <td>0</td>\n",
       "      <td>0</td>\n",
       "      <td>...</td>\n",
       "      <td>0</td>\n",
       "      <td>0</td>\n",
       "      <td>0</td>\n",
       "      <td>0</td>\n",
       "      <td>0</td>\n",
       "      <td>0</td>\n",
       "      <td>0</td>\n",
       "      <td>0</td>\n",
       "      <td>0</td>\n",
       "      <td>0</td>\n",
       "    </tr>\n",
       "    <tr>\n",
       "      <th>1</th>\n",
       "      <td>0.993034</td>\n",
       "      <td>0.628357</td>\n",
       "      <td>0.082178</td>\n",
       "      <td>-0.211296</td>\n",
       "      <td>0.631479</td>\n",
       "      <td>1.013534</td>\n",
       "      <td>1.626136</td>\n",
       "      <td>-0.217638</td>\n",
       "      <td>0</td>\n",
       "      <td>0</td>\n",
       "      <td>...</td>\n",
       "      <td>0</td>\n",
       "      <td>0</td>\n",
       "      <td>0</td>\n",
       "      <td>0</td>\n",
       "      <td>0</td>\n",
       "      <td>0</td>\n",
       "      <td>0</td>\n",
       "      <td>0</td>\n",
       "      <td>0</td>\n",
       "      <td>1</td>\n",
       "    </tr>\n",
       "    <tr>\n",
       "      <th>2</th>\n",
       "      <td>1.233056</td>\n",
       "      <td>-0.101831</td>\n",
       "      <td>-0.668995</td>\n",
       "      <td>0.023445</td>\n",
       "      <td>-0.100432</td>\n",
       "      <td>1.257297</td>\n",
       "      <td>0.887045</td>\n",
       "      <td>-1.080469</td>\n",
       "      <td>0</td>\n",
       "      <td>0</td>\n",
       "      <td>...</td>\n",
       "      <td>0</td>\n",
       "      <td>0</td>\n",
       "      <td>0</td>\n",
       "      <td>0</td>\n",
       "      <td>0</td>\n",
       "      <td>0</td>\n",
       "      <td>0</td>\n",
       "      <td>0</td>\n",
       "      <td>0</td>\n",
       "      <td>1</td>\n",
       "    </tr>\n",
       "    <tr>\n",
       "      <th>3</th>\n",
       "      <td>-0.067559</td>\n",
       "      <td>-1.536783</td>\n",
       "      <td>-1.044582</td>\n",
       "      <td>-1.387031</td>\n",
       "      <td>-1.538770</td>\n",
       "      <td>-0.063588</td>\n",
       "      <td>-0.154645</td>\n",
       "      <td>-1.261076</td>\n",
       "      <td>0</td>\n",
       "      <td>0</td>\n",
       "      <td>...</td>\n",
       "      <td>0</td>\n",
       "      <td>0</td>\n",
       "      <td>0</td>\n",
       "      <td>0</td>\n",
       "      <td>0</td>\n",
       "      <td>0</td>\n",
       "      <td>0</td>\n",
       "      <td>0</td>\n",
       "      <td>0</td>\n",
       "      <td>1</td>\n",
       "    </tr>\n",
       "    <tr>\n",
       "      <th>4</th>\n",
       "      <td>0.738029</td>\n",
       "      <td>0.434810</td>\n",
       "      <td>0.047208</td>\n",
       "      <td>0.550933</td>\n",
       "      <td>0.437475</td>\n",
       "      <td>0.754554</td>\n",
       "      <td>1.448885</td>\n",
       "      <td>-0.303364</td>\n",
       "      <td>0</td>\n",
       "      <td>0</td>\n",
       "      <td>...</td>\n",
       "      <td>0</td>\n",
       "      <td>0</td>\n",
       "      <td>0</td>\n",
       "      <td>0</td>\n",
       "      <td>0</td>\n",
       "      <td>0</td>\n",
       "      <td>0</td>\n",
       "      <td>0</td>\n",
       "      <td>0</td>\n",
       "      <td>1</td>\n",
       "    </tr>\n",
       "  </tbody>\n",
       "</table>\n",
       "<p>5 rows × 46 columns</p>\n",
       "</div>"
      ],
      "text/plain": [
       "       goal   pledged   backers  usd pledged  usd_pledged_real  usd_goal_real  \\\n",
       "0 -1.019846 -1.748181 -1.420168    -1.594824         -1.750667      -0.773700   \n",
       "1  0.993034  0.628357  0.082178    -0.211296          0.631479       1.013534   \n",
       "2  1.233056 -0.101831 -0.668995     0.023445         -0.100432       1.257297   \n",
       "3 -0.067559 -1.536783 -1.044582    -1.387031         -1.538770      -0.063588   \n",
       "4  0.738029  0.434810  0.047208     0.550933          0.437475       0.754554   \n",
       "\n",
       "   days_until_deadline  percent_achieved_real  main_category_Art  \\\n",
       "0             1.582956              -1.270532                  0   \n",
       "1             1.626136              -0.217638                  0   \n",
       "2             0.887045              -1.080469                  0   \n",
       "3            -0.154645              -1.261076                  0   \n",
       "4             1.448885              -0.303364                  0   \n",
       "\n",
       "   main_category_Comics  ...  country_IT  country_JP  country_LU  country_MX  \\\n",
       "0                     0  ...           0           0           0           0   \n",
       "1                     0  ...           0           0           0           0   \n",
       "2                     0  ...           0           0           0           0   \n",
       "3                     0  ...           0           0           0           0   \n",
       "4                     0  ...           0           0           0           0   \n",
       "\n",
       "   country_NL  country_NO  country_NZ  country_SE  country_SG  country_US  \n",
       "0           0           0           0           0           0           0  \n",
       "1           0           0           0           0           0           1  \n",
       "2           0           0           0           0           0           1  \n",
       "3           0           0           0           0           0           1  \n",
       "4           0           0           0           0           0           1  \n",
       "\n",
       "[5 rows x 46 columns]"
      ]
     },
     "execution_count": 18,
     "metadata": {},
     "output_type": "execute_result"
    }
   ],
   "source": [
    "X.head()"
   ]
  },
  {
   "cell_type": "code",
   "execution_count": 19,
   "metadata": {
    "ExecuteTime": {
     "end_time": "2020-10-20T18:00:37.399578Z",
     "start_time": "2020-10-20T18:00:37.371579Z"
    }
   },
   "outputs": [
    {
     "name": "stderr",
     "output_type": "stream",
     "text": [
      "C:\\Users\\Ji Ho\\anaconda3\\lib\\site-packages\\pandas\\core\\generic.py:6746: SettingWithCopyWarning: \n",
      "A value is trying to be set on a copy of a slice from a DataFrame\n",
      "\n",
      "See the caveats in the documentation: https://pandas.pydata.org/pandas-docs/stable/user_guide/indexing.html#returning-a-view-versus-a-copy\n",
      "  self._update_inplace(new_data)\n"
     ]
    }
   ],
   "source": [
    "y.replace(to_replace = [0, 1], value = ['NO', 'YES'], inplace = True) #whether or goal was met or not"
   ]
  },
  {
   "cell_type": "markdown",
   "metadata": {},
   "source": [
    "### Split data into train and test sets"
   ]
  },
  {
   "cell_type": "code",
   "execution_count": 20,
   "metadata": {
    "ExecuteTime": {
     "end_time": "2020-10-20T18:00:37.527584Z",
     "start_time": "2020-10-20T18:00:37.401578Z"
    }
   },
   "outputs": [],
   "source": [
    "X_train, X_test, y_train, y_test = train_test_split(X,y,test_size = 0.2)"
   ]
  },
  {
   "cell_type": "code",
   "execution_count": 21,
   "metadata": {
    "ExecuteTime": {
     "end_time": "2020-10-20T18:00:46.516292Z",
     "start_time": "2020-10-20T18:00:37.529573Z"
    }
   },
   "outputs": [],
   "source": [
    "X_train.to_csv('data/train_test/X_train.csv')\n",
    "X_test.to_csv('data/train_test/X_test.csv')\n",
    "y_train.to_csv('data/train_test/y_train.csv')\n",
    "y_test.to_csv('data/train_test/y_test.csv')"
   ]
  },
  {
   "cell_type": "code",
   "execution_count": null,
   "metadata": {},
   "outputs": [],
   "source": []
  }
 ],
 "metadata": {
  "kernelspec": {
   "display_name": "Python 3",
   "language": "python",
   "name": "python3"
  },
  "language_info": {
   "codemirror_mode": {
    "name": "ipython",
    "version": 3
   },
   "file_extension": ".py",
   "mimetype": "text/x-python",
   "name": "python",
   "nbconvert_exporter": "python",
   "pygments_lexer": "ipython3",
   "version": "3.8.3"
  },
  "varInspector": {
   "cols": {
    "lenName": 16,
    "lenType": 16,
    "lenVar": 40
   },
   "kernels_config": {
    "python": {
     "delete_cmd_postfix": "",
     "delete_cmd_prefix": "del ",
     "library": "var_list.py",
     "varRefreshCmd": "print(var_dic_list())"
    },
    "r": {
     "delete_cmd_postfix": ") ",
     "delete_cmd_prefix": "rm(",
     "library": "var_list.r",
     "varRefreshCmd": "cat(var_dic_list()) "
    }
   },
   "types_to_exclude": [
    "module",
    "function",
    "builtin_function_or_method",
    "instance",
    "_Feature"
   ],
   "window_display": false
  }
 },
 "nbformat": 4,
 "nbformat_minor": 4
}
