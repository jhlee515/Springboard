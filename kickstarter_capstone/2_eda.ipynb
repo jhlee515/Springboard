{
 "cells": [
  {
   "cell_type": "markdown",
   "metadata": {},
   "source": [
    "# Exploring the Kickstarter Dataset"
   ]
  },
  {
   "cell_type": "markdown",
   "metadata": {},
   "source": [
    "### Import necessary packages"
   ]
  },
  {
   "cell_type": "code",
   "execution_count": 1,
   "metadata": {
    "ExecuteTime": {
     "end_time": "2020-09-10T01:52:55.781609Z",
     "start_time": "2020-09-10T01:52:54.062659Z"
    }
   },
   "outputs": [],
   "source": [
    "import pandas as pd\n",
    "import numpy as np\n",
    "import matplotlib.pyplot as plt\n",
    "import seaborn as sns\n",
    "from scipy import stats\n",
    "\n",
    "pd.set_option('display.float_format', lambda x: '%.3f' % x)"
   ]
  },
  {
   "cell_type": "code",
   "execution_count": 2,
   "metadata": {
    "ExecuteTime": {
     "end_time": "2020-09-10T01:52:56.959574Z",
     "start_time": "2020-09-10T01:52:55.783609Z"
    }
   },
   "outputs": [
    {
     "data": {
      "text/html": [
       "<div>\n",
       "<style scoped>\n",
       "    .dataframe tbody tr th:only-of-type {\n",
       "        vertical-align: middle;\n",
       "    }\n",
       "\n",
       "    .dataframe tbody tr th {\n",
       "        vertical-align: top;\n",
       "    }\n",
       "\n",
       "    .dataframe thead th {\n",
       "        text-align: right;\n",
       "    }\n",
       "</style>\n",
       "<table border=\"1\" class=\"dataframe\">\n",
       "  <thead>\n",
       "    <tr style=\"text-align: right;\">\n",
       "      <th></th>\n",
       "      <th>ID</th>\n",
       "      <th>name</th>\n",
       "      <th>category</th>\n",
       "      <th>main_category</th>\n",
       "      <th>currency</th>\n",
       "      <th>deadline</th>\n",
       "      <th>goal</th>\n",
       "      <th>launched</th>\n",
       "      <th>pledged</th>\n",
       "      <th>state</th>\n",
       "      <th>backers</th>\n",
       "      <th>country</th>\n",
       "      <th>usd pledged</th>\n",
       "      <th>usd_pledged_real</th>\n",
       "      <th>usd_goal_real</th>\n",
       "    </tr>\n",
       "  </thead>\n",
       "  <tbody>\n",
       "    <tr>\n",
       "      <td>0</td>\n",
       "      <td>1000002330</td>\n",
       "      <td>The Songs of Adelaide &amp; Abullah</td>\n",
       "      <td>Poetry</td>\n",
       "      <td>Publishing</td>\n",
       "      <td>GBP</td>\n",
       "      <td>2015-10-09 00:00:00</td>\n",
       "      <td>1000.000</td>\n",
       "      <td>2015-08-11 12:12:28</td>\n",
       "      <td>0.000</td>\n",
       "      <td>failed</td>\n",
       "      <td>0</td>\n",
       "      <td>GB</td>\n",
       "      <td>0.000</td>\n",
       "      <td>0.000</td>\n",
       "      <td>1533.950</td>\n",
       "    </tr>\n",
       "    <tr>\n",
       "      <td>1</td>\n",
       "      <td>1000003930</td>\n",
       "      <td>Greeting From Earth: ZGAC Arts Capsule For ET</td>\n",
       "      <td>Narrative Film</td>\n",
       "      <td>Film &amp; Video</td>\n",
       "      <td>USD</td>\n",
       "      <td>2017-11-01 00:00:00</td>\n",
       "      <td>30000.000</td>\n",
       "      <td>2017-09-02 04:43:57</td>\n",
       "      <td>2421.000</td>\n",
       "      <td>failed</td>\n",
       "      <td>15</td>\n",
       "      <td>US</td>\n",
       "      <td>100.000</td>\n",
       "      <td>2421.000</td>\n",
       "      <td>30000.000</td>\n",
       "    </tr>\n",
       "    <tr>\n",
       "      <td>2</td>\n",
       "      <td>1000004038</td>\n",
       "      <td>Where is Hank?</td>\n",
       "      <td>Narrative Film</td>\n",
       "      <td>Film &amp; Video</td>\n",
       "      <td>USD</td>\n",
       "      <td>2013-02-26 00:00:00</td>\n",
       "      <td>45000.000</td>\n",
       "      <td>2013-01-12 00:20:50</td>\n",
       "      <td>220.000</td>\n",
       "      <td>failed</td>\n",
       "      <td>3</td>\n",
       "      <td>US</td>\n",
       "      <td>220.000</td>\n",
       "      <td>220.000</td>\n",
       "      <td>45000.000</td>\n",
       "    </tr>\n",
       "  </tbody>\n",
       "</table>\n",
       "</div>"
      ],
      "text/plain": [
       "           ID                                           name        category  \\\n",
       "0  1000002330                The Songs of Adelaide & Abullah          Poetry   \n",
       "1  1000003930  Greeting From Earth: ZGAC Arts Capsule For ET  Narrative Film   \n",
       "2  1000004038                                 Where is Hank?  Narrative Film   \n",
       "\n",
       "  main_category currency             deadline      goal             launched  \\\n",
       "0    Publishing      GBP  2015-10-09 00:00:00  1000.000  2015-08-11 12:12:28   \n",
       "1  Film & Video      USD  2017-11-01 00:00:00 30000.000  2017-09-02 04:43:57   \n",
       "2  Film & Video      USD  2013-02-26 00:00:00 45000.000  2013-01-12 00:20:50   \n",
       "\n",
       "   pledged   state  backers country  usd pledged  usd_pledged_real  \\\n",
       "0    0.000  failed        0      GB        0.000             0.000   \n",
       "1 2421.000  failed       15      US      100.000          2421.000   \n",
       "2  220.000  failed        3      US      220.000           220.000   \n",
       "\n",
       "   usd_goal_real  \n",
       "0       1533.950  \n",
       "1      30000.000  \n",
       "2      45000.000  "
      ]
     },
     "execution_count": 2,
     "metadata": {},
     "output_type": "execute_result"
    }
   ],
   "source": [
    "df = pd.read_csv('data/cleaned_kickstarter.csv')\n",
    "df.head(3)"
   ]
  },
  {
   "cell_type": "code",
   "execution_count": 3,
   "metadata": {
    "ExecuteTime": {
     "end_time": "2020-09-10T01:52:56.969574Z",
     "start_time": "2020-09-10T01:52:56.961574Z"
    }
   },
   "outputs": [
    {
     "data": {
      "text/plain": [
       "ID                    int64\n",
       "name                 object\n",
       "category             object\n",
       "main_category        object\n",
       "currency             object\n",
       "deadline             object\n",
       "goal                float64\n",
       "launched             object\n",
       "pledged             float64\n",
       "state                object\n",
       "backers               int64\n",
       "country              object\n",
       "usd pledged         float64\n",
       "usd_pledged_real    float64\n",
       "usd_goal_real       float64\n",
       "dtype: object"
      ]
     },
     "execution_count": 3,
     "metadata": {},
     "output_type": "execute_result"
    }
   ],
   "source": [
    "df.dtypes"
   ]
  },
  {
   "cell_type": "markdown",
   "metadata": {},
   "source": [
    "Columns `deadline` and `launched` contain dates and must be converted to datetime columns|"
   ]
  },
  {
   "cell_type": "code",
   "execution_count": 4,
   "metadata": {
    "ExecuteTime": {
     "end_time": "2020-09-10T01:52:57.977544Z",
     "start_time": "2020-09-10T01:52:56.971574Z"
    }
   },
   "outputs": [
    {
     "data": {
      "text/plain": [
       "ID                           int64\n",
       "name                        object\n",
       "category                    object\n",
       "main_category               object\n",
       "currency                    object\n",
       "deadline            datetime64[ns]\n",
       "goal                       float64\n",
       "launched            datetime64[ns]\n",
       "pledged                    float64\n",
       "state                       object\n",
       "backers                      int64\n",
       "country                     object\n",
       "usd pledged                float64\n",
       "usd_pledged_real           float64\n",
       "usd_goal_real              float64\n",
       "dtype: object"
      ]
     },
     "execution_count": 4,
     "metadata": {},
     "output_type": "execute_result"
    }
   ],
   "source": [
    "df[['deadline', 'launched']] = df[['deadline', 'launched']].apply(pd.to_datetime)\n",
    "df.dtypes"
   ]
  },
  {
   "cell_type": "code",
   "execution_count": 5,
   "metadata": {
    "ExecuteTime": {
     "end_time": "2020-09-10T01:52:58.117540Z",
     "start_time": "2020-09-10T01:52:57.978544Z"
    }
   },
   "outputs": [
    {
     "data": {
      "text/html": [
       "<div>\n",
       "<style scoped>\n",
       "    .dataframe tbody tr th:only-of-type {\n",
       "        vertical-align: middle;\n",
       "    }\n",
       "\n",
       "    .dataframe tbody tr th {\n",
       "        vertical-align: top;\n",
       "    }\n",
       "\n",
       "    .dataframe thead th {\n",
       "        text-align: right;\n",
       "    }\n",
       "</style>\n",
       "<table border=\"1\" class=\"dataframe\">\n",
       "  <thead>\n",
       "    <tr style=\"text-align: right;\">\n",
       "      <th></th>\n",
       "      <th>ID</th>\n",
       "      <th>goal</th>\n",
       "      <th>pledged</th>\n",
       "      <th>backers</th>\n",
       "      <th>usd pledged</th>\n",
       "      <th>usd_pledged_real</th>\n",
       "      <th>usd_goal_real</th>\n",
       "    </tr>\n",
       "  </thead>\n",
       "  <tbody>\n",
       "    <tr>\n",
       "      <td>count</td>\n",
       "      <td>378661.000</td>\n",
       "      <td>378661.000</td>\n",
       "      <td>378661.000</td>\n",
       "      <td>378661.000</td>\n",
       "      <td>378661.000</td>\n",
       "      <td>378661.000</td>\n",
       "      <td>378661.000</td>\n",
       "    </tr>\n",
       "    <tr>\n",
       "      <td>mean</td>\n",
       "      <td>1074731191.989</td>\n",
       "      <td>49080.792</td>\n",
       "      <td>9682.979</td>\n",
       "      <td>105.617</td>\n",
       "      <td>6966.168</td>\n",
       "      <td>9058.924</td>\n",
       "      <td>45454.401</td>\n",
       "    </tr>\n",
       "    <tr>\n",
       "      <td>std</td>\n",
       "      <td>619086204.323</td>\n",
       "      <td>1183391.259</td>\n",
       "      <td>95636.010</td>\n",
       "      <td>907.185</td>\n",
       "      <td>78247.614</td>\n",
       "      <td>90973.343</td>\n",
       "      <td>1152950.055</td>\n",
       "    </tr>\n",
       "    <tr>\n",
       "      <td>min</td>\n",
       "      <td>5971.000</td>\n",
       "      <td>0.010</td>\n",
       "      <td>0.000</td>\n",
       "      <td>0.000</td>\n",
       "      <td>0.000</td>\n",
       "      <td>0.000</td>\n",
       "      <td>0.010</td>\n",
       "    </tr>\n",
       "    <tr>\n",
       "      <td>25%</td>\n",
       "      <td>538263516.000</td>\n",
       "      <td>2000.000</td>\n",
       "      <td>30.000</td>\n",
       "      <td>2.000</td>\n",
       "      <td>13.450</td>\n",
       "      <td>31.000</td>\n",
       "      <td>2000.000</td>\n",
       "    </tr>\n",
       "    <tr>\n",
       "      <td>50%</td>\n",
       "      <td>1075275634.000</td>\n",
       "      <td>5200.000</td>\n",
       "      <td>620.000</td>\n",
       "      <td>12.000</td>\n",
       "      <td>375.000</td>\n",
       "      <td>624.330</td>\n",
       "      <td>5500.000</td>\n",
       "    </tr>\n",
       "    <tr>\n",
       "      <td>75%</td>\n",
       "      <td>1610148624.000</td>\n",
       "      <td>16000.000</td>\n",
       "      <td>4076.000</td>\n",
       "      <td>56.000</td>\n",
       "      <td>3000.000</td>\n",
       "      <td>4050.000</td>\n",
       "      <td>15500.000</td>\n",
       "    </tr>\n",
       "    <tr>\n",
       "      <td>max</td>\n",
       "      <td>2147476221.000</td>\n",
       "      <td>100000000.000</td>\n",
       "      <td>20338986.270</td>\n",
       "      <td>219382.000</td>\n",
       "      <td>20338986.270</td>\n",
       "      <td>20338986.270</td>\n",
       "      <td>166361390.710</td>\n",
       "    </tr>\n",
       "  </tbody>\n",
       "</table>\n",
       "</div>"
      ],
      "text/plain": [
       "                  ID          goal      pledged    backers  usd pledged  \\\n",
       "count     378661.000    378661.000   378661.000 378661.000   378661.000   \n",
       "mean  1074731191.989     49080.792     9682.979    105.617     6966.168   \n",
       "std    619086204.323   1183391.259    95636.010    907.185    78247.614   \n",
       "min         5971.000         0.010        0.000      0.000        0.000   \n",
       "25%    538263516.000      2000.000       30.000      2.000       13.450   \n",
       "50%   1075275634.000      5200.000      620.000     12.000      375.000   \n",
       "75%   1610148624.000     16000.000     4076.000     56.000     3000.000   \n",
       "max   2147476221.000 100000000.000 20338986.270 219382.000 20338986.270   \n",
       "\n",
       "       usd_pledged_real  usd_goal_real  \n",
       "count        378661.000     378661.000  \n",
       "mean           9058.924      45454.401  \n",
       "std           90973.343    1152950.055  \n",
       "min               0.000          0.010  \n",
       "25%              31.000       2000.000  \n",
       "50%             624.330       5500.000  \n",
       "75%            4050.000      15500.000  \n",
       "max        20338986.270  166361390.710  "
      ]
     },
     "execution_count": 5,
     "metadata": {},
     "output_type": "execute_result"
    }
   ],
   "source": [
    "df.describe()"
   ]
  },
  {
   "cell_type": "code",
   "execution_count": 6,
   "metadata": {
    "ExecuteTime": {
     "end_time": "2020-09-10T01:52:58.162539Z",
     "start_time": "2020-09-10T01:52:58.118540Z"
    }
   },
   "outputs": [
    {
     "data": {
      "text/plain": [
       "failed        197719\n",
       "successful    133956\n",
       "canceled       38779\n",
       "undefined       3562\n",
       "live            2799\n",
       "suspended       1846\n",
       "Name: state, dtype: int64"
      ]
     },
     "execution_count": 6,
     "metadata": {},
     "output_type": "execute_result"
    }
   ],
   "source": [
    "df['state'].value_counts()"
   ]
  },
  {
   "cell_type": "code",
   "execution_count": 7,
   "metadata": {
    "ExecuteTime": {
     "end_time": "2020-09-10T01:52:58.233537Z",
     "start_time": "2020-09-10T01:52:58.163539Z"
    }
   },
   "outputs": [
    {
     "data": {
      "text/plain": [
       "failed       0.522\n",
       "successful   0.354\n",
       "canceled     0.102\n",
       "undefined    0.009\n",
       "live         0.007\n",
       "suspended    0.005\n",
       "Name: state, dtype: float64"
      ]
     },
     "execution_count": 7,
     "metadata": {},
     "output_type": "execute_result"
    }
   ],
   "source": [
    "df['state'].value_counts(normalize = True)"
   ]
  },
  {
   "cell_type": "markdown",
   "metadata": {},
   "source": [
    "It looks like most of the projects are either failed, successful, or canceled. A canceled project means a project has been ended before the deadline; because of this, I will consider a canceled project to be failed. "
   ]
  },
  {
   "cell_type": "code",
   "execution_count": 8,
   "metadata": {
    "ExecuteTime": {
     "end_time": "2020-09-10T01:52:58.507544Z",
     "start_time": "2020-09-10T01:52:58.234536Z"
    }
   },
   "outputs": [
    {
     "data": {
      "text/plain": [
       "failed       0.625\n",
       "successful   0.354\n",
       "undefined    0.009\n",
       "live         0.007\n",
       "suspended    0.005\n",
       "Name: state, dtype: float64"
      ]
     },
     "execution_count": 8,
     "metadata": {},
     "output_type": "execute_result"
    }
   ],
   "source": [
    "df['state'] = df['state'].str.replace('canceled', 'failed')\n",
    "df['state'].value_counts(normalize = True)"
   ]
  },
  {
   "cell_type": "code",
   "execution_count": 9,
   "metadata": {
    "ExecuteTime": {
     "end_time": "2020-09-10T01:52:58.532528Z",
     "start_time": "2020-09-10T01:52:58.510545Z"
    }
   },
   "outputs": [
    {
     "data": {
      "text/plain": [
       "array(['Publishing', 'Film & Video', 'Music', 'Food', 'Design', 'Crafts',\n",
       "       'Games', 'Comics', 'Fashion', 'Theater', 'Art', 'Photography',\n",
       "       'Technology', 'Dance', 'Journalism'], dtype=object)"
      ]
     },
     "execution_count": 9,
     "metadata": {},
     "output_type": "execute_result"
    }
   ],
   "source": [
    "# How many categories are there and what does the distribution of categories look like?\n",
    "df['main_category'].unique()"
   ]
  },
  {
   "cell_type": "code",
   "execution_count": 10,
   "metadata": {
    "ExecuteTime": {
     "end_time": "2020-09-10T01:52:58.561527Z",
     "start_time": "2020-09-10T01:52:58.534528Z"
    }
   },
   "outputs": [
    {
     "name": "stdout",
     "output_type": "stream",
     "text": [
      "There are 15 categories in this dataset.\n"
     ]
    }
   ],
   "source": [
    "num_categories = len(df['main_category'].unique())\n",
    "print(f'There are {num_categories} categories in this dataset.')"
   ]
  },
  {
   "cell_type": "code",
   "execution_count": 11,
   "metadata": {
    "ExecuteTime": {
     "end_time": "2020-09-10T01:52:58.610525Z",
     "start_time": "2020-09-10T01:52:58.562527Z"
    }
   },
   "outputs": [
    {
     "data": {
      "text/plain": [
       "Film & Video    63585\n",
       "Music           51918\n",
       "Publishing      39874\n",
       "Games           35231\n",
       "Technology      32569\n",
       "Design          30070\n",
       "Art             28153\n",
       "Food            24602\n",
       "Fashion         22816\n",
       "Theater         10913\n",
       "Comics          10819\n",
       "Photography     10779\n",
       "Crafts           8809\n",
       "Journalism       4755\n",
       "Dance            3768\n",
       "Name: main_category, dtype: int64"
      ]
     },
     "execution_count": 11,
     "metadata": {},
     "output_type": "execute_result"
    }
   ],
   "source": [
    "df['main_category'].value_counts()"
   ]
  },
  {
   "cell_type": "code",
   "execution_count": 12,
   "metadata": {
    "ExecuteTime": {
     "end_time": "2020-09-10T01:52:58.669477Z",
     "start_time": "2020-09-10T01:52:58.611526Z"
    }
   },
   "outputs": [
    {
     "data": {
      "text/plain": [
       "Film & Video   0.168\n",
       "Music          0.137\n",
       "Publishing     0.105\n",
       "Games          0.093\n",
       "Technology     0.086\n",
       "Design         0.079\n",
       "Art            0.074\n",
       "Food           0.065\n",
       "Fashion        0.060\n",
       "Theater        0.029\n",
       "Comics         0.029\n",
       "Photography    0.028\n",
       "Crafts         0.023\n",
       "Journalism     0.013\n",
       "Dance          0.010\n",
       "Name: main_category, dtype: float64"
      ]
     },
     "execution_count": 12,
     "metadata": {},
     "output_type": "execute_result"
    }
   ],
   "source": [
    "df['main_category'].value_counts(normalize = True)"
   ]
  },
  {
   "cell_type": "markdown",
   "metadata": {},
   "source": [
    "### Subsetting Dataset\n",
    "Only a few columns will be used in this portion as certain column, such as ID and name, will not help determine whether a project is more likely to succeed."
   ]
  },
  {
   "cell_type": "code",
   "execution_count": 13,
   "metadata": {
    "ExecuteTime": {
     "end_time": "2020-09-10T01:52:58.717476Z",
     "start_time": "2020-09-10T01:52:58.671477Z"
    }
   },
   "outputs": [
    {
     "data": {
      "text/html": [
       "<div>\n",
       "<style scoped>\n",
       "    .dataframe tbody tr th:only-of-type {\n",
       "        vertical-align: middle;\n",
       "    }\n",
       "\n",
       "    .dataframe tbody tr th {\n",
       "        vertical-align: top;\n",
       "    }\n",
       "\n",
       "    .dataframe thead th {\n",
       "        text-align: right;\n",
       "    }\n",
       "</style>\n",
       "<table border=\"1\" class=\"dataframe\">\n",
       "  <thead>\n",
       "    <tr style=\"text-align: right;\">\n",
       "      <th></th>\n",
       "      <th>category</th>\n",
       "      <th>main_category</th>\n",
       "      <th>currency</th>\n",
       "      <th>deadline</th>\n",
       "      <th>goal</th>\n",
       "      <th>launched</th>\n",
       "      <th>pledged</th>\n",
       "      <th>state</th>\n",
       "      <th>backers</th>\n",
       "      <th>country</th>\n",
       "      <th>usd pledged</th>\n",
       "      <th>usd_pledged_real</th>\n",
       "      <th>usd_goal_real</th>\n",
       "    </tr>\n",
       "  </thead>\n",
       "  <tbody>\n",
       "    <tr>\n",
       "      <td>0</td>\n",
       "      <td>Poetry</td>\n",
       "      <td>Publishing</td>\n",
       "      <td>GBP</td>\n",
       "      <td>2015-10-09</td>\n",
       "      <td>1000.000</td>\n",
       "      <td>2015-08-11 12:12:28</td>\n",
       "      <td>0.000</td>\n",
       "      <td>failed</td>\n",
       "      <td>0</td>\n",
       "      <td>GB</td>\n",
       "      <td>0.000</td>\n",
       "      <td>0.000</td>\n",
       "      <td>1533.950</td>\n",
       "    </tr>\n",
       "    <tr>\n",
       "      <td>1</td>\n",
       "      <td>Narrative Film</td>\n",
       "      <td>Film &amp; Video</td>\n",
       "      <td>USD</td>\n",
       "      <td>2017-11-01</td>\n",
       "      <td>30000.000</td>\n",
       "      <td>2017-09-02 04:43:57</td>\n",
       "      <td>2421.000</td>\n",
       "      <td>failed</td>\n",
       "      <td>15</td>\n",
       "      <td>US</td>\n",
       "      <td>100.000</td>\n",
       "      <td>2421.000</td>\n",
       "      <td>30000.000</td>\n",
       "    </tr>\n",
       "    <tr>\n",
       "      <td>2</td>\n",
       "      <td>Narrative Film</td>\n",
       "      <td>Film &amp; Video</td>\n",
       "      <td>USD</td>\n",
       "      <td>2013-02-26</td>\n",
       "      <td>45000.000</td>\n",
       "      <td>2013-01-12 00:20:50</td>\n",
       "      <td>220.000</td>\n",
       "      <td>failed</td>\n",
       "      <td>3</td>\n",
       "      <td>US</td>\n",
       "      <td>220.000</td>\n",
       "      <td>220.000</td>\n",
       "      <td>45000.000</td>\n",
       "    </tr>\n",
       "  </tbody>\n",
       "</table>\n",
       "</div>"
      ],
      "text/plain": [
       "         category main_category currency   deadline      goal  \\\n",
       "0          Poetry    Publishing      GBP 2015-10-09  1000.000   \n",
       "1  Narrative Film  Film & Video      USD 2017-11-01 30000.000   \n",
       "2  Narrative Film  Film & Video      USD 2013-02-26 45000.000   \n",
       "\n",
       "             launched  pledged   state  backers country  usd pledged  \\\n",
       "0 2015-08-11 12:12:28    0.000  failed        0      GB        0.000   \n",
       "1 2017-09-02 04:43:57 2421.000  failed       15      US      100.000   \n",
       "2 2013-01-12 00:20:50  220.000  failed        3      US      220.000   \n",
       "\n",
       "   usd_pledged_real  usd_goal_real  \n",
       "0             0.000       1533.950  \n",
       "1          2421.000      30000.000  \n",
       "2           220.000      45000.000  "
      ]
     },
     "execution_count": 13,
     "metadata": {},
     "output_type": "execute_result"
    }
   ],
   "source": [
    "df.drop(['ID', 'name'], axis =1, inplace = True)\n",
    "df.head(3)"
   ]
  },
  {
   "cell_type": "markdown",
   "metadata": {},
   "source": [
    "To make analysis a little bit easier, only the projects that are either `failed` or `successful` in the `state` column will be considered. Only ~2% of the projects are classified `undefined`, `live`, and `suspended`, thus removing these projects from the dataset will not affect the analysis significantly. "
   ]
  },
  {
   "cell_type": "code",
   "execution_count": 14,
   "metadata": {
    "ExecuteTime": {
     "end_time": "2020-09-10T01:52:58.845472Z",
     "start_time": "2020-09-10T01:52:58.719476Z"
    }
   },
   "outputs": [
    {
     "data": {
      "text/plain": [
       "failed        236498\n",
       "successful    133956\n",
       "Name: state, dtype: int64"
      ]
     },
     "execution_count": 14,
     "metadata": {},
     "output_type": "execute_result"
    }
   ],
   "source": [
    "df = df[(df['state'] == 'failed') | (df['state'] == 'successful')]\n",
    "df['state'].value_counts()"
   ]
  },
  {
   "cell_type": "markdown",
   "metadata": {},
   "source": [
    "### Feature Engineering\n",
    "\n",
    "Analysis will be easier using a new column of data with the amount of days between the launched and deadline dates."
   ]
  },
  {
   "cell_type": "code",
   "execution_count": 15,
   "metadata": {
    "ExecuteTime": {
     "end_time": "2020-09-10T01:52:58.876471Z",
     "start_time": "2020-09-10T01:52:58.846472Z"
    }
   },
   "outputs": [],
   "source": [
    "df['days_until_deadline'] = (df['deadline'] - df['launched']).dt.days\n"
   ]
  },
  {
   "cell_type": "code",
   "execution_count": 16,
   "metadata": {
    "ExecuteTime": {
     "end_time": "2020-09-10T01:52:59.002467Z",
     "start_time": "2020-09-10T01:52:58.877471Z"
    }
   },
   "outputs": [
    {
     "data": {
      "text/html": [
       "<div>\n",
       "<style scoped>\n",
       "    .dataframe tbody tr th:only-of-type {\n",
       "        vertical-align: middle;\n",
       "    }\n",
       "\n",
       "    .dataframe tbody tr th {\n",
       "        vertical-align: top;\n",
       "    }\n",
       "\n",
       "    .dataframe thead th {\n",
       "        text-align: right;\n",
       "    }\n",
       "</style>\n",
       "<table border=\"1\" class=\"dataframe\">\n",
       "  <thead>\n",
       "    <tr style=\"text-align: right;\">\n",
       "      <th></th>\n",
       "      <th>category</th>\n",
       "      <th>main_category</th>\n",
       "      <th>currency</th>\n",
       "      <th>deadline</th>\n",
       "      <th>goal</th>\n",
       "      <th>launched</th>\n",
       "      <th>pledged</th>\n",
       "      <th>state</th>\n",
       "      <th>backers</th>\n",
       "      <th>country</th>\n",
       "      <th>usd pledged</th>\n",
       "      <th>usd_pledged_real</th>\n",
       "      <th>usd_goal_real</th>\n",
       "      <th>days_until_deadline</th>\n",
       "    </tr>\n",
       "  </thead>\n",
       "  <tbody>\n",
       "    <tr>\n",
       "      <td>0</td>\n",
       "      <td>Poetry</td>\n",
       "      <td>Publishing</td>\n",
       "      <td>GBP</td>\n",
       "      <td>2015-10-09</td>\n",
       "      <td>1000.000</td>\n",
       "      <td>2015-08-11 12:12:28</td>\n",
       "      <td>0.000</td>\n",
       "      <td>0</td>\n",
       "      <td>0</td>\n",
       "      <td>GB</td>\n",
       "      <td>0.000</td>\n",
       "      <td>0.000</td>\n",
       "      <td>1533.950</td>\n",
       "      <td>58</td>\n",
       "    </tr>\n",
       "    <tr>\n",
       "      <td>1</td>\n",
       "      <td>Narrative Film</td>\n",
       "      <td>Film &amp; Video</td>\n",
       "      <td>USD</td>\n",
       "      <td>2017-11-01</td>\n",
       "      <td>30000.000</td>\n",
       "      <td>2017-09-02 04:43:57</td>\n",
       "      <td>2421.000</td>\n",
       "      <td>0</td>\n",
       "      <td>15</td>\n",
       "      <td>US</td>\n",
       "      <td>100.000</td>\n",
       "      <td>2421.000</td>\n",
       "      <td>30000.000</td>\n",
       "      <td>59</td>\n",
       "    </tr>\n",
       "    <tr>\n",
       "      <td>2</td>\n",
       "      <td>Narrative Film</td>\n",
       "      <td>Film &amp; Video</td>\n",
       "      <td>USD</td>\n",
       "      <td>2013-02-26</td>\n",
       "      <td>45000.000</td>\n",
       "      <td>2013-01-12 00:20:50</td>\n",
       "      <td>220.000</td>\n",
       "      <td>0</td>\n",
       "      <td>3</td>\n",
       "      <td>US</td>\n",
       "      <td>220.000</td>\n",
       "      <td>220.000</td>\n",
       "      <td>45000.000</td>\n",
       "      <td>44</td>\n",
       "    </tr>\n",
       "  </tbody>\n",
       "</table>\n",
       "</div>"
      ],
      "text/plain": [
       "         category main_category currency   deadline      goal  \\\n",
       "0          Poetry    Publishing      GBP 2015-10-09  1000.000   \n",
       "1  Narrative Film  Film & Video      USD 2017-11-01 30000.000   \n",
       "2  Narrative Film  Film & Video      USD 2013-02-26 45000.000   \n",
       "\n",
       "             launched  pledged  state  backers country  usd pledged  \\\n",
       "0 2015-08-11 12:12:28    0.000      0        0      GB        0.000   \n",
       "1 2017-09-02 04:43:57 2421.000      0       15      US      100.000   \n",
       "2 2013-01-12 00:20:50  220.000      0        3      US      220.000   \n",
       "\n",
       "   usd_pledged_real  usd_goal_real  days_until_deadline  \n",
       "0             0.000       1533.950                   58  \n",
       "1          2421.000      30000.000                   59  \n",
       "2           220.000      45000.000                   44  "
      ]
     },
     "execution_count": 16,
     "metadata": {},
     "output_type": "execute_result"
    }
   ],
   "source": [
    "df['state'] = df['state'].replace(['failed', 'successful'], [0,1]) #change 'failed' and 'successful' to 0's and 1s respectively\n",
    "df.head(3)"
   ]
  },
  {
   "cell_type": "markdown",
   "metadata": {},
   "source": [
    "### Visualizing the Dataset"
   ]
  },
  {
   "cell_type": "code",
   "execution_count": 17,
   "metadata": {
    "ExecuteTime": {
     "end_time": "2020-09-10T01:52:59.092465Z",
     "start_time": "2020-09-10T01:52:59.003468Z"
    }
   },
   "outputs": [
    {
     "data": {
      "text/html": [
       "<div>\n",
       "<style scoped>\n",
       "    .dataframe tbody tr th:only-of-type {\n",
       "        vertical-align: middle;\n",
       "    }\n",
       "\n",
       "    .dataframe tbody tr th {\n",
       "        vertical-align: top;\n",
       "    }\n",
       "\n",
       "    .dataframe thead th {\n",
       "        text-align: right;\n",
       "    }\n",
       "</style>\n",
       "<table border=\"1\" class=\"dataframe\">\n",
       "  <thead>\n",
       "    <tr style=\"text-align: right;\">\n",
       "      <th></th>\n",
       "      <th>goal</th>\n",
       "      <th>pledged</th>\n",
       "      <th>state</th>\n",
       "      <th>backers</th>\n",
       "      <th>usd pledged</th>\n",
       "      <th>usd_pledged_real</th>\n",
       "      <th>usd_goal_real</th>\n",
       "      <th>days_until_deadline</th>\n",
       "    </tr>\n",
       "    <tr>\n",
       "      <th>main_category</th>\n",
       "      <th></th>\n",
       "      <th></th>\n",
       "      <th></th>\n",
       "      <th></th>\n",
       "      <th></th>\n",
       "      <th></th>\n",
       "      <th></th>\n",
       "      <th></th>\n",
       "    </tr>\n",
       "  </thead>\n",
       "  <tbody>\n",
       "    <tr>\n",
       "      <td>Art</td>\n",
       "      <td>41100.661</td>\n",
       "      <td>3617.611</td>\n",
       "      <td>0.413</td>\n",
       "      <td>42.379</td>\n",
       "      <td>2552.748</td>\n",
       "      <td>3235.900</td>\n",
       "      <td>39467.623</td>\n",
       "      <td>32.116</td>\n",
       "    </tr>\n",
       "    <tr>\n",
       "      <td>Comics</td>\n",
       "      <td>20341.755</td>\n",
       "      <td>6945.244</td>\n",
       "      <td>0.545</td>\n",
       "      <td>135.629</td>\n",
       "      <td>5385.997</td>\n",
       "      <td>6653.781</td>\n",
       "      <td>19675.773</td>\n",
       "      <td>33.121</td>\n",
       "    </tr>\n",
       "    <tr>\n",
       "      <td>Crafts</td>\n",
       "      <td>11541.002</td>\n",
       "      <td>2030.560</td>\n",
       "      <td>0.244</td>\n",
       "      <td>27.629</td>\n",
       "      <td>1196.830</td>\n",
       "      <td>1651.409</td>\n",
       "      <td>10423.093</td>\n",
       "      <td>30.526</td>\n",
       "    </tr>\n",
       "    <tr>\n",
       "      <td>Dance</td>\n",
       "      <td>10188.805</td>\n",
       "      <td>3716.805</td>\n",
       "      <td>0.626</td>\n",
       "      <td>43.097</td>\n",
       "      <td>2985.581</td>\n",
       "      <td>3477.962</td>\n",
       "      <td>9408.592</td>\n",
       "      <td>32.078</td>\n",
       "    </tr>\n",
       "    <tr>\n",
       "      <td>Design</td>\n",
       "      <td>46883.139</td>\n",
       "      <td>27133.873</td>\n",
       "      <td>0.357</td>\n",
       "      <td>241.594</td>\n",
       "      <td>17218.612</td>\n",
       "      <td>24546.890</td>\n",
       "      <td>42199.324</td>\n",
       "      <td>33.907</td>\n",
       "    </tr>\n",
       "    <tr>\n",
       "      <td>Fashion</td>\n",
       "      <td>24875.859</td>\n",
       "      <td>6598.744</td>\n",
       "      <td>0.249</td>\n",
       "      <td>61.901</td>\n",
       "      <td>4326.865</td>\n",
       "      <td>5762.372</td>\n",
       "      <td>22530.495</td>\n",
       "      <td>31.801</td>\n",
       "    </tr>\n",
       "    <tr>\n",
       "      <td>Film &amp; Video</td>\n",
       "      <td>83997.808</td>\n",
       "      <td>6453.264</td>\n",
       "      <td>0.379</td>\n",
       "      <td>67.287</td>\n",
       "      <td>5563.019</td>\n",
       "      <td>6248.147</td>\n",
       "      <td>82375.686</td>\n",
       "      <td>34.770</td>\n",
       "    </tr>\n",
       "    <tr>\n",
       "      <td>Food</td>\n",
       "      <td>48239.457</td>\n",
       "      <td>5357.319</td>\n",
       "      <td>0.251</td>\n",
       "      <td>54.404</td>\n",
       "      <td>4243.114</td>\n",
       "      <td>5140.292</td>\n",
       "      <td>48661.356</td>\n",
       "      <td>33.019</td>\n",
       "    </tr>\n",
       "    <tr>\n",
       "      <td>Games</td>\n",
       "      <td>50728.705</td>\n",
       "      <td>22094.252</td>\n",
       "      <td>0.361</td>\n",
       "      <td>325.570</td>\n",
       "      <td>16512.710</td>\n",
       "      <td>21288.433</td>\n",
       "      <td>45148.244</td>\n",
       "      <td>31.506</td>\n",
       "    </tr>\n",
       "    <tr>\n",
       "      <td>Journalism</td>\n",
       "      <td>68286.968</td>\n",
       "      <td>3214.231</td>\n",
       "      <td>0.217</td>\n",
       "      <td>38.763</td>\n",
       "      <td>2188.836</td>\n",
       "      <td>2641.517</td>\n",
       "      <td>65528.614</td>\n",
       "      <td>33.469</td>\n",
       "    </tr>\n",
       "    <tr>\n",
       "      <td>Music</td>\n",
       "      <td>16352.893</td>\n",
       "      <td>4058.021</td>\n",
       "      <td>0.491</td>\n",
       "      <td>54.829</td>\n",
       "      <td>3372.170</td>\n",
       "      <td>3924.106</td>\n",
       "      <td>15719.284</td>\n",
       "      <td>34.785</td>\n",
       "    </tr>\n",
       "    <tr>\n",
       "      <td>Photography</td>\n",
       "      <td>12974.910</td>\n",
       "      <td>3664.495</td>\n",
       "      <td>0.310</td>\n",
       "      <td>39.913</td>\n",
       "      <td>2821.823</td>\n",
       "      <td>3584.669</td>\n",
       "      <td>12266.909</td>\n",
       "      <td>32.792</td>\n",
       "    </tr>\n",
       "    <tr>\n",
       "      <td>Publishing</td>\n",
       "      <td>26974.419</td>\n",
       "      <td>3682.654</td>\n",
       "      <td>0.315</td>\n",
       "      <td>56.792</td>\n",
       "      <td>2647.514</td>\n",
       "      <td>3398.357</td>\n",
       "      <td>22590.745</td>\n",
       "      <td>32.951</td>\n",
       "    </tr>\n",
       "    <tr>\n",
       "      <td>Technology</td>\n",
       "      <td>119567.681</td>\n",
       "      <td>22540.576</td>\n",
       "      <td>0.203</td>\n",
       "      <td>163.742</td>\n",
       "      <td>15514.680</td>\n",
       "      <td>21186.436</td>\n",
       "      <td>102154.156</td>\n",
       "      <td>34.373</td>\n",
       "    </tr>\n",
       "    <tr>\n",
       "      <td>Theater</td>\n",
       "      <td>27543.081</td>\n",
       "      <td>4107.116</td>\n",
       "      <td>0.602</td>\n",
       "      <td>47.222</td>\n",
       "      <td>3572.744</td>\n",
       "      <td>4016.933</td>\n",
       "      <td>27147.451</td>\n",
       "      <td>33.964</td>\n",
       "    </tr>\n",
       "  </tbody>\n",
       "</table>\n",
       "</div>"
      ],
      "text/plain": [
       "                    goal   pledged  state  backers  usd pledged  \\\n",
       "main_category                                                     \n",
       "Art            41100.661  3617.611  0.413   42.379     2552.748   \n",
       "Comics         20341.755  6945.244  0.545  135.629     5385.997   \n",
       "Crafts         11541.002  2030.560  0.244   27.629     1196.830   \n",
       "Dance          10188.805  3716.805  0.626   43.097     2985.581   \n",
       "Design         46883.139 27133.873  0.357  241.594    17218.612   \n",
       "Fashion        24875.859  6598.744  0.249   61.901     4326.865   \n",
       "Film & Video   83997.808  6453.264  0.379   67.287     5563.019   \n",
       "Food           48239.457  5357.319  0.251   54.404     4243.114   \n",
       "Games          50728.705 22094.252  0.361  325.570    16512.710   \n",
       "Journalism     68286.968  3214.231  0.217   38.763     2188.836   \n",
       "Music          16352.893  4058.021  0.491   54.829     3372.170   \n",
       "Photography    12974.910  3664.495  0.310   39.913     2821.823   \n",
       "Publishing     26974.419  3682.654  0.315   56.792     2647.514   \n",
       "Technology    119567.681 22540.576  0.203  163.742    15514.680   \n",
       "Theater        27543.081  4107.116  0.602   47.222     3572.744   \n",
       "\n",
       "               usd_pledged_real  usd_goal_real  days_until_deadline  \n",
       "main_category                                                        \n",
       "Art                    3235.900      39467.623               32.116  \n",
       "Comics                 6653.781      19675.773               33.121  \n",
       "Crafts                 1651.409      10423.093               30.526  \n",
       "Dance                  3477.962       9408.592               32.078  \n",
       "Design                24546.890      42199.324               33.907  \n",
       "Fashion                5762.372      22530.495               31.801  \n",
       "Film & Video           6248.147      82375.686               34.770  \n",
       "Food                   5140.292      48661.356               33.019  \n",
       "Games                 21288.433      45148.244               31.506  \n",
       "Journalism             2641.517      65528.614               33.469  \n",
       "Music                  3924.106      15719.284               34.785  \n",
       "Photography            3584.669      12266.909               32.792  \n",
       "Publishing             3398.357      22590.745               32.951  \n",
       "Technology            21186.436     102154.156               34.373  \n",
       "Theater                4016.933      27147.451               33.964  "
      ]
     },
     "execution_count": 17,
     "metadata": {},
     "output_type": "execute_result"
    }
   ],
   "source": [
    "mean_by_category = df.groupby('main_category').mean()\n",
    "mean_by_category"
   ]
  },
  {
   "cell_type": "code",
   "execution_count": 18,
   "metadata": {
    "ExecuteTime": {
     "end_time": "2020-09-10T01:52:59.224461Z",
     "start_time": "2020-09-10T01:52:59.093465Z"
    }
   },
   "outputs": [
    {
     "data": {
      "text/html": [
       "<div>\n",
       "<style scoped>\n",
       "    .dataframe tbody tr th:only-of-type {\n",
       "        vertical-align: middle;\n",
       "    }\n",
       "\n",
       "    .dataframe tbody tr th {\n",
       "        vertical-align: top;\n",
       "    }\n",
       "\n",
       "    .dataframe thead th {\n",
       "        text-align: right;\n",
       "    }\n",
       "</style>\n",
       "<table border=\"1\" class=\"dataframe\">\n",
       "  <thead>\n",
       "    <tr style=\"text-align: right;\">\n",
       "      <th></th>\n",
       "      <th>goal</th>\n",
       "      <th>pledged</th>\n",
       "      <th>state</th>\n",
       "      <th>backers</th>\n",
       "      <th>usd pledged</th>\n",
       "      <th>usd_pledged_real</th>\n",
       "      <th>usd_goal_real</th>\n",
       "      <th>days_until_deadline</th>\n",
       "    </tr>\n",
       "    <tr>\n",
       "      <th>main_category</th>\n",
       "      <th></th>\n",
       "      <th></th>\n",
       "      <th></th>\n",
       "      <th></th>\n",
       "      <th></th>\n",
       "      <th></th>\n",
       "      <th></th>\n",
       "      <th></th>\n",
       "    </tr>\n",
       "  </thead>\n",
       "  <tbody>\n",
       "    <tr>\n",
       "      <td>Art</td>\n",
       "      <td>3000.000</td>\n",
       "      <td>434.000</td>\n",
       "      <td>0</td>\n",
       "      <td>10</td>\n",
       "      <td>280.000</td>\n",
       "      <td>431.340</td>\n",
       "      <td>3000.000</td>\n",
       "      <td>29</td>\n",
       "    </tr>\n",
       "    <tr>\n",
       "      <td>Comics</td>\n",
       "      <td>3500.000</td>\n",
       "      <td>1500.000</td>\n",
       "      <td>1</td>\n",
       "      <td>40</td>\n",
       "      <td>926.000</td>\n",
       "      <td>1506.500</td>\n",
       "      <td>3500.000</td>\n",
       "      <td>29</td>\n",
       "    </tr>\n",
       "    <tr>\n",
       "      <td>Crafts</td>\n",
       "      <td>2400.000</td>\n",
       "      <td>97.000</td>\n",
       "      <td>0</td>\n",
       "      <td>3</td>\n",
       "      <td>55.000</td>\n",
       "      <td>95.000</td>\n",
       "      <td>2330.350</td>\n",
       "      <td>29</td>\n",
       "    </tr>\n",
       "    <tr>\n",
       "      <td>Dance</td>\n",
       "      <td>3300.000</td>\n",
       "      <td>1850.000</td>\n",
       "      <td>1</td>\n",
       "      <td>27</td>\n",
       "      <td>1335.980</td>\n",
       "      <td>1865.565</td>\n",
       "      <td>3310.000</td>\n",
       "      <td>29</td>\n",
       "    </tr>\n",
       "    <tr>\n",
       "      <td>Design</td>\n",
       "      <td>10000.000</td>\n",
       "      <td>1982.000</td>\n",
       "      <td>0</td>\n",
       "      <td>29</td>\n",
       "      <td>1170.000</td>\n",
       "      <td>1925.850</td>\n",
       "      <td>10000.000</td>\n",
       "      <td>29</td>\n",
       "    </tr>\n",
       "    <tr>\n",
       "      <td>Fashion</td>\n",
       "      <td>5600.000</td>\n",
       "      <td>244.000</td>\n",
       "      <td>0</td>\n",
       "      <td>5</td>\n",
       "      <td>146.000</td>\n",
       "      <td>245.000</td>\n",
       "      <td>5983.550</td>\n",
       "      <td>29</td>\n",
       "    </tr>\n",
       "    <tr>\n",
       "      <td>Film &amp; Video</td>\n",
       "      <td>7000.000</td>\n",
       "      <td>747.000</td>\n",
       "      <td>0</td>\n",
       "      <td>12</td>\n",
       "      <td>543.000</td>\n",
       "      <td>760.000</td>\n",
       "      <td>7000.000</td>\n",
       "      <td>29</td>\n",
       "    </tr>\n",
       "    <tr>\n",
       "      <td>Food</td>\n",
       "      <td>10000.000</td>\n",
       "      <td>260.000</td>\n",
       "      <td>0</td>\n",
       "      <td>6</td>\n",
       "      <td>165.000</td>\n",
       "      <td>260.000</td>\n",
       "      <td>10000.000</td>\n",
       "      <td>29</td>\n",
       "    </tr>\n",
       "    <tr>\n",
       "      <td>Games</td>\n",
       "      <td>8000.000</td>\n",
       "      <td>1320.000</td>\n",
       "      <td>0</td>\n",
       "      <td>30</td>\n",
       "      <td>794.000</td>\n",
       "      <td>1324.960</td>\n",
       "      <td>8000.000</td>\n",
       "      <td>29</td>\n",
       "    </tr>\n",
       "    <tr>\n",
       "      <td>Journalism</td>\n",
       "      <td>5000.000</td>\n",
       "      <td>54.000</td>\n",
       "      <td>0</td>\n",
       "      <td>3</td>\n",
       "      <td>32.595</td>\n",
       "      <td>55.000</td>\n",
       "      <td>5000.000</td>\n",
       "      <td>29</td>\n",
       "    </tr>\n",
       "    <tr>\n",
       "      <td>Music</td>\n",
       "      <td>4000.000</td>\n",
       "      <td>1014.000</td>\n",
       "      <td>0</td>\n",
       "      <td>19</td>\n",
       "      <td>676.185</td>\n",
       "      <td>1010.495</td>\n",
       "      <td>4000.000</td>\n",
       "      <td>29</td>\n",
       "    </tr>\n",
       "    <tr>\n",
       "      <td>Photography</td>\n",
       "      <td>4000.000</td>\n",
       "      <td>240.000</td>\n",
       "      <td>0</td>\n",
       "      <td>6</td>\n",
       "      <td>175.000</td>\n",
       "      <td>245.000</td>\n",
       "      <td>4000.000</td>\n",
       "      <td>29</td>\n",
       "    </tr>\n",
       "    <tr>\n",
       "      <td>Publishing</td>\n",
       "      <td>5000.000</td>\n",
       "      <td>295.000</td>\n",
       "      <td>0</td>\n",
       "      <td>7</td>\n",
       "      <td>180.000</td>\n",
       "      <td>291.440</td>\n",
       "      <td>5000.000</td>\n",
       "      <td>29</td>\n",
       "    </tr>\n",
       "    <tr>\n",
       "      <td>Technology</td>\n",
       "      <td>20000.000</td>\n",
       "      <td>327.000</td>\n",
       "      <td>0</td>\n",
       "      <td>6</td>\n",
       "      <td>187.000</td>\n",
       "      <td>317.000</td>\n",
       "      <td>20000.000</td>\n",
       "      <td>29</td>\n",
       "    </tr>\n",
       "    <tr>\n",
       "      <td>Theater</td>\n",
       "      <td>3000.000</td>\n",
       "      <td>1500.000</td>\n",
       "      <td>1</td>\n",
       "      <td>25</td>\n",
       "      <td>1195.860</td>\n",
       "      <td>1567.000</td>\n",
       "      <td>3300.000</td>\n",
       "      <td>29</td>\n",
       "    </tr>\n",
       "  </tbody>\n",
       "</table>\n",
       "</div>"
      ],
      "text/plain": [
       "                   goal  pledged  state  backers  usd pledged  \\\n",
       "main_category                                                   \n",
       "Art            3000.000  434.000      0       10      280.000   \n",
       "Comics         3500.000 1500.000      1       40      926.000   \n",
       "Crafts         2400.000   97.000      0        3       55.000   \n",
       "Dance          3300.000 1850.000      1       27     1335.980   \n",
       "Design        10000.000 1982.000      0       29     1170.000   \n",
       "Fashion        5600.000  244.000      0        5      146.000   \n",
       "Film & Video   7000.000  747.000      0       12      543.000   \n",
       "Food          10000.000  260.000      0        6      165.000   \n",
       "Games          8000.000 1320.000      0       30      794.000   \n",
       "Journalism     5000.000   54.000      0        3       32.595   \n",
       "Music          4000.000 1014.000      0       19      676.185   \n",
       "Photography    4000.000  240.000      0        6      175.000   \n",
       "Publishing     5000.000  295.000      0        7      180.000   \n",
       "Technology    20000.000  327.000      0        6      187.000   \n",
       "Theater        3000.000 1500.000      1       25     1195.860   \n",
       "\n",
       "               usd_pledged_real  usd_goal_real  days_until_deadline  \n",
       "main_category                                                        \n",
       "Art                     431.340       3000.000                   29  \n",
       "Comics                 1506.500       3500.000                   29  \n",
       "Crafts                   95.000       2330.350                   29  \n",
       "Dance                  1865.565       3310.000                   29  \n",
       "Design                 1925.850      10000.000                   29  \n",
       "Fashion                 245.000       5983.550                   29  \n",
       "Film & Video            760.000       7000.000                   29  \n",
       "Food                    260.000      10000.000                   29  \n",
       "Games                  1324.960       8000.000                   29  \n",
       "Journalism               55.000       5000.000                   29  \n",
       "Music                  1010.495       4000.000                   29  \n",
       "Photography             245.000       4000.000                   29  \n",
       "Publishing              291.440       5000.000                   29  \n",
       "Technology              317.000      20000.000                   29  \n",
       "Theater                1567.000       3300.000                   29  "
      ]
     },
     "execution_count": 18,
     "metadata": {},
     "output_type": "execute_result"
    }
   ],
   "source": [
    "median_by_category = df.groupby('main_category').median()\n",
    "median_by_category"
   ]
  },
  {
   "cell_type": "code",
   "execution_count": 19,
   "metadata": {
    "ExecuteTime": {
     "end_time": "2020-09-10T01:53:00.343860Z",
     "start_time": "2020-09-10T01:52:59.225461Z"
    }
   },
   "outputs": [
    {
     "data": {
      "image/png": "[encoded data removed]",
      "text/plain": [
       "<Figure size 1080x864 with 4 Axes>"
      ]
     },
     "metadata": {
      "needs_background": "light"
     },
     "output_type": "display_data"
    }
   ],
   "source": [
    "#fig, axes = plt.subplots(2,2)\n",
    "import itertools\n",
    "\n",
    "columns_to_plot = ['state', 'backers', 'usd_goal_real', 'usd_pledged_real']\n",
    "\n",
    "fig, axes = plt.subplots(2,2, figsize = (15,12))\n",
    "\n",
    "categories = mean_by_category.index\n",
    "sns.set_palette('hls', n_colors = len(categories))\n",
    "\n",
    "plot_palette = dict(zip(categories, sns.color_palette(n_colors = len(categories))))\n",
    "\n",
    "for i in range(4):\n",
    "    row = i // 2\n",
    "    col = i % 2\n",
    "    x_vals = mean_by_category[columns_to_plot[i]].sort_values(ascending = False).index\n",
    "    y_vals = mean_by_category[columns_to_plot[i]].sort_values(ascending = False).values\n",
    "    \n",
    "    curr_ax = axes[row,col]\n",
    "\n",
    "    sns.barplot(x = x_vals, y = y_vals, ax = curr_ax, palette = plot_palette)\n",
    "    \n",
    "    curr_ax.tick_params('x', rotation = 60)\n",
    "    curr_ax.set_xlabel('Categories')\n",
    "    curr_ax.set_ylabel(columns_to_plot[i])\n",
    "\n",
    "plt.tight_layout()"
   ]
  },
  {
   "cell_type": "markdown",
   "metadata": {},
   "source": [
    "A lot of interesting observations can be made from the 4 plots generated above. We can see that dance projects have a higher probability of being completed with around 62.5% of past projects being completed. This could be attributed to the fact that dance projects have the lowest goal amount set. On the other hand, projects that are in the technology category have the lowest chance of success, with only around 20.3% of past projects being completed, while also having the highest amount dollars set for their goal (an average of around $102,154). \n",
    "\n",
    "Projects that fall within the games and design technology both have the highest average amount of backers and dollars pledged to the goal. From this, it would be interesting to see which categories have a higher proportion of their goal amount achieved. Also, creating a new feature to find the average donation per backer would be provide interesting analytical insight, but I'm not sure whether it would help in predicting which projects have a higher chance of success. "
   ]
  },
  {
   "cell_type": "code",
   "execution_count": 20,
   "metadata": {
    "ExecuteTime": {
     "end_time": "2020-09-10T01:53:00.622852Z",
     "start_time": "2020-09-10T01:53:00.344845Z"
    }
   },
   "outputs": [
    {
     "data": {
      "image/png": "[encoded data removed]",
      "text/plain": [
       "<Figure size 576x432 with 1 Axes>"
      ]
     },
     "metadata": {
      "needs_background": "light"
     },
     "output_type": "display_data"
    }
   ],
   "source": [
    "categories_count = df['main_category'].value_counts()\n",
    "\n",
    "plt.figure(figsize = (8,6))\n",
    "sns.barplot(x = categories_count.index, y = categories_count.values, palette = plot_palette)\n",
    "plt.xticks(rotation = 60)\n",
    "plt.title('Amount of projects by category')\n",
    "plt.xlabel('Categories')\n",
    "plt.tight_layout()\n",
    "plt.show()"
   ]
  },
  {
   "cell_type": "code",
   "execution_count": 21,
   "metadata": {
    "ExecuteTime": {
     "end_time": "2020-09-10T01:53:00.656837Z",
     "start_time": "2020-09-10T01:53:00.624837Z"
    }
   },
   "outputs": [
    {
     "data": {
      "text/html": [
       "<div>\n",
       "<style scoped>\n",
       "    .dataframe tbody tr th:only-of-type {\n",
       "        vertical-align: middle;\n",
       "    }\n",
       "\n",
       "    .dataframe tbody tr th {\n",
       "        vertical-align: top;\n",
       "    }\n",
       "\n",
       "    .dataframe thead th {\n",
       "        text-align: right;\n",
       "    }\n",
       "</style>\n",
       "<table border=\"1\" class=\"dataframe\">\n",
       "  <thead>\n",
       "    <tr style=\"text-align: right;\">\n",
       "      <th></th>\n",
       "      <th>category</th>\n",
       "      <th>main_category</th>\n",
       "      <th>currency</th>\n",
       "      <th>deadline</th>\n",
       "      <th>goal</th>\n",
       "      <th>launched</th>\n",
       "      <th>pledged</th>\n",
       "      <th>state</th>\n",
       "      <th>backers</th>\n",
       "      <th>country</th>\n",
       "      <th>usd pledged</th>\n",
       "      <th>usd_pledged_real</th>\n",
       "      <th>usd_goal_real</th>\n",
       "      <th>days_until_deadline</th>\n",
       "      <th>percent_achieved_real</th>\n",
       "    </tr>\n",
       "  </thead>\n",
       "  <tbody>\n",
       "    <tr>\n",
       "      <td>0</td>\n",
       "      <td>Poetry</td>\n",
       "      <td>Publishing</td>\n",
       "      <td>GBP</td>\n",
       "      <td>2015-10-09</td>\n",
       "      <td>1000.000</td>\n",
       "      <td>2015-08-11 12:12:28</td>\n",
       "      <td>0.000</td>\n",
       "      <td>0</td>\n",
       "      <td>0</td>\n",
       "      <td>GB</td>\n",
       "      <td>0.000</td>\n",
       "      <td>0.000</td>\n",
       "      <td>1533.950</td>\n",
       "      <td>58</td>\n",
       "      <td>0.000</td>\n",
       "    </tr>\n",
       "    <tr>\n",
       "      <td>1</td>\n",
       "      <td>Narrative Film</td>\n",
       "      <td>Film &amp; Video</td>\n",
       "      <td>USD</td>\n",
       "      <td>2017-11-01</td>\n",
       "      <td>30000.000</td>\n",
       "      <td>2017-09-02 04:43:57</td>\n",
       "      <td>2421.000</td>\n",
       "      <td>0</td>\n",
       "      <td>15</td>\n",
       "      <td>US</td>\n",
       "      <td>100.000</td>\n",
       "      <td>2421.000</td>\n",
       "      <td>30000.000</td>\n",
       "      <td>59</td>\n",
       "      <td>8.070</td>\n",
       "    </tr>\n",
       "    <tr>\n",
       "      <td>2</td>\n",
       "      <td>Narrative Film</td>\n",
       "      <td>Film &amp; Video</td>\n",
       "      <td>USD</td>\n",
       "      <td>2013-02-26</td>\n",
       "      <td>45000.000</td>\n",
       "      <td>2013-01-12 00:20:50</td>\n",
       "      <td>220.000</td>\n",
       "      <td>0</td>\n",
       "      <td>3</td>\n",
       "      <td>US</td>\n",
       "      <td>220.000</td>\n",
       "      <td>220.000</td>\n",
       "      <td>45000.000</td>\n",
       "      <td>44</td>\n",
       "      <td>0.489</td>\n",
       "    </tr>\n",
       "  </tbody>\n",
       "</table>\n",
       "</div>"
      ],
      "text/plain": [
       "         category main_category currency   deadline      goal  \\\n",
       "0          Poetry    Publishing      GBP 2015-10-09  1000.000   \n",
       "1  Narrative Film  Film & Video      USD 2017-11-01 30000.000   \n",
       "2  Narrative Film  Film & Video      USD 2013-02-26 45000.000   \n",
       "\n",
       "             launched  pledged  state  backers country  usd pledged  \\\n",
       "0 2015-08-11 12:12:28    0.000      0        0      GB        0.000   \n",
       "1 2017-09-02 04:43:57 2421.000      0       15      US      100.000   \n",
       "2 2013-01-12 00:20:50  220.000      0        3      US      220.000   \n",
       "\n",
       "   usd_pledged_real  usd_goal_real  days_until_deadline  percent_achieved_real  \n",
       "0             0.000       1533.950                   58                  0.000  \n",
       "1          2421.000      30000.000                   59                  8.070  \n",
       "2           220.000      45000.000                   44                  0.489  "
      ]
     },
     "execution_count": 21,
     "metadata": {},
     "output_type": "execute_result"
    }
   ],
   "source": [
    "df['percent_achieved_real'] = (df['usd_pledged_real'] / df['usd_goal_real'])*100 \n",
    "df.head(3)"
   ]
  },
  {
   "cell_type": "code",
   "execution_count": 22,
   "metadata": {
    "ExecuteTime": {
     "end_time": "2020-09-10T01:53:00.677836Z",
     "start_time": "2020-09-10T01:53:00.658837Z"
    }
   },
   "outputs": [
    {
     "data": {
      "text/plain": [
       "count     370454.000\n",
       "mean         327.271\n",
       "std        26974.638\n",
       "min            0.000\n",
       "25%            0.480\n",
       "50%           13.667\n",
       "75%          106.667\n",
       "max     10427789.000\n",
       "Name: percent_achieved_real, dtype: float64"
      ]
     },
     "execution_count": 22,
     "metadata": {},
     "output_type": "execute_result"
    }
   ],
   "source": [
    "df['percent_achieved_real'].describe()"
   ]
  },
  {
   "cell_type": "code",
   "execution_count": 23,
   "metadata": {
    "ExecuteTime": {
     "end_time": "2020-09-10T01:53:00.778833Z",
     "start_time": "2020-09-10T01:53:00.678836Z"
    }
   },
   "outputs": [
    {
     "data": {
      "text/html": [
       "<div>\n",
       "<style scoped>\n",
       "    .dataframe tbody tr th:only-of-type {\n",
       "        vertical-align: middle;\n",
       "    }\n",
       "\n",
       "    .dataframe tbody tr th {\n",
       "        vertical-align: top;\n",
       "    }\n",
       "\n",
       "    .dataframe thead th {\n",
       "        text-align: right;\n",
       "    }\n",
       "</style>\n",
       "<table border=\"1\" class=\"dataframe\">\n",
       "  <thead>\n",
       "    <tr style=\"text-align: right;\">\n",
       "      <th></th>\n",
       "      <th>count</th>\n",
       "      <th>mean</th>\n",
       "      <th>std</th>\n",
       "      <th>min</th>\n",
       "      <th>25%</th>\n",
       "      <th>50%</th>\n",
       "      <th>75%</th>\n",
       "      <th>max</th>\n",
       "    </tr>\n",
       "    <tr>\n",
       "      <th>main_category</th>\n",
       "      <th></th>\n",
       "      <th></th>\n",
       "      <th></th>\n",
       "      <th></th>\n",
       "      <th></th>\n",
       "      <th></th>\n",
       "      <th></th>\n",
       "      <th></th>\n",
       "    </tr>\n",
       "  </thead>\n",
       "  <tbody>\n",
       "    <tr>\n",
       "      <td>Art</td>\n",
       "      <td>27863.000</td>\n",
       "      <td>251.098</td>\n",
       "      <td>17614.759</td>\n",
       "      <td>0.000</td>\n",
       "      <td>0.900</td>\n",
       "      <td>22.700</td>\n",
       "      <td>109.933</td>\n",
       "      <td>2758823.000</td>\n",
       "    </tr>\n",
       "    <tr>\n",
       "      <td>Comics</td>\n",
       "      <td>10720.000</td>\n",
       "      <td>641.719</td>\n",
       "      <td>11327.999</td>\n",
       "      <td>0.000</td>\n",
       "      <td>8.100</td>\n",
       "      <td>103.423</td>\n",
       "      <td>145.981</td>\n",
       "      <td>551400.000</td>\n",
       "    </tr>\n",
       "    <tr>\n",
       "      <td>Crafts</td>\n",
       "      <td>8661.000</td>\n",
       "      <td>247.781</td>\n",
       "      <td>13619.002</td>\n",
       "      <td>0.000</td>\n",
       "      <td>0.120</td>\n",
       "      <td>4.690</td>\n",
       "      <td>71.400</td>\n",
       "      <td>1257515.000</td>\n",
       "    </tr>\n",
       "    <tr>\n",
       "      <td>Dance</td>\n",
       "      <td>3736.000</td>\n",
       "      <td>81.207</td>\n",
       "      <td>176.029</td>\n",
       "      <td>0.000</td>\n",
       "      <td>9.617</td>\n",
       "      <td>101.641</td>\n",
       "      <td>111.044</td>\n",
       "      <td>10000.000</td>\n",
       "    </tr>\n",
       "    <tr>\n",
       "      <td>Design</td>\n",
       "      <td>29516.000</td>\n",
       "      <td>205.586</td>\n",
       "      <td>2192.288</td>\n",
       "      <td>0.000</td>\n",
       "      <td>2.452</td>\n",
       "      <td>22.782</td>\n",
       "      <td>119.342</td>\n",
       "      <td>206700.000</td>\n",
       "    </tr>\n",
       "    <tr>\n",
       "      <td>Fashion</td>\n",
       "      <td>22425.000</td>\n",
       "      <td>98.762</td>\n",
       "      <td>3241.710</td>\n",
       "      <td>0.000</td>\n",
       "      <td>0.100</td>\n",
       "      <td>5.698</td>\n",
       "      <td>100.000</td>\n",
       "      <td>468400.000</td>\n",
       "    </tr>\n",
       "    <tr>\n",
       "      <td>Film &amp; Video</td>\n",
       "      <td>62282.000</td>\n",
       "      <td>153.377</td>\n",
       "      <td>8058.294</td>\n",
       "      <td>0.000</td>\n",
       "      <td>0.400</td>\n",
       "      <td>13.444</td>\n",
       "      <td>104.311</td>\n",
       "      <td>1506600.000</td>\n",
       "    </tr>\n",
       "    <tr>\n",
       "      <td>Food</td>\n",
       "      <td>24265.000</td>\n",
       "      <td>84.385</td>\n",
       "      <td>3655.859</td>\n",
       "      <td>0.000</td>\n",
       "      <td>0.080</td>\n",
       "      <td>3.924</td>\n",
       "      <td>100.000</td>\n",
       "      <td>554928.300</td>\n",
       "    </tr>\n",
       "    <tr>\n",
       "      <td>Games</td>\n",
       "      <td>34723.000</td>\n",
       "      <td>755.394</td>\n",
       "      <td>33800.565</td>\n",
       "      <td>0.000</td>\n",
       "      <td>1.333</td>\n",
       "      <td>20.326</td>\n",
       "      <td>131.812</td>\n",
       "      <td>4153501.000</td>\n",
       "    </tr>\n",
       "    <tr>\n",
       "      <td>Journalism</td>\n",
       "      <td>4672.000</td>\n",
       "      <td>50.719</td>\n",
       "      <td>1027.898</td>\n",
       "      <td>0.000</td>\n",
       "      <td>0.000</td>\n",
       "      <td>1.200</td>\n",
       "      <td>30.000</td>\n",
       "      <td>70032.331</td>\n",
       "    </tr>\n",
       "    <tr>\n",
       "      <td>Music</td>\n",
       "      <td>49254.000</td>\n",
       "      <td>822.507</td>\n",
       "      <td>63553.958</td>\n",
       "      <td>0.000</td>\n",
       "      <td>1.300</td>\n",
       "      <td>56.935</td>\n",
       "      <td>110.333</td>\n",
       "      <td>10427789.000</td>\n",
       "    </tr>\n",
       "    <tr>\n",
       "      <td>Photography</td>\n",
       "      <td>10675.000</td>\n",
       "      <td>58.425</td>\n",
       "      <td>153.224</td>\n",
       "      <td>0.000</td>\n",
       "      <td>0.200</td>\n",
       "      <td>8.154</td>\n",
       "      <td>103.420</td>\n",
       "      <td>8500.000</td>\n",
       "    </tr>\n",
       "    <tr>\n",
       "      <td>Publishing</td>\n",
       "      <td>39047.000</td>\n",
       "      <td>174.770</td>\n",
       "      <td>12447.259</td>\n",
       "      <td>0.000</td>\n",
       "      <td>0.250</td>\n",
       "      <td>7.750</td>\n",
       "      <td>103.750</td>\n",
       "      <td>2303606.700</td>\n",
       "    </tr>\n",
       "    <tr>\n",
       "      <td>Technology</td>\n",
       "      <td>31765.000</td>\n",
       "      <td>299.515</td>\n",
       "      <td>16324.757</td>\n",
       "      <td>0.000</td>\n",
       "      <td>0.040</td>\n",
       "      <td>2.247</td>\n",
       "      <td>37.585</td>\n",
       "      <td>2260300.000</td>\n",
       "    </tr>\n",
       "    <tr>\n",
       "      <td>Theater</td>\n",
       "      <td>10850.000</td>\n",
       "      <td>100.506</td>\n",
       "      <td>1539.265</td>\n",
       "      <td>0.000</td>\n",
       "      <td>7.300</td>\n",
       "      <td>101.200</td>\n",
       "      <td>111.453</td>\n",
       "      <td>115800.000</td>\n",
       "    </tr>\n",
       "  </tbody>\n",
       "</table>\n",
       "</div>"
      ],
      "text/plain": [
       "                  count    mean       std   min   25%     50%     75%  \\\n",
       "main_category                                                           \n",
       "Art           27863.000 251.098 17614.759 0.000 0.900  22.700 109.933   \n",
       "Comics        10720.000 641.719 11327.999 0.000 8.100 103.423 145.981   \n",
       "Crafts         8661.000 247.781 13619.002 0.000 0.120   4.690  71.400   \n",
       "Dance          3736.000  81.207   176.029 0.000 9.617 101.641 111.044   \n",
       "Design        29516.000 205.586  2192.288 0.000 2.452  22.782 119.342   \n",
       "Fashion       22425.000  98.762  3241.710 0.000 0.100   5.698 100.000   \n",
       "Film & Video  62282.000 153.377  8058.294 0.000 0.400  13.444 104.311   \n",
       "Food          24265.000  84.385  3655.859 0.000 0.080   3.924 100.000   \n",
       "Games         34723.000 755.394 33800.565 0.000 1.333  20.326 131.812   \n",
       "Journalism     4672.000  50.719  1027.898 0.000 0.000   1.200  30.000   \n",
       "Music         49254.000 822.507 63553.958 0.000 1.300  56.935 110.333   \n",
       "Photography   10675.000  58.425   153.224 0.000 0.200   8.154 103.420   \n",
       "Publishing    39047.000 174.770 12447.259 0.000 0.250   7.750 103.750   \n",
       "Technology    31765.000 299.515 16324.757 0.000 0.040   2.247  37.585   \n",
       "Theater       10850.000 100.506  1539.265 0.000 7.300 101.200 111.453   \n",
       "\n",
       "                       max  \n",
       "main_category               \n",
       "Art            2758823.000  \n",
       "Comics          551400.000  \n",
       "Crafts         1257515.000  \n",
       "Dance            10000.000  \n",
       "Design          206700.000  \n",
       "Fashion         468400.000  \n",
       "Film & Video   1506600.000  \n",
       "Food            554928.300  \n",
       "Games          4153501.000  \n",
       "Journalism       70032.331  \n",
       "Music         10427789.000  \n",
       "Photography       8500.000  \n",
       "Publishing     2303606.700  \n",
       "Technology     2260300.000  \n",
       "Theater         115800.000  "
      ]
     },
     "execution_count": 23,
     "metadata": {},
     "output_type": "execute_result"
    }
   ],
   "source": [
    "df.groupby('main_category')['percent_achieved_real'].describe()"
   ]
  },
  {
   "cell_type": "markdown",
   "metadata": {},
   "source": [
    "Just from a quick observation of the table generated above, the distribution of `percent_achieved_real` is heavily skewed with some categories having a maximum value of <1,000,000%. Visualizing this new feature would be more appropriate using the median value instead of the mean."
   ]
  },
  {
   "cell_type": "code",
   "execution_count": 24,
   "metadata": {
    "ExecuteTime": {
     "end_time": "2020-09-10T01:53:00.974828Z",
     "start_time": "2020-09-10T01:53:00.779833Z"
    }
   },
   "outputs": [],
   "source": [
    "# Update median and mean groupby's with new feature added\n",
    "mean_by_category = df.groupby('main_category').mean()\n",
    "median_by_category = df.groupby('main_category').median()"
   ]
  },
  {
   "cell_type": "code",
   "execution_count": 25,
   "metadata": {
    "ExecuteTime": {
     "end_time": "2020-09-10T01:53:01.205820Z",
     "start_time": "2020-09-10T01:53:00.975827Z"
    }
   },
   "outputs": [
    {
     "data": {
      "image/png": "[encoded data removed]",
      "text/plain": [
       "<Figure size 576x432 with 1 Axes>"
      ]
     },
     "metadata": {
      "needs_background": "light"
     },
     "output_type": "display_data"
    }
   ],
   "source": [
    "mean_percent_achieved_category = mean_by_category['percent_achieved_real'].sort_values(ascending = False)\n",
    "plt.figure(figsize = (8,6))\n",
    "sns.barplot(x = mean_percent_achieved_category.index, y = mean_percent_achieved_category.values, palette = plot_palette)\n",
    "plt.xticks(rotation = 60)\n",
    "plt.title('Mean Percent of Goal Achieved by Category')\n",
    "plt.xlabel('Categories')\n",
    "plt.ylabel('Percent')\n",
    "plt.show()"
   ]
  },
  {
   "cell_type": "code",
   "execution_count": 26,
   "metadata": {
    "ExecuteTime": {
     "end_time": "2020-09-10T01:53:01.429814Z",
     "start_time": "2020-09-10T01:53:01.206820Z"
    }
   },
   "outputs": [
    {
     "data": {
      "image/png": "[encoded data removed]",
      "text/plain": [
       "<Figure size 576x432 with 1 Axes>"
      ]
     },
     "metadata": {
      "needs_background": "light"
     },
     "output_type": "display_data"
    }
   ],
   "source": [
    "median_percent_achieved_category = median_by_category['percent_achieved_real'].sort_values(ascending = False)\n",
    "plt.figure(figsize = (8,6))\n",
    "sns.barplot(x = median_percent_achieved_category.index, y = median_percent_achieved_category.values, palette = plot_palette)\n",
    "plt.xticks(rotation = 60)\n",
    "plt.title('Median Percent of Goal Achieved by Category')\n",
    "plt.xlabel('Categories')\n",
    "plt.ylabel('Percent')\n",
    "plt.show()"
   ]
  },
  {
   "cell_type": "code",
   "execution_count": 27,
   "metadata": {
    "ExecuteTime": {
     "end_time": "2020-09-10T01:53:01.564991Z",
     "start_time": "2020-09-10T01:53:01.433814Z"
    }
   },
   "outputs": [
    {
     "data": {
      "text/html": [
       "<div>\n",
       "<style scoped>\n",
       "    .dataframe tbody tr th:only-of-type {\n",
       "        vertical-align: middle;\n",
       "    }\n",
       "\n",
       "    .dataframe tbody tr th {\n",
       "        vertical-align: top;\n",
       "    }\n",
       "\n",
       "    .dataframe thead th {\n",
       "        text-align: right;\n",
       "    }\n",
       "</style>\n",
       "<table border=\"1\" class=\"dataframe\">\n",
       "  <thead>\n",
       "    <tr style=\"text-align: right;\">\n",
       "      <th></th>\n",
       "      <th>goal</th>\n",
       "      <th>pledged</th>\n",
       "      <th>state</th>\n",
       "      <th>backers</th>\n",
       "      <th>usd pledged</th>\n",
       "      <th>usd_pledged_real</th>\n",
       "      <th>usd_goal_real</th>\n",
       "      <th>days_until_deadline</th>\n",
       "      <th>percent_achieved_real</th>\n",
       "    </tr>\n",
       "  </thead>\n",
       "  <tbody>\n",
       "    <tr>\n",
       "      <td>goal</td>\n",
       "      <td>1.000</td>\n",
       "      <td>0.008</td>\n",
       "      <td>-0.025</td>\n",
       "      <td>0.004</td>\n",
       "      <td>0.006</td>\n",
       "      <td>0.005</td>\n",
       "      <td>0.939</td>\n",
       "      <td>0.005</td>\n",
       "      <td>-0.000</td>\n",
       "    </tr>\n",
       "    <tr>\n",
       "      <td>pledged</td>\n",
       "      <td>0.008</td>\n",
       "      <td>1.000</td>\n",
       "      <td>0.112</td>\n",
       "      <td>0.717</td>\n",
       "      <td>0.857</td>\n",
       "      <td>0.953</td>\n",
       "      <td>0.005</td>\n",
       "      <td>0.001</td>\n",
       "      <td>0.009</td>\n",
       "    </tr>\n",
       "    <tr>\n",
       "      <td>state</td>\n",
       "      <td>-0.025</td>\n",
       "      <td>0.112</td>\n",
       "      <td>1.000</td>\n",
       "      <td>0.129</td>\n",
       "      <td>0.098</td>\n",
       "      <td>0.111</td>\n",
       "      <td>-0.024</td>\n",
       "      <td>-0.028</td>\n",
       "      <td>0.015</td>\n",
       "    </tr>\n",
       "    <tr>\n",
       "      <td>backers</td>\n",
       "      <td>0.004</td>\n",
       "      <td>0.717</td>\n",
       "      <td>0.129</td>\n",
       "      <td>1.000</td>\n",
       "      <td>0.698</td>\n",
       "      <td>0.752</td>\n",
       "      <td>0.005</td>\n",
       "      <td>-0.001</td>\n",
       "      <td>0.017</td>\n",
       "    </tr>\n",
       "    <tr>\n",
       "      <td>usd pledged</td>\n",
       "      <td>0.006</td>\n",
       "      <td>0.857</td>\n",
       "      <td>0.098</td>\n",
       "      <td>0.698</td>\n",
       "      <td>1.000</td>\n",
       "      <td>0.906</td>\n",
       "      <td>0.006</td>\n",
       "      <td>0.001</td>\n",
       "      <td>0.006</td>\n",
       "    </tr>\n",
       "    <tr>\n",
       "      <td>usd_pledged_real</td>\n",
       "      <td>0.005</td>\n",
       "      <td>0.953</td>\n",
       "      <td>0.111</td>\n",
       "      <td>0.752</td>\n",
       "      <td>0.906</td>\n",
       "      <td>1.000</td>\n",
       "      <td>0.006</td>\n",
       "      <td>0.001</td>\n",
       "      <td>0.009</td>\n",
       "    </tr>\n",
       "    <tr>\n",
       "      <td>usd_goal_real</td>\n",
       "      <td>0.939</td>\n",
       "      <td>0.005</td>\n",
       "      <td>-0.024</td>\n",
       "      <td>0.005</td>\n",
       "      <td>0.006</td>\n",
       "      <td>0.006</td>\n",
       "      <td>1.000</td>\n",
       "      <td>0.005</td>\n",
       "      <td>-0.000</td>\n",
       "    </tr>\n",
       "    <tr>\n",
       "      <td>days_until_deadline</td>\n",
       "      <td>0.005</td>\n",
       "      <td>0.001</td>\n",
       "      <td>-0.028</td>\n",
       "      <td>-0.001</td>\n",
       "      <td>0.001</td>\n",
       "      <td>0.001</td>\n",
       "      <td>0.005</td>\n",
       "      <td>1.000</td>\n",
       "      <td>0.000</td>\n",
       "    </tr>\n",
       "    <tr>\n",
       "      <td>percent_achieved_real</td>\n",
       "      <td>-0.000</td>\n",
       "      <td>0.009</td>\n",
       "      <td>0.015</td>\n",
       "      <td>0.017</td>\n",
       "      <td>0.006</td>\n",
       "      <td>0.009</td>\n",
       "      <td>-0.000</td>\n",
       "      <td>0.000</td>\n",
       "      <td>1.000</td>\n",
       "    </tr>\n",
       "  </tbody>\n",
       "</table>\n",
       "</div>"
      ],
      "text/plain": [
       "                        goal  pledged  state  backers  usd pledged  \\\n",
       "goal                   1.000    0.008 -0.025    0.004        0.006   \n",
       "pledged                0.008    1.000  0.112    0.717        0.857   \n",
       "state                 -0.025    0.112  1.000    0.129        0.098   \n",
       "backers                0.004    0.717  0.129    1.000        0.698   \n",
       "usd pledged            0.006    0.857  0.098    0.698        1.000   \n",
       "usd_pledged_real       0.005    0.953  0.111    0.752        0.906   \n",
       "usd_goal_real          0.939    0.005 -0.024    0.005        0.006   \n",
       "days_until_deadline    0.005    0.001 -0.028   -0.001        0.001   \n",
       "percent_achieved_real -0.000    0.009  0.015    0.017        0.006   \n",
       "\n",
       "                       usd_pledged_real  usd_goal_real  days_until_deadline  \\\n",
       "goal                              0.005          0.939                0.005   \n",
       "pledged                           0.953          0.005                0.001   \n",
       "state                             0.111         -0.024               -0.028   \n",
       "backers                           0.752          0.005               -0.001   \n",
       "usd pledged                       0.906          0.006                0.001   \n",
       "usd_pledged_real                  1.000          0.006                0.001   \n",
       "usd_goal_real                     0.006          1.000                0.005   \n",
       "days_until_deadline               0.001          0.005                1.000   \n",
       "percent_achieved_real             0.009         -0.000                0.000   \n",
       "\n",
       "                       percent_achieved_real  \n",
       "goal                                  -0.000  \n",
       "pledged                                0.009  \n",
       "state                                  0.015  \n",
       "backers                                0.017  \n",
       "usd pledged                            0.006  \n",
       "usd_pledged_real                       0.009  \n",
       "usd_goal_real                         -0.000  \n",
       "days_until_deadline                    0.000  \n",
       "percent_achieved_real                  1.000  "
      ]
     },
     "execution_count": 27,
     "metadata": {},
     "output_type": "execute_result"
    }
   ],
   "source": [
    "df.corr()"
   ]
  },
  {
   "cell_type": "code",
   "execution_count": 28,
   "metadata": {
    "ExecuteTime": {
     "end_time": "2020-09-10T01:53:01.942980Z",
     "start_time": "2020-09-10T01:53:01.570991Z"
    }
   },
   "outputs": [
    {
     "data": {
      "image/png": "[encoded data removed]",
      "text/plain": [
       "<Figure size 432x288 with 2 Axes>"
      ]
     },
     "metadata": {
      "needs_background": "light"
     },
     "output_type": "display_data"
    }
   ],
   "source": [
    "sns.heatmap(df.corr())\n",
    "plt.show()"
   ]
  },
  {
   "cell_type": "code",
   "execution_count": 29,
   "metadata": {
    "ExecuteTime": {
     "end_time": "2020-09-10T01:53:02.044999Z",
     "start_time": "2020-09-10T01:53:01.946980Z"
    }
   },
   "outputs": [
    {
     "data": {
      "text/html": [
       "<div>\n",
       "<style scoped>\n",
       "    .dataframe tbody tr th:only-of-type {\n",
       "        vertical-align: middle;\n",
       "    }\n",
       "\n",
       "    .dataframe tbody tr th {\n",
       "        vertical-align: top;\n",
       "    }\n",
       "\n",
       "    .dataframe thead th {\n",
       "        text-align: right;\n",
       "    }\n",
       "</style>\n",
       "<table border=\"1\" class=\"dataframe\">\n",
       "  <thead>\n",
       "    <tr style=\"text-align: right;\">\n",
       "      <th></th>\n",
       "      <th>backers</th>\n",
       "      <th>days_until_deadline</th>\n",
       "      <th>percent_achieved_real</th>\n",
       "      <th>state</th>\n",
       "      <th>usd_goal_real</th>\n",
       "      <th>usd_pledged_real</th>\n",
       "    </tr>\n",
       "  </thead>\n",
       "  <tbody>\n",
       "    <tr>\n",
       "      <td>backers</td>\n",
       "      <td>1.000</td>\n",
       "      <td>-0.001</td>\n",
       "      <td>0.017</td>\n",
       "      <td>0.129</td>\n",
       "      <td>0.005</td>\n",
       "      <td>0.752</td>\n",
       "    </tr>\n",
       "    <tr>\n",
       "      <td>days_until_deadline</td>\n",
       "      <td>-0.001</td>\n",
       "      <td>1.000</td>\n",
       "      <td>0.000</td>\n",
       "      <td>-0.028</td>\n",
       "      <td>0.005</td>\n",
       "      <td>0.001</td>\n",
       "    </tr>\n",
       "    <tr>\n",
       "      <td>percent_achieved_real</td>\n",
       "      <td>0.017</td>\n",
       "      <td>0.000</td>\n",
       "      <td>1.000</td>\n",
       "      <td>0.015</td>\n",
       "      <td>-0.000</td>\n",
       "      <td>0.009</td>\n",
       "    </tr>\n",
       "    <tr>\n",
       "      <td>state</td>\n",
       "      <td>0.129</td>\n",
       "      <td>-0.028</td>\n",
       "      <td>0.015</td>\n",
       "      <td>1.000</td>\n",
       "      <td>-0.024</td>\n",
       "      <td>0.111</td>\n",
       "    </tr>\n",
       "    <tr>\n",
       "      <td>usd_goal_real</td>\n",
       "      <td>0.005</td>\n",
       "      <td>0.005</td>\n",
       "      <td>-0.000</td>\n",
       "      <td>-0.024</td>\n",
       "      <td>1.000</td>\n",
       "      <td>0.006</td>\n",
       "    </tr>\n",
       "    <tr>\n",
       "      <td>usd_pledged_real</td>\n",
       "      <td>0.752</td>\n",
       "      <td>0.001</td>\n",
       "      <td>0.009</td>\n",
       "      <td>0.111</td>\n",
       "      <td>0.006</td>\n",
       "      <td>1.000</td>\n",
       "    </tr>\n",
       "  </tbody>\n",
       "</table>\n",
       "</div>"
      ],
      "text/plain": [
       "                       backers  days_until_deadline  percent_achieved_real  \\\n",
       "backers                  1.000               -0.001                  0.017   \n",
       "days_until_deadline     -0.001                1.000                  0.000   \n",
       "percent_achieved_real    0.017                0.000                  1.000   \n",
       "state                    0.129               -0.028                  0.015   \n",
       "usd_goal_real            0.005                0.005                 -0.000   \n",
       "usd_pledged_real         0.752                0.001                  0.009   \n",
       "\n",
       "                       state  usd_goal_real  usd_pledged_real  \n",
       "backers                0.129          0.005             0.752  \n",
       "days_until_deadline   -0.028          0.005             0.001  \n",
       "percent_achieved_real  0.015         -0.000             0.009  \n",
       "state                  1.000         -0.024             0.111  \n",
       "usd_goal_real         -0.024          1.000             0.006  \n",
       "usd_pledged_real       0.111          0.006             1.000  "
      ]
     },
     "execution_count": 29,
     "metadata": {},
     "output_type": "execute_result"
    }
   ],
   "source": [
    "# Correlation heatmap without redundant columns\n",
    "df_no_redundancies = df[df.columns.difference(['goal', 'pledged', 'usd pledged',])]\n",
    "df_no_redundancies.corr()"
   ]
  },
  {
   "cell_type": "code",
   "execution_count": 30,
   "metadata": {
    "ExecuteTime": {
     "end_time": "2020-09-10T01:53:02.354506Z",
     "start_time": "2020-09-10T01:53:02.045998Z"
    }
   },
   "outputs": [
    {
     "data": {
      "image/png": "[encoded data removed]",
      "text/plain": [
       "<Figure size 432x288 with 2 Axes>"
      ]
     },
     "metadata": {
      "needs_background": "light"
     },
     "output_type": "display_data"
    }
   ],
   "source": [
    "sns.heatmap(df_no_redundancies.corr())\n",
    "plt.show()"
   ]
  },
  {
   "cell_type": "markdown",
   "metadata": {},
   "source": [
    "From the heatmap above, it can be seen that `state` has a slightly strong positive correlation with `backers` and `usd_pledged_real`. Intuitively, this makes sense as an increase in the number of backers should result in an increase in both the amount of dollars pledged, and hopefully increase the project's chances of success."
   ]
  },
  {
   "cell_type": "code",
   "execution_count": 31,
   "metadata": {
    "ExecuteTime": {
     "end_time": "2020-09-10T01:53:48.152766Z",
     "start_time": "2020-09-10T01:53:02.355497Z"
    }
   },
   "outputs": [
    {
     "data": {
      "image/png": "[encoded data removed]",
      "text/plain": [
       "<Figure size 432x288 with 1 Axes>"
      ]
     },
     "metadata": {
      "needs_background": "light"
     },
     "output_type": "display_data"
    }
   ],
   "source": [
    "sns.regplot(x = 'backers', y = 'usd_pledged_real', data = df)\n",
    "plt.title('Number of backers vs USD pledged')\n",
    "plt.show()"
   ]
  },
  {
   "cell_type": "code",
   "execution_count": 32,
   "metadata": {
    "ExecuteTime": {
     "end_time": "2020-09-10T01:55:16.953932Z",
     "start_time": "2020-09-10T01:53:48.154766Z"
    }
   },
   "outputs": [
    {
     "data": {
      "image/png": "[encoded data removed]",
      "text/plain": [
       "<Figure size 1080x1080 with 42 Axes>"
      ]
     },
     "metadata": {
      "needs_background": "light"
     },
     "output_type": "display_data"
    }
   ],
   "source": [
    "sns.pairplot(df_no_redundancies)\n",
    "plt.show()"
   ]
  },
  {
   "cell_type": "code",
   "execution_count": 33,
   "metadata": {
    "ExecuteTime": {
     "end_time": "2020-09-10T01:55:28.834997Z",
     "start_time": "2020-09-10T01:55:16.954918Z"
    }
   },
   "outputs": [],
   "source": [
    "df.to_csv('data/after_eda.csv')\n",
    "df_no_redundancies.to_csv('data/no_redundancies.csv')"
   ]
  },
  {
   "cell_type": "code",
   "execution_count": null,
   "metadata": {},
   "outputs": [],
   "source": []
  }
 ],
 "metadata": {
  "kernelspec": {
   "display_name": "Python 3",
   "language": "python",
   "name": "python3"
  },
  "language_info": {
   "codemirror_mode": {
    "name": "ipython",
    "version": 3
   },
   "file_extension": ".py",
   "mimetype": "text/x-python",
   "name": "python",
   "nbconvert_exporter": "python",
   "pygments_lexer": "ipython3",
   "version": "3.7.4"
  },
  "varInspector": {
   "cols": {
    "lenName": 16,
    "lenType": 16,
    "lenVar": 40
   },
   "kernels_config": {
    "python": {
     "delete_cmd_postfix": "",
     "delete_cmd_prefix": "del ",
     "library": "var_list.py",
     "varRefreshCmd": "print(var_dic_list())"
    },
    "r": {
     "delete_cmd_postfix": ") ",
     "delete_cmd_prefix": "rm(",
     "library": "var_list.r",
     "varRefreshCmd": "cat(var_dic_list()) "
    }
   },
   "types_to_exclude": [
    "module",
    "function",
    "builtin_function_or_method",
    "instance",
    "_Feature"
   ],
   "window_display": false
  }
 },
 "nbformat": 4,
 "nbformat_minor": 2
}
