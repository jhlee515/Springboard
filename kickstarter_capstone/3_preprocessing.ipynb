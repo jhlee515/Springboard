{
 "cells": [
  {
   "cell_type": "markdown",
   "metadata": {},
   "source": [
    "# Kickstarter Projects: Success or Bust?\n",
    "\n",
    "Kickstarter is an online platform where users can help bring “creative projects to life” by donating to projects as they wish. As of 2019, there have been 445,000 projects in categories ranging from music, video games, stage shows and technology. Kickstarter allows unique projects and personal dreams to come into fruition. However, many projects do not get completed and donors can feel like they wasted their money. \n",
    "\n",
    "\n",
    "**Objective:** Utilize past data to predict whether a Kickstarter project will meet its initial donation goal.\n",
    "\n",
    "1. Data Cleaning\n",
    "    * Null values\n",
    "    * Erroneous Values\n",
    "2. Exploratory Data Analysis\n",
    "    * Visualizing dataset\n",
    "    * Correlations    \n",
    "3. **Data Preprocessing**\n",
    "    * **Scale numerical features**\n",
    "    * **One-hot encode categorical features**\n",
    "    * **train_test_split dataset**    \n",
    "4. Modeling\n",
    "    * Decision Tree/Random Forest Classifiers\n",
    "    * Gradient Boosting Classifier\n",
    "    * K-Nearest Neighbors Classifier\n",
    "    * Hyperparameter Tuning\n",
    "\n",
    "This project uses the dataset from the Kaggle dataset \"Kickstarter Projects\" found [here.](https://www.kaggle.com/kemical/kickstarter-projects?select=ks-projects-201801.csv)"
   ]
  },
  {
   "cell_type": "markdown",
   "metadata": {},
   "source": [
    "### Importing necessary packages"
   ]
  },
  {
   "cell_type": "code",
   "execution_count": 1,
   "metadata": {
    "ExecuteTime": {
     "end_time": "2020-10-22T18:41:32.887959Z",
     "start_time": "2020-10-22T18:41:31.766927Z"
    }
   },
   "outputs": [],
   "source": [
    "import pandas as pd\n",
    "import numpy as np\n",
    "from sklearn.preprocessing import StandardScaler\n",
    "from sklearn.model_selection import train_test_split\n",
    "import seaborn as sns\n",
    "import matplotlib.pyplot as plt"
   ]
  },
  {
   "cell_type": "markdown",
   "metadata": {},
   "source": [
    "### Investigating dataset"
   ]
  },
  {
   "cell_type": "code",
   "execution_count": 2,
   "metadata": {
    "ExecuteTime": {
     "end_time": "2020-10-22T18:41:33.695934Z",
     "start_time": "2020-10-22T18:41:32.908959Z"
    }
   },
   "outputs": [
    {
     "data": {
      "text/html": [
       "<div>\n",
       "<style scoped>\n",
       "    .dataframe tbody tr th:only-of-type {\n",
       "        vertical-align: middle;\n",
       "    }\n",
       "\n",
       "    .dataframe tbody tr th {\n",
       "        vertical-align: top;\n",
       "    }\n",
       "\n",
       "    .dataframe thead th {\n",
       "        text-align: right;\n",
       "    }\n",
       "</style>\n",
       "<table border=\"1\" class=\"dataframe\">\n",
       "  <thead>\n",
       "    <tr style=\"text-align: right;\">\n",
       "      <th></th>\n",
       "      <th>category</th>\n",
       "      <th>main_category</th>\n",
       "      <th>currency</th>\n",
       "      <th>deadline</th>\n",
       "      <th>goal</th>\n",
       "      <th>launched</th>\n",
       "      <th>pledged</th>\n",
       "      <th>state</th>\n",
       "      <th>backers</th>\n",
       "      <th>country</th>\n",
       "      <th>usd pledged</th>\n",
       "      <th>usd_pledged_real</th>\n",
       "      <th>usd_goal_real</th>\n",
       "      <th>days_until_deadline</th>\n",
       "      <th>percent_achieved_real</th>\n",
       "    </tr>\n",
       "  </thead>\n",
       "  <tbody>\n",
       "    <tr>\n",
       "      <th>0</th>\n",
       "      <td>Poetry</td>\n",
       "      <td>Publishing</td>\n",
       "      <td>GBP</td>\n",
       "      <td>2015-10-09 00:00:00</td>\n",
       "      <td>1000.0</td>\n",
       "      <td>2015-08-11 12:12:28</td>\n",
       "      <td>0.0</td>\n",
       "      <td>0</td>\n",
       "      <td>0</td>\n",
       "      <td>GB</td>\n",
       "      <td>0.0</td>\n",
       "      <td>0.0</td>\n",
       "      <td>1533.95</td>\n",
       "      <td>58</td>\n",
       "      <td>0.000000</td>\n",
       "    </tr>\n",
       "    <tr>\n",
       "      <th>1</th>\n",
       "      <td>Narrative Film</td>\n",
       "      <td>Film &amp; Video</td>\n",
       "      <td>USD</td>\n",
       "      <td>2017-11-01 00:00:00</td>\n",
       "      <td>30000.0</td>\n",
       "      <td>2017-09-02 04:43:57</td>\n",
       "      <td>2421.0</td>\n",
       "      <td>0</td>\n",
       "      <td>15</td>\n",
       "      <td>US</td>\n",
       "      <td>100.0</td>\n",
       "      <td>2421.0</td>\n",
       "      <td>30000.00</td>\n",
       "      <td>59</td>\n",
       "      <td>8.070000</td>\n",
       "    </tr>\n",
       "    <tr>\n",
       "      <th>2</th>\n",
       "      <td>Narrative Film</td>\n",
       "      <td>Film &amp; Video</td>\n",
       "      <td>USD</td>\n",
       "      <td>2013-02-26 00:00:00</td>\n",
       "      <td>45000.0</td>\n",
       "      <td>2013-01-12 00:20:50</td>\n",
       "      <td>220.0</td>\n",
       "      <td>0</td>\n",
       "      <td>3</td>\n",
       "      <td>US</td>\n",
       "      <td>220.0</td>\n",
       "      <td>220.0</td>\n",
       "      <td>45000.00</td>\n",
       "      <td>44</td>\n",
       "      <td>0.488889</td>\n",
       "    </tr>\n",
       "    <tr>\n",
       "      <th>3</th>\n",
       "      <td>Music</td>\n",
       "      <td>Music</td>\n",
       "      <td>USD</td>\n",
       "      <td>2012-04-16 00:00:00</td>\n",
       "      <td>5000.0</td>\n",
       "      <td>2012-03-17 03:24:11</td>\n",
       "      <td>1.0</td>\n",
       "      <td>0</td>\n",
       "      <td>1</td>\n",
       "      <td>US</td>\n",
       "      <td>1.0</td>\n",
       "      <td>1.0</td>\n",
       "      <td>5000.00</td>\n",
       "      <td>29</td>\n",
       "      <td>0.020000</td>\n",
       "    </tr>\n",
       "    <tr>\n",
       "      <th>4</th>\n",
       "      <td>Film &amp; Video</td>\n",
       "      <td>Film &amp; Video</td>\n",
       "      <td>USD</td>\n",
       "      <td>2015-08-29 00:00:00</td>\n",
       "      <td>19500.0</td>\n",
       "      <td>2015-07-04 08:35:03</td>\n",
       "      <td>1283.0</td>\n",
       "      <td>0</td>\n",
       "      <td>14</td>\n",
       "      <td>US</td>\n",
       "      <td>1283.0</td>\n",
       "      <td>1283.0</td>\n",
       "      <td>19500.00</td>\n",
       "      <td>55</td>\n",
       "      <td>6.579487</td>\n",
       "    </tr>\n",
       "  </tbody>\n",
       "</table>\n",
       "</div>"
      ],
      "text/plain": [
       "         category main_category currency             deadline     goal  \\\n",
       "0          Poetry    Publishing      GBP  2015-10-09 00:00:00   1000.0   \n",
       "1  Narrative Film  Film & Video      USD  2017-11-01 00:00:00  30000.0   \n",
       "2  Narrative Film  Film & Video      USD  2013-02-26 00:00:00  45000.0   \n",
       "3           Music         Music      USD  2012-04-16 00:00:00   5000.0   \n",
       "4    Film & Video  Film & Video      USD  2015-08-29 00:00:00  19500.0   \n",
       "\n",
       "              launched  pledged  state  backers country  usd pledged  \\\n",
       "0  2015-08-11 12:12:28      0.0      0        0      GB          0.0   \n",
       "1  2017-09-02 04:43:57   2421.0      0       15      US        100.0   \n",
       "2  2013-01-12 00:20:50    220.0      0        3      US        220.0   \n",
       "3  2012-03-17 03:24:11      1.0      0        1      US          1.0   \n",
       "4  2015-07-04 08:35:03   1283.0      0       14      US       1283.0   \n",
       "\n",
       "   usd_pledged_real  usd_goal_real  days_until_deadline  percent_achieved_real  \n",
       "0               0.0        1533.95                   58               0.000000  \n",
       "1            2421.0       30000.00                   59               8.070000  \n",
       "2             220.0       45000.00                   44               0.488889  \n",
       "3               1.0        5000.00                   29               0.020000  \n",
       "4            1283.0       19500.00                   55               6.579487  "
      ]
     },
     "execution_count": 2,
     "metadata": {},
     "output_type": "execute_result"
    }
   ],
   "source": [
    "df = pd.read_csv('data/after_eda.csv', index_col = 0)\n",
    "df.head()"
   ]
  },
  {
   "cell_type": "code",
   "execution_count": 3,
   "metadata": {
    "ExecuteTime": {
     "end_time": "2020-10-22T18:41:34.526923Z",
     "start_time": "2020-10-22T18:41:34.426914Z"
    }
   },
   "outputs": [
    {
     "name": "stdout",
     "output_type": "stream",
     "text": [
      "<class 'pandas.core.frame.DataFrame'>\n",
      "Int64Index: 370454 entries, 0 to 378660\n",
      "Data columns (total 15 columns):\n",
      " #   Column                 Non-Null Count   Dtype  \n",
      "---  ------                 --------------   -----  \n",
      " 0   category               370454 non-null  object \n",
      " 1   main_category          370454 non-null  object \n",
      " 2   currency               370454 non-null  object \n",
      " 3   deadline               370454 non-null  object \n",
      " 4   goal                   370454 non-null  float64\n",
      " 5   launched               370454 non-null  object \n",
      " 6   pledged                370454 non-null  float64\n",
      " 7   state                  370454 non-null  int64  \n",
      " 8   backers                370454 non-null  int64  \n",
      " 9   country                370454 non-null  object \n",
      " 10  usd pledged            370454 non-null  float64\n",
      " 11  usd_pledged_real       370454 non-null  float64\n",
      " 12  usd_goal_real          370454 non-null  float64\n",
      " 13  days_until_deadline    370454 non-null  int64  \n",
      " 14  percent_achieved_real  370454 non-null  float64\n",
      "dtypes: float64(6), int64(3), object(6)\n",
      "memory usage: 45.2+ MB\n"
     ]
    }
   ],
   "source": [
    "df.info()"
   ]
  },
  {
   "cell_type": "code",
   "execution_count": 4,
   "metadata": {
    "ExecuteTime": {
     "end_time": "2020-10-22T18:42:34.501753Z",
     "start_time": "2020-10-22T18:42:34.457764Z"
    }
   },
   "outputs": [],
   "source": [
    "# DROP df['percent_achieved_real']\n",
    "df.drop('percent_achieved_real', axis = 1, inplace = True)"
   ]
  },
  {
   "cell_type": "markdown",
   "metadata": {},
   "source": [
    "### Tasks:\n",
    "1. Scale numerical columns\n",
    "2. Categorical encoding for non-numerical columns"
   ]
  },
  {
   "cell_type": "code",
   "execution_count": 5,
   "metadata": {
    "ExecuteTime": {
     "end_time": "2020-10-22T18:42:42.958678Z",
     "start_time": "2020-10-22T18:42:41.003712Z"
    },
    "scrolled": true
   },
   "outputs": [
    {
     "data": {
      "image/png": "[encoded data removed]",
      "text/plain": [
       "<Figure size 432x288 with 1 Axes>"
      ]
     },
     "metadata": {
      "needs_background": "light"
     },
     "output_type": "display_data"
    },
    {
     "data": {
      "image/png": "[encoded data removed]",
      "text/plain": [
       "<Figure size 432x288 with 1 Axes>"
      ]
     },
     "metadata": {
      "needs_background": "light"
     },
     "output_type": "display_data"
    },
    {
     "data": {
      "image/png": "[encoded data removed]",
      "text/plain": [
       "<Figure size 432x288 with 1 Axes>"
      ]
     },
     "metadata": {
      "needs_background": "light"
     },
     "output_type": "display_data"
    },
    {
     "data": {
      "image/png": "[encoded data removed]",
      "text/plain": [
       "<Figure size 432x288 with 1 Axes>"
      ]
     },
     "metadata": {
      "needs_background": "light"
     },
     "output_type": "display_data"
    },
    {
     "data": {
      "image/png": "[encoded data removed]",
      "text/plain": [
       "<Figure size 432x288 with 1 Axes>"
      ]
     },
     "metadata": {
      "needs_background": "light"
     },
     "output_type": "display_data"
    },
    {
     "data": {
      "image/png": "[encoded data removed]",
      "text/plain": [
       "<Figure size 432x288 with 1 Axes>"
      ]
     },
     "metadata": {
      "needs_background": "light"
     },
     "output_type": "display_data"
    },
    {
     "data": {
      "image/png": "[encoded data removed]",
      "text/plain": [
       "<Figure size 432x288 with 1 Axes>"
      ]
     },
     "metadata": {
      "needs_background": "light"
     },
     "output_type": "display_data"
    }
   ],
   "source": [
    "numerical_cols = list(df.select_dtypes(['float64', 'int64']).drop('state', axis = 1).columns)\n",
    "\n",
    "for col in numerical_cols:\n",
    "    sns.distplot(df[col])\n",
    "    plt.show()"
   ]
  },
  {
   "cell_type": "markdown",
   "metadata": {
    "ExecuteTime": {
     "end_time": "2020-10-08T23:01:20.244810Z",
     "start_time": "2020-10-08T23:01:20.217810Z"
    }
   },
   "source": [
    "All of the numerical features (except for `state`) are heavily right skewed, which leaves me with two options of handling these features. I could either remove the extreme outliers or log-scale these features. I will try both methods to see what sort of distribution is obtained at the end."
   ]
  },
  {
   "cell_type": "markdown",
   "metadata": {},
   "source": [
    "### Removing outliers"
   ]
  },
  {
   "cell_type": "code",
   "execution_count": 6,
   "metadata": {
    "ExecuteTime": {
     "end_time": "2020-10-22T18:42:44.888567Z",
     "start_time": "2020-10-22T18:42:44.770571Z"
    }
   },
   "outputs": [
    {
     "data": {
      "text/plain": [
       "(367528, 14)"
      ]
     },
     "execution_count": 6,
     "metadata": {},
     "output_type": "execute_result"
    }
   ],
   "source": [
    "from scipy import stats\n",
    "\n",
    "z_score = abs(stats.zscore(df.select_dtypes(['int64', 'float64']).drop('state', axis = 1)))\n",
    "df_no_outliers = df[(z_score < 3).all(axis = 1)]\n",
    "df_no_outliers.shape"
   ]
  },
  {
   "cell_type": "code",
   "execution_count": 7,
   "metadata": {
    "ExecuteTime": {
     "end_time": "2020-10-22T18:42:46.889504Z",
     "start_time": "2020-10-22T18:42:44.921556Z"
    }
   },
   "outputs": [
    {
     "data": {
      "image/png": "[encoded data removed]",
      "text/plain": [
       "<Figure size 432x288 with 1 Axes>"
      ]
     },
     "metadata": {
      "needs_background": "light"
     },
     "output_type": "display_data"
    },
    {
     "data": {
      "image/png": "[encoded data removed]",
      "text/plain": [
       "<Figure size 432x288 with 1 Axes>"
      ]
     },
     "metadata": {
      "needs_background": "light"
     },
     "output_type": "display_data"
    },
    {
     "data": {
      "image/png": "[encoded data removed]",
      "text/plain": [
       "<Figure size 432x288 with 1 Axes>"
      ]
     },
     "metadata": {
      "needs_background": "light"
     },
     "output_type": "display_data"
    },
    {
     "data": {
      "image/png": "[encoded data removed]",
      "text/plain": [
       "<Figure size 432x288 with 1 Axes>"
      ]
     },
     "metadata": {
      "needs_background": "light"
     },
     "output_type": "display_data"
    },
    {
     "data": {
      "image/png": "[encoded data removed]",
      "text/plain": [
       "<Figure size 432x288 with 1 Axes>"
      ]
     },
     "metadata": {
      "needs_background": "light"
     },
     "output_type": "display_data"
    },
    {
     "data": {
      "image/png": "[encoded data removed]",
      "text/plain": [
       "<Figure size 432x288 with 1 Axes>"
      ]
     },
     "metadata": {
      "needs_background": "light"
     },
     "output_type": "display_data"
    },
    {
     "data": {
      "image/png": "[encoded data removed]",
      "text/plain": [
       "<Figure size 432x288 with 1 Axes>"
      ]
     },
     "metadata": {
      "needs_background": "light"
     },
     "output_type": "display_data"
    }
   ],
   "source": [
    "for col in numerical_cols:\n",
    "    sns.distplot(df_no_outliers[col])\n",
    "    plt.show()"
   ]
  },
  {
   "cell_type": "markdown",
   "metadata": {},
   "source": [
    "Even after excluding the outliers, the distribution of the columns are very heavily right skewed. Because of this the numbers will be scaled using log transformation to obtain a more normal distribution"
   ]
  },
  {
   "cell_type": "code",
   "execution_count": 8,
   "metadata": {
    "ExecuteTime": {
     "end_time": "2020-10-22T18:42:46.984491Z",
     "start_time": "2020-10-22T18:42:46.923493Z"
    }
   },
   "outputs": [
    {
     "name": "stderr",
     "output_type": "stream",
     "text": [
      "<ipython-input-8-78b0ec081650>:2: SettingWithCopyWarning: \n",
      "A value is trying to be set on a copy of a slice from a DataFrame.\n",
      "Try using .loc[row_indexer,col_indexer] = value instead\n",
      "\n",
      "See the caveats in the documentation: https://pandas.pydata.org/pandas-docs/stable/user_guide/indexing.html#returning-a-view-versus-a-copy\n",
      "  df_no_outliers[col] = np.log1p(df_no_outliers[col])\n"
     ]
    }
   ],
   "source": [
    "for col in numerical_cols:\n",
    "    df_no_outliers[col] = np.log1p(df_no_outliers[col])"
   ]
  },
  {
   "cell_type": "code",
   "execution_count": 9,
   "metadata": {
    "ExecuteTime": {
     "end_time": "2020-10-22T18:42:47.048489Z",
     "start_time": "2020-10-22T18:42:47.017490Z"
    },
    "scrolled": true
   },
   "outputs": [
    {
     "data": {
      "text/html": [
       "<div>\n",
       "<style scoped>\n",
       "    .dataframe tbody tr th:only-of-type {\n",
       "        vertical-align: middle;\n",
       "    }\n",
       "\n",
       "    .dataframe tbody tr th {\n",
       "        vertical-align: top;\n",
       "    }\n",
       "\n",
       "    .dataframe thead th {\n",
       "        text-align: right;\n",
       "    }\n",
       "</style>\n",
       "<table border=\"1\" class=\"dataframe\">\n",
       "  <thead>\n",
       "    <tr style=\"text-align: right;\">\n",
       "      <th></th>\n",
       "      <th>category</th>\n",
       "      <th>main_category</th>\n",
       "      <th>currency</th>\n",
       "      <th>deadline</th>\n",
       "      <th>goal</th>\n",
       "      <th>launched</th>\n",
       "      <th>pledged</th>\n",
       "      <th>state</th>\n",
       "      <th>backers</th>\n",
       "      <th>country</th>\n",
       "      <th>usd pledged</th>\n",
       "      <th>usd_pledged_real</th>\n",
       "      <th>usd_goal_real</th>\n",
       "      <th>days_until_deadline</th>\n",
       "    </tr>\n",
       "  </thead>\n",
       "  <tbody>\n",
       "    <tr>\n",
       "      <th>0</th>\n",
       "      <td>Poetry</td>\n",
       "      <td>Publishing</td>\n",
       "      <td>GBP</td>\n",
       "      <td>2015-10-09 00:00:00</td>\n",
       "      <td>6.908755</td>\n",
       "      <td>2015-08-11 12:12:28</td>\n",
       "      <td>0.000000</td>\n",
       "      <td>0</td>\n",
       "      <td>0.000000</td>\n",
       "      <td>GB</td>\n",
       "      <td>0.000000</td>\n",
       "      <td>0.000000</td>\n",
       "      <td>7.336253</td>\n",
       "      <td>4.077537</td>\n",
       "    </tr>\n",
       "    <tr>\n",
       "      <th>1</th>\n",
       "      <td>Narrative Film</td>\n",
       "      <td>Film &amp; Video</td>\n",
       "      <td>USD</td>\n",
       "      <td>2017-11-01 00:00:00</td>\n",
       "      <td>10.308986</td>\n",
       "      <td>2017-09-02 04:43:57</td>\n",
       "      <td>7.792349</td>\n",
       "      <td>0</td>\n",
       "      <td>2.772589</td>\n",
       "      <td>US</td>\n",
       "      <td>4.615121</td>\n",
       "      <td>7.792349</td>\n",
       "      <td>10.308986</td>\n",
       "      <td>4.094345</td>\n",
       "    </tr>\n",
       "    <tr>\n",
       "      <th>2</th>\n",
       "      <td>Narrative Film</td>\n",
       "      <td>Film &amp; Video</td>\n",
       "      <td>USD</td>\n",
       "      <td>2013-02-26 00:00:00</td>\n",
       "      <td>10.714440</td>\n",
       "      <td>2013-01-12 00:20:50</td>\n",
       "      <td>5.398163</td>\n",
       "      <td>0</td>\n",
       "      <td>1.386294</td>\n",
       "      <td>US</td>\n",
       "      <td>5.398163</td>\n",
       "      <td>5.398163</td>\n",
       "      <td>10.714440</td>\n",
       "      <td>3.806662</td>\n",
       "    </tr>\n",
       "    <tr>\n",
       "      <th>3</th>\n",
       "      <td>Music</td>\n",
       "      <td>Music</td>\n",
       "      <td>USD</td>\n",
       "      <td>2012-04-16 00:00:00</td>\n",
       "      <td>8.517393</td>\n",
       "      <td>2012-03-17 03:24:11</td>\n",
       "      <td>0.693147</td>\n",
       "      <td>0</td>\n",
       "      <td>0.693147</td>\n",
       "      <td>US</td>\n",
       "      <td>0.693147</td>\n",
       "      <td>0.693147</td>\n",
       "      <td>8.517393</td>\n",
       "      <td>3.401197</td>\n",
       "    </tr>\n",
       "    <tr>\n",
       "      <th>4</th>\n",
       "      <td>Film &amp; Video</td>\n",
       "      <td>Film &amp; Video</td>\n",
       "      <td>USD</td>\n",
       "      <td>2015-08-29 00:00:00</td>\n",
       "      <td>9.878221</td>\n",
       "      <td>2015-07-04 08:35:03</td>\n",
       "      <td>7.157735</td>\n",
       "      <td>0</td>\n",
       "      <td>2.708050</td>\n",
       "      <td>US</td>\n",
       "      <td>7.157735</td>\n",
       "      <td>7.157735</td>\n",
       "      <td>9.878221</td>\n",
       "      <td>4.025352</td>\n",
       "    </tr>\n",
       "    <tr>\n",
       "      <th>...</th>\n",
       "      <td>...</td>\n",
       "      <td>...</td>\n",
       "      <td>...</td>\n",
       "      <td>...</td>\n",
       "      <td>...</td>\n",
       "      <td>...</td>\n",
       "      <td>...</td>\n",
       "      <td>...</td>\n",
       "      <td>...</td>\n",
       "      <td>...</td>\n",
       "      <td>...</td>\n",
       "      <td>...</td>\n",
       "      <td>...</td>\n",
       "      <td>...</td>\n",
       "    </tr>\n",
       "    <tr>\n",
       "      <th>378656</th>\n",
       "      <td>Documentary</td>\n",
       "      <td>Film &amp; Video</td>\n",
       "      <td>USD</td>\n",
       "      <td>2014-10-17 00:00:00</td>\n",
       "      <td>10.819798</td>\n",
       "      <td>2014-09-17 02:35:30</td>\n",
       "      <td>3.258097</td>\n",
       "      <td>0</td>\n",
       "      <td>0.693147</td>\n",
       "      <td>US</td>\n",
       "      <td>3.258097</td>\n",
       "      <td>3.258097</td>\n",
       "      <td>10.819798</td>\n",
       "      <td>3.401197</td>\n",
       "    </tr>\n",
       "    <tr>\n",
       "      <th>378657</th>\n",
       "      <td>Narrative Film</td>\n",
       "      <td>Film &amp; Video</td>\n",
       "      <td>USD</td>\n",
       "      <td>2011-07-19 00:00:00</td>\n",
       "      <td>7.313887</td>\n",
       "      <td>2011-06-22 03:35:14</td>\n",
       "      <td>5.049856</td>\n",
       "      <td>0</td>\n",
       "      <td>1.791759</td>\n",
       "      <td>US</td>\n",
       "      <td>5.049856</td>\n",
       "      <td>5.049856</td>\n",
       "      <td>7.313887</td>\n",
       "      <td>3.295837</td>\n",
       "    </tr>\n",
       "    <tr>\n",
       "      <th>378658</th>\n",
       "      <td>Narrative Film</td>\n",
       "      <td>Film &amp; Video</td>\n",
       "      <td>USD</td>\n",
       "      <td>2010-08-16 00:00:00</td>\n",
       "      <td>9.615872</td>\n",
       "      <td>2010-07-01 19:40:30</td>\n",
       "      <td>3.044522</td>\n",
       "      <td>0</td>\n",
       "      <td>0.693147</td>\n",
       "      <td>US</td>\n",
       "      <td>3.044522</td>\n",
       "      <td>3.044522</td>\n",
       "      <td>9.615872</td>\n",
       "      <td>3.828641</td>\n",
       "    </tr>\n",
       "    <tr>\n",
       "      <th>378659</th>\n",
       "      <td>Technology</td>\n",
       "      <td>Technology</td>\n",
       "      <td>USD</td>\n",
       "      <td>2016-02-13 00:00:00</td>\n",
       "      <td>9.615872</td>\n",
       "      <td>2016-01-13 18:13:53</td>\n",
       "      <td>5.303305</td>\n",
       "      <td>0</td>\n",
       "      <td>1.945910</td>\n",
       "      <td>US</td>\n",
       "      <td>5.303305</td>\n",
       "      <td>5.303305</td>\n",
       "      <td>9.615872</td>\n",
       "      <td>3.433987</td>\n",
       "    </tr>\n",
       "    <tr>\n",
       "      <th>378660</th>\n",
       "      <td>Performance Art</td>\n",
       "      <td>Art</td>\n",
       "      <td>USD</td>\n",
       "      <td>2011-08-16 00:00:00</td>\n",
       "      <td>7.601402</td>\n",
       "      <td>2011-07-19 09:07:47</td>\n",
       "      <td>6.263398</td>\n",
       "      <td>0</td>\n",
       "      <td>2.890372</td>\n",
       "      <td>US</td>\n",
       "      <td>6.263398</td>\n",
       "      <td>6.263398</td>\n",
       "      <td>7.601402</td>\n",
       "      <td>3.332205</td>\n",
       "    </tr>\n",
       "  </tbody>\n",
       "</table>\n",
       "<p>367528 rows × 14 columns</p>\n",
       "</div>"
      ],
      "text/plain": [
       "               category main_category currency             deadline  \\\n",
       "0                Poetry    Publishing      GBP  2015-10-09 00:00:00   \n",
       "1        Narrative Film  Film & Video      USD  2017-11-01 00:00:00   \n",
       "2        Narrative Film  Film & Video      USD  2013-02-26 00:00:00   \n",
       "3                 Music         Music      USD  2012-04-16 00:00:00   \n",
       "4          Film & Video  Film & Video      USD  2015-08-29 00:00:00   \n",
       "...                 ...           ...      ...                  ...   \n",
       "378656      Documentary  Film & Video      USD  2014-10-17 00:00:00   \n",
       "378657   Narrative Film  Film & Video      USD  2011-07-19 00:00:00   \n",
       "378658   Narrative Film  Film & Video      USD  2010-08-16 00:00:00   \n",
       "378659       Technology    Technology      USD  2016-02-13 00:00:00   \n",
       "378660  Performance Art           Art      USD  2011-08-16 00:00:00   \n",
       "\n",
       "             goal             launched   pledged  state   backers country  \\\n",
       "0        6.908755  2015-08-11 12:12:28  0.000000      0  0.000000      GB   \n",
       "1       10.308986  2017-09-02 04:43:57  7.792349      0  2.772589      US   \n",
       "2       10.714440  2013-01-12 00:20:50  5.398163      0  1.386294      US   \n",
       "3        8.517393  2012-03-17 03:24:11  0.693147      0  0.693147      US   \n",
       "4        9.878221  2015-07-04 08:35:03  7.157735      0  2.708050      US   \n",
       "...           ...                  ...       ...    ...       ...     ...   \n",
       "378656  10.819798  2014-09-17 02:35:30  3.258097      0  0.693147      US   \n",
       "378657   7.313887  2011-06-22 03:35:14  5.049856      0  1.791759      US   \n",
       "378658   9.615872  2010-07-01 19:40:30  3.044522      0  0.693147      US   \n",
       "378659   9.615872  2016-01-13 18:13:53  5.303305      0  1.945910      US   \n",
       "378660   7.601402  2011-07-19 09:07:47  6.263398      0  2.890372      US   \n",
       "\n",
       "        usd pledged  usd_pledged_real  usd_goal_real  days_until_deadline  \n",
       "0          0.000000          0.000000       7.336253             4.077537  \n",
       "1          4.615121          7.792349      10.308986             4.094345  \n",
       "2          5.398163          5.398163      10.714440             3.806662  \n",
       "3          0.693147          0.693147       8.517393             3.401197  \n",
       "4          7.157735          7.157735       9.878221             4.025352  \n",
       "...             ...               ...            ...                  ...  \n",
       "378656     3.258097          3.258097      10.819798             3.401197  \n",
       "378657     5.049856          5.049856       7.313887             3.295837  \n",
       "378658     3.044522          3.044522       9.615872             3.828641  \n",
       "378659     5.303305          5.303305       9.615872             3.433987  \n",
       "378660     6.263398          6.263398       7.601402             3.332205  \n",
       "\n",
       "[367528 rows x 14 columns]"
      ]
     },
     "execution_count": 9,
     "metadata": {},
     "output_type": "execute_result"
    }
   ],
   "source": [
    "df_no_outliers"
   ]
  },
  {
   "cell_type": "code",
   "execution_count": 10,
   "metadata": {
    "ExecuteTime": {
     "end_time": "2020-10-22T18:42:49.055441Z",
     "start_time": "2020-10-22T18:42:47.094495Z"
    },
    "scrolled": true
   },
   "outputs": [
    {
     "data": {
      "image/png": "[encoded data removed]",
      "text/plain": [
       "<Figure size 432x288 with 1 Axes>"
      ]
     },
     "metadata": {
      "needs_background": "light"
     },
     "output_type": "display_data"
    },
    {
     "data": {
      "image/png": "[encoded data removed]",
      "text/plain": [
       "<Figure size 432x288 with 1 Axes>"
      ]
     },
     "metadata": {
      "needs_background": "light"
     },
     "output_type": "display_data"
    },
    {
     "data": {
      "image/png": "[encoded data removed]",
      "text/plain": [
       "<Figure size 432x288 with 1 Axes>"
      ]
     },
     "metadata": {
      "needs_background": "light"
     },
     "output_type": "display_data"
    },
    {
     "data": {
      "image/png": "[encoded data removed]",
      "text/plain": [
       "<Figure size 432x288 with 1 Axes>"
      ]
     },
     "metadata": {
      "needs_background": "light"
     },
     "output_type": "display_data"
    },
    {
     "data": {
      "image/png": "[encoded data removed]",
      "text/plain": [
       "<Figure size 432x288 with 1 Axes>"
      ]
     },
     "metadata": {
      "needs_background": "light"
     },
     "output_type": "display_data"
    },
    {
     "data": {
      "image/png": "[encoded data removed]",
      "text/plain": [
       "<Figure size 432x288 with 1 Axes>"
      ]
     },
     "metadata": {
      "needs_background": "light"
     },
     "output_type": "display_data"
    },
    {
     "data": {
      "image/png": "[encoded data removed]",
      "text/plain": [
       "<Figure size 432x288 with 1 Axes>"
      ]
     },
     "metadata": {
      "needs_background": "light"
     },
     "output_type": "display_data"
    }
   ],
   "source": [
    "for col in numerical_cols:\n",
    "    sns.distplot(df_no_outliers[col])\n",
    "    plt.show()"
   ]
  },
  {
   "cell_type": "markdown",
   "metadata": {
    "ExecuteTime": {
     "end_time": "2020-10-12T20:25:38.830607Z",
     "start_time": "2020-10-12T20:25:38.800598Z"
    }
   },
   "source": [
    "### Drop redundant/irrelevant columns"
   ]
  },
  {
   "cell_type": "code",
   "execution_count": 11,
   "metadata": {
    "ExecuteTime": {
     "end_time": "2020-10-22T18:42:49.163605Z",
     "start_time": "2020-10-22T18:42:49.102607Z"
    }
   },
   "outputs": [
    {
     "name": "stderr",
     "output_type": "stream",
     "text": [
      "C:\\Users\\Ji Ho\\anaconda3\\lib\\site-packages\\pandas\\core\\frame.py:3990: SettingWithCopyWarning: \n",
      "A value is trying to be set on a copy of a slice from a DataFrame\n",
      "\n",
      "See the caveats in the documentation: https://pandas.pydata.org/pandas-docs/stable/user_guide/indexing.html#returning-a-view-versus-a-copy\n",
      "  return super().drop(\n"
     ]
    },
    {
     "data": {
      "text/html": [
       "<div>\n",
       "<style scoped>\n",
       "    .dataframe tbody tr th:only-of-type {\n",
       "        vertical-align: middle;\n",
       "    }\n",
       "\n",
       "    .dataframe tbody tr th {\n",
       "        vertical-align: top;\n",
       "    }\n",
       "\n",
       "    .dataframe thead th {\n",
       "        text-align: right;\n",
       "    }\n",
       "</style>\n",
       "<table border=\"1\" class=\"dataframe\">\n",
       "  <thead>\n",
       "    <tr style=\"text-align: right;\">\n",
       "      <th></th>\n",
       "      <th>main_category</th>\n",
       "      <th>goal</th>\n",
       "      <th>pledged</th>\n",
       "      <th>state</th>\n",
       "      <th>backers</th>\n",
       "      <th>country</th>\n",
       "      <th>usd pledged</th>\n",
       "      <th>usd_pledged_real</th>\n",
       "      <th>usd_goal_real</th>\n",
       "      <th>days_until_deadline</th>\n",
       "    </tr>\n",
       "  </thead>\n",
       "  <tbody>\n",
       "    <tr>\n",
       "      <th>0</th>\n",
       "      <td>Publishing</td>\n",
       "      <td>6.908755</td>\n",
       "      <td>0.000000</td>\n",
       "      <td>0</td>\n",
       "      <td>0.000000</td>\n",
       "      <td>GB</td>\n",
       "      <td>0.000000</td>\n",
       "      <td>0.000000</td>\n",
       "      <td>7.336253</td>\n",
       "      <td>4.077537</td>\n",
       "    </tr>\n",
       "    <tr>\n",
       "      <th>1</th>\n",
       "      <td>Film &amp; Video</td>\n",
       "      <td>10.308986</td>\n",
       "      <td>7.792349</td>\n",
       "      <td>0</td>\n",
       "      <td>2.772589</td>\n",
       "      <td>US</td>\n",
       "      <td>4.615121</td>\n",
       "      <td>7.792349</td>\n",
       "      <td>10.308986</td>\n",
       "      <td>4.094345</td>\n",
       "    </tr>\n",
       "    <tr>\n",
       "      <th>2</th>\n",
       "      <td>Film &amp; Video</td>\n",
       "      <td>10.714440</td>\n",
       "      <td>5.398163</td>\n",
       "      <td>0</td>\n",
       "      <td>1.386294</td>\n",
       "      <td>US</td>\n",
       "      <td>5.398163</td>\n",
       "      <td>5.398163</td>\n",
       "      <td>10.714440</td>\n",
       "      <td>3.806662</td>\n",
       "    </tr>\n",
       "    <tr>\n",
       "      <th>3</th>\n",
       "      <td>Music</td>\n",
       "      <td>8.517393</td>\n",
       "      <td>0.693147</td>\n",
       "      <td>0</td>\n",
       "      <td>0.693147</td>\n",
       "      <td>US</td>\n",
       "      <td>0.693147</td>\n",
       "      <td>0.693147</td>\n",
       "      <td>8.517393</td>\n",
       "      <td>3.401197</td>\n",
       "    </tr>\n",
       "    <tr>\n",
       "      <th>4</th>\n",
       "      <td>Film &amp; Video</td>\n",
       "      <td>9.878221</td>\n",
       "      <td>7.157735</td>\n",
       "      <td>0</td>\n",
       "      <td>2.708050</td>\n",
       "      <td>US</td>\n",
       "      <td>7.157735</td>\n",
       "      <td>7.157735</td>\n",
       "      <td>9.878221</td>\n",
       "      <td>4.025352</td>\n",
       "    </tr>\n",
       "  </tbody>\n",
       "</table>\n",
       "</div>"
      ],
      "text/plain": [
       "  main_category       goal   pledged  state   backers country  usd pledged  \\\n",
       "0    Publishing   6.908755  0.000000      0  0.000000      GB     0.000000   \n",
       "1  Film & Video  10.308986  7.792349      0  2.772589      US     4.615121   \n",
       "2  Film & Video  10.714440  5.398163      0  1.386294      US     5.398163   \n",
       "3         Music   8.517393  0.693147      0  0.693147      US     0.693147   \n",
       "4  Film & Video   9.878221  7.157735      0  2.708050      US     7.157735   \n",
       "\n",
       "   usd_pledged_real  usd_goal_real  days_until_deadline  \n",
       "0          0.000000       7.336253             4.077537  \n",
       "1          7.792349      10.308986             4.094345  \n",
       "2          5.398163      10.714440             3.806662  \n",
       "3          0.693147       8.517393             3.401197  \n",
       "4          7.157735       9.878221             4.025352  "
      ]
     },
     "execution_count": 11,
     "metadata": {},
     "output_type": "execute_result"
    }
   ],
   "source": [
    "df_no_outliers.drop(['category', 'currency', 'deadline', 'launched'], axis = 1, inplace = True)\n",
    "df_no_outliers.head()"
   ]
  },
  {
   "cell_type": "code",
   "execution_count": 12,
   "metadata": {
    "ExecuteTime": {
     "end_time": "2020-10-22T18:42:49.211615Z",
     "start_time": "2020-10-22T18:42:49.196614Z"
    }
   },
   "outputs": [],
   "source": [
    "df_no_outliers.reset_index(drop = True, inplace  = True)"
   ]
  },
  {
   "cell_type": "markdown",
   "metadata": {
    "ExecuteTime": {
     "end_time": "2020-10-12T20:34:38.461202Z",
     "start_time": "2020-10-12T20:34:38.438203Z"
    }
   },
   "source": [
    "### Encode categorical features"
   ]
  },
  {
   "cell_type": "code",
   "execution_count": 13,
   "metadata": {
    "ExecuteTime": {
     "end_time": "2020-10-22T18:42:49.259602Z",
     "start_time": "2020-10-22T18:42:49.244602Z"
    }
   },
   "outputs": [],
   "source": [
    "categorical_columns = df_no_outliers.select_dtypes('object')"
   ]
  },
  {
   "cell_type": "code",
   "execution_count": 14,
   "metadata": {
    "ExecuteTime": {
     "end_time": "2020-10-22T18:42:49.387608Z",
     "start_time": "2020-10-22T18:42:49.292601Z"
    }
   },
   "outputs": [
    {
     "data": {
      "text/html": [
       "<div>\n",
       "<style scoped>\n",
       "    .dataframe tbody tr th:only-of-type {\n",
       "        vertical-align: middle;\n",
       "    }\n",
       "\n",
       "    .dataframe tbody tr th {\n",
       "        vertical-align: top;\n",
       "    }\n",
       "\n",
       "    .dataframe thead th {\n",
       "        text-align: right;\n",
       "    }\n",
       "</style>\n",
       "<table border=\"1\" class=\"dataframe\">\n",
       "  <thead>\n",
       "    <tr style=\"text-align: right;\">\n",
       "      <th></th>\n",
       "      <th>main_category_Art</th>\n",
       "      <th>main_category_Comics</th>\n",
       "      <th>main_category_Crafts</th>\n",
       "      <th>main_category_Dance</th>\n",
       "      <th>main_category_Design</th>\n",
       "      <th>main_category_Fashion</th>\n",
       "      <th>main_category_Film &amp; Video</th>\n",
       "      <th>main_category_Food</th>\n",
       "      <th>main_category_Games</th>\n",
       "      <th>main_category_Journalism</th>\n",
       "      <th>...</th>\n",
       "      <th>country_IT</th>\n",
       "      <th>country_JP</th>\n",
       "      <th>country_LU</th>\n",
       "      <th>country_MX</th>\n",
       "      <th>country_NL</th>\n",
       "      <th>country_NO</th>\n",
       "      <th>country_NZ</th>\n",
       "      <th>country_SE</th>\n",
       "      <th>country_SG</th>\n",
       "      <th>country_US</th>\n",
       "    </tr>\n",
       "  </thead>\n",
       "  <tbody>\n",
       "    <tr>\n",
       "      <th>0</th>\n",
       "      <td>0</td>\n",
       "      <td>0</td>\n",
       "      <td>0</td>\n",
       "      <td>0</td>\n",
       "      <td>0</td>\n",
       "      <td>0</td>\n",
       "      <td>0</td>\n",
       "      <td>0</td>\n",
       "      <td>0</td>\n",
       "      <td>0</td>\n",
       "      <td>...</td>\n",
       "      <td>0</td>\n",
       "      <td>0</td>\n",
       "      <td>0</td>\n",
       "      <td>0</td>\n",
       "      <td>0</td>\n",
       "      <td>0</td>\n",
       "      <td>0</td>\n",
       "      <td>0</td>\n",
       "      <td>0</td>\n",
       "      <td>0</td>\n",
       "    </tr>\n",
       "    <tr>\n",
       "      <th>1</th>\n",
       "      <td>0</td>\n",
       "      <td>0</td>\n",
       "      <td>0</td>\n",
       "      <td>0</td>\n",
       "      <td>0</td>\n",
       "      <td>0</td>\n",
       "      <td>1</td>\n",
       "      <td>0</td>\n",
       "      <td>0</td>\n",
       "      <td>0</td>\n",
       "      <td>...</td>\n",
       "      <td>0</td>\n",
       "      <td>0</td>\n",
       "      <td>0</td>\n",
       "      <td>0</td>\n",
       "      <td>0</td>\n",
       "      <td>0</td>\n",
       "      <td>0</td>\n",
       "      <td>0</td>\n",
       "      <td>0</td>\n",
       "      <td>1</td>\n",
       "    </tr>\n",
       "    <tr>\n",
       "      <th>2</th>\n",
       "      <td>0</td>\n",
       "      <td>0</td>\n",
       "      <td>0</td>\n",
       "      <td>0</td>\n",
       "      <td>0</td>\n",
       "      <td>0</td>\n",
       "      <td>1</td>\n",
       "      <td>0</td>\n",
       "      <td>0</td>\n",
       "      <td>0</td>\n",
       "      <td>...</td>\n",
       "      <td>0</td>\n",
       "      <td>0</td>\n",
       "      <td>0</td>\n",
       "      <td>0</td>\n",
       "      <td>0</td>\n",
       "      <td>0</td>\n",
       "      <td>0</td>\n",
       "      <td>0</td>\n",
       "      <td>0</td>\n",
       "      <td>1</td>\n",
       "    </tr>\n",
       "    <tr>\n",
       "      <th>3</th>\n",
       "      <td>0</td>\n",
       "      <td>0</td>\n",
       "      <td>0</td>\n",
       "      <td>0</td>\n",
       "      <td>0</td>\n",
       "      <td>0</td>\n",
       "      <td>0</td>\n",
       "      <td>0</td>\n",
       "      <td>0</td>\n",
       "      <td>0</td>\n",
       "      <td>...</td>\n",
       "      <td>0</td>\n",
       "      <td>0</td>\n",
       "      <td>0</td>\n",
       "      <td>0</td>\n",
       "      <td>0</td>\n",
       "      <td>0</td>\n",
       "      <td>0</td>\n",
       "      <td>0</td>\n",
       "      <td>0</td>\n",
       "      <td>1</td>\n",
       "    </tr>\n",
       "    <tr>\n",
       "      <th>4</th>\n",
       "      <td>0</td>\n",
       "      <td>0</td>\n",
       "      <td>0</td>\n",
       "      <td>0</td>\n",
       "      <td>0</td>\n",
       "      <td>0</td>\n",
       "      <td>1</td>\n",
       "      <td>0</td>\n",
       "      <td>0</td>\n",
       "      <td>0</td>\n",
       "      <td>...</td>\n",
       "      <td>0</td>\n",
       "      <td>0</td>\n",
       "      <td>0</td>\n",
       "      <td>0</td>\n",
       "      <td>0</td>\n",
       "      <td>0</td>\n",
       "      <td>0</td>\n",
       "      <td>0</td>\n",
       "      <td>0</td>\n",
       "      <td>1</td>\n",
       "    </tr>\n",
       "  </tbody>\n",
       "</table>\n",
       "<p>5 rows × 38 columns</p>\n",
       "</div>"
      ],
      "text/plain": [
       "   main_category_Art  main_category_Comics  main_category_Crafts  \\\n",
       "0                  0                     0                     0   \n",
       "1                  0                     0                     0   \n",
       "2                  0                     0                     0   \n",
       "3                  0                     0                     0   \n",
       "4                  0                     0                     0   \n",
       "\n",
       "   main_category_Dance  main_category_Design  main_category_Fashion  \\\n",
       "0                    0                     0                      0   \n",
       "1                    0                     0                      0   \n",
       "2                    0                     0                      0   \n",
       "3                    0                     0                      0   \n",
       "4                    0                     0                      0   \n",
       "\n",
       "   main_category_Film & Video  main_category_Food  main_category_Games  \\\n",
       "0                           0                   0                    0   \n",
       "1                           1                   0                    0   \n",
       "2                           1                   0                    0   \n",
       "3                           0                   0                    0   \n",
       "4                           1                   0                    0   \n",
       "\n",
       "   main_category_Journalism  ...  country_IT  country_JP  country_LU  \\\n",
       "0                         0  ...           0           0           0   \n",
       "1                         0  ...           0           0           0   \n",
       "2                         0  ...           0           0           0   \n",
       "3                         0  ...           0           0           0   \n",
       "4                         0  ...           0           0           0   \n",
       "\n",
       "   country_MX  country_NL  country_NO  country_NZ  country_SE  country_SG  \\\n",
       "0           0           0           0           0           0           0   \n",
       "1           0           0           0           0           0           0   \n",
       "2           0           0           0           0           0           0   \n",
       "3           0           0           0           0           0           0   \n",
       "4           0           0           0           0           0           0   \n",
       "\n",
       "   country_US  \n",
       "0           0  \n",
       "1           1  \n",
       "2           1  \n",
       "3           1  \n",
       "4           1  \n",
       "\n",
       "[5 rows x 38 columns]"
      ]
     },
     "execution_count": 14,
     "metadata": {},
     "output_type": "execute_result"
    }
   ],
   "source": [
    "categorical = pd.get_dummies(categorical_columns)\n",
    "categorical.head()"
   ]
  },
  {
   "cell_type": "markdown",
   "metadata": {},
   "source": [
    "### Scale features"
   ]
  },
  {
   "cell_type": "code",
   "execution_count": 15,
   "metadata": {
    "ExecuteTime": {
     "end_time": "2020-10-22T18:42:49.467595Z",
     "start_time": "2020-10-22T18:42:49.436596Z"
    }
   },
   "outputs": [
    {
     "data": {
      "text/html": [
       "<div>\n",
       "<style scoped>\n",
       "    .dataframe tbody tr th:only-of-type {\n",
       "        vertical-align: middle;\n",
       "    }\n",
       "\n",
       "    .dataframe tbody tr th {\n",
       "        vertical-align: top;\n",
       "    }\n",
       "\n",
       "    .dataframe thead th {\n",
       "        text-align: right;\n",
       "    }\n",
       "</style>\n",
       "<table border=\"1\" class=\"dataframe\">\n",
       "  <thead>\n",
       "    <tr style=\"text-align: right;\">\n",
       "      <th></th>\n",
       "      <th>goal</th>\n",
       "      <th>pledged</th>\n",
       "      <th>backers</th>\n",
       "      <th>usd pledged</th>\n",
       "      <th>usd_pledged_real</th>\n",
       "      <th>usd_goal_real</th>\n",
       "      <th>days_until_deadline</th>\n",
       "    </tr>\n",
       "  </thead>\n",
       "  <tbody>\n",
       "    <tr>\n",
       "      <th>0</th>\n",
       "      <td>6.908755</td>\n",
       "      <td>0.000000</td>\n",
       "      <td>0.000000</td>\n",
       "      <td>0.000000</td>\n",
       "      <td>0.000000</td>\n",
       "      <td>7.336253</td>\n",
       "      <td>4.077537</td>\n",
       "    </tr>\n",
       "    <tr>\n",
       "      <th>1</th>\n",
       "      <td>10.308986</td>\n",
       "      <td>7.792349</td>\n",
       "      <td>2.772589</td>\n",
       "      <td>4.615121</td>\n",
       "      <td>7.792349</td>\n",
       "      <td>10.308986</td>\n",
       "      <td>4.094345</td>\n",
       "    </tr>\n",
       "    <tr>\n",
       "      <th>2</th>\n",
       "      <td>10.714440</td>\n",
       "      <td>5.398163</td>\n",
       "      <td>1.386294</td>\n",
       "      <td>5.398163</td>\n",
       "      <td>5.398163</td>\n",
       "      <td>10.714440</td>\n",
       "      <td>3.806662</td>\n",
       "    </tr>\n",
       "    <tr>\n",
       "      <th>3</th>\n",
       "      <td>8.517393</td>\n",
       "      <td>0.693147</td>\n",
       "      <td>0.693147</td>\n",
       "      <td>0.693147</td>\n",
       "      <td>0.693147</td>\n",
       "      <td>8.517393</td>\n",
       "      <td>3.401197</td>\n",
       "    </tr>\n",
       "    <tr>\n",
       "      <th>4</th>\n",
       "      <td>9.878221</td>\n",
       "      <td>7.157735</td>\n",
       "      <td>2.708050</td>\n",
       "      <td>7.157735</td>\n",
       "      <td>7.157735</td>\n",
       "      <td>9.878221</td>\n",
       "      <td>4.025352</td>\n",
       "    </tr>\n",
       "  </tbody>\n",
       "</table>\n",
       "</div>"
      ],
      "text/plain": [
       "        goal   pledged   backers  usd pledged  usd_pledged_real  \\\n",
       "0   6.908755  0.000000  0.000000     0.000000          0.000000   \n",
       "1  10.308986  7.792349  2.772589     4.615121          7.792349   \n",
       "2  10.714440  5.398163  1.386294     5.398163          5.398163   \n",
       "3   8.517393  0.693147  0.693147     0.693147          0.693147   \n",
       "4   9.878221  7.157735  2.708050     7.157735          7.157735   \n",
       "\n",
       "   usd_goal_real  days_until_deadline  \n",
       "0       7.336253             4.077537  \n",
       "1      10.308986             4.094345  \n",
       "2      10.714440             3.806662  \n",
       "3       8.517393             3.401197  \n",
       "4       9.878221             4.025352  "
      ]
     },
     "execution_count": 15,
     "metadata": {},
     "output_type": "execute_result"
    }
   ],
   "source": [
    "numerical = df_no_outliers[numerical_cols]\n",
    "y = df_no_outliers['state']\n",
    "numerical.head()"
   ]
  },
  {
   "cell_type": "code",
   "execution_count": 16,
   "metadata": {
    "ExecuteTime": {
     "end_time": "2020-10-22T18:42:49.595668Z",
     "start_time": "2020-10-22T18:42:49.533658Z"
    }
   },
   "outputs": [],
   "source": [
    "scaler = StandardScaler()\n",
    "numerical_scaled = scaler.fit_transform(numerical)"
   ]
  },
  {
   "cell_type": "code",
   "execution_count": 17,
   "metadata": {
    "ExecuteTime": {
     "end_time": "2020-10-22T18:42:49.673653Z",
     "start_time": "2020-10-22T18:42:49.658639Z"
    }
   },
   "outputs": [],
   "source": [
    "X = pd.DataFrame(numerical_scaled, columns = numerical_cols)"
   ]
  },
  {
   "cell_type": "code",
   "execution_count": 18,
   "metadata": {
    "ExecuteTime": {
     "end_time": "2020-10-22T18:42:49.769686Z",
     "start_time": "2020-10-22T18:42:49.741637Z"
    }
   },
   "outputs": [],
   "source": [
    "X = pd.concat([X, categorical], axis = 1)"
   ]
  },
  {
   "cell_type": "code",
   "execution_count": 19,
   "metadata": {
    "ExecuteTime": {
     "end_time": "2020-10-22T18:42:49.881670Z",
     "start_time": "2020-10-22T18:42:49.851671Z"
    }
   },
   "outputs": [
    {
     "data": {
      "text/html": [
       "<div>\n",
       "<style scoped>\n",
       "    .dataframe tbody tr th:only-of-type {\n",
       "        vertical-align: middle;\n",
       "    }\n",
       "\n",
       "    .dataframe tbody tr th {\n",
       "        vertical-align: top;\n",
       "    }\n",
       "\n",
       "    .dataframe thead th {\n",
       "        text-align: right;\n",
       "    }\n",
       "</style>\n",
       "<table border=\"1\" class=\"dataframe\">\n",
       "  <thead>\n",
       "    <tr style=\"text-align: right;\">\n",
       "      <th></th>\n",
       "      <th>goal</th>\n",
       "      <th>pledged</th>\n",
       "      <th>backers</th>\n",
       "      <th>usd pledged</th>\n",
       "      <th>usd_pledged_real</th>\n",
       "      <th>usd_goal_real</th>\n",
       "      <th>days_until_deadline</th>\n",
       "      <th>main_category_Art</th>\n",
       "      <th>main_category_Comics</th>\n",
       "      <th>main_category_Crafts</th>\n",
       "      <th>...</th>\n",
       "      <th>country_IT</th>\n",
       "      <th>country_JP</th>\n",
       "      <th>country_LU</th>\n",
       "      <th>country_MX</th>\n",
       "      <th>country_NL</th>\n",
       "      <th>country_NO</th>\n",
       "      <th>country_NZ</th>\n",
       "      <th>country_SE</th>\n",
       "      <th>country_SG</th>\n",
       "      <th>country_US</th>\n",
       "    </tr>\n",
       "  </thead>\n",
       "  <tbody>\n",
       "    <tr>\n",
       "      <th>0</th>\n",
       "      <td>-1.014994</td>\n",
       "      <td>-1.748513</td>\n",
       "      <td>-1.420382</td>\n",
       "      <td>-1.595059</td>\n",
       "      <td>-1.750999</td>\n",
       "      <td>-0.769542</td>\n",
       "      <td>1.582675</td>\n",
       "      <td>0</td>\n",
       "      <td>0</td>\n",
       "      <td>0</td>\n",
       "      <td>...</td>\n",
       "      <td>0</td>\n",
       "      <td>0</td>\n",
       "      <td>0</td>\n",
       "      <td>0</td>\n",
       "      <td>0</td>\n",
       "      <td>0</td>\n",
       "      <td>0</td>\n",
       "      <td>0</td>\n",
       "      <td>0</td>\n",
       "      <td>0</td>\n",
       "    </tr>\n",
       "    <tr>\n",
       "      <th>1</th>\n",
       "      <td>0.991278</td>\n",
       "      <td>0.628124</td>\n",
       "      <td>0.081841</td>\n",
       "      <td>-0.211511</td>\n",
       "      <td>0.631249</td>\n",
       "      <td>1.011618</td>\n",
       "      <td>1.625842</td>\n",
       "      <td>0</td>\n",
       "      <td>0</td>\n",
       "      <td>0</td>\n",
       "      <td>...</td>\n",
       "      <td>0</td>\n",
       "      <td>0</td>\n",
       "      <td>0</td>\n",
       "      <td>0</td>\n",
       "      <td>0</td>\n",
       "      <td>0</td>\n",
       "      <td>0</td>\n",
       "      <td>0</td>\n",
       "      <td>0</td>\n",
       "      <td>1</td>\n",
       "    </tr>\n",
       "    <tr>\n",
       "      <th>2</th>\n",
       "      <td>1.230512</td>\n",
       "      <td>-0.102094</td>\n",
       "      <td>-0.669271</td>\n",
       "      <td>0.023234</td>\n",
       "      <td>-0.100693</td>\n",
       "      <td>1.254552</td>\n",
       "      <td>0.886965</td>\n",
       "      <td>0</td>\n",
       "      <td>0</td>\n",
       "      <td>0</td>\n",
       "      <td>...</td>\n",
       "      <td>0</td>\n",
       "      <td>0</td>\n",
       "      <td>0</td>\n",
       "      <td>0</td>\n",
       "      <td>0</td>\n",
       "      <td>0</td>\n",
       "      <td>0</td>\n",
       "      <td>0</td>\n",
       "      <td>0</td>\n",
       "      <td>1</td>\n",
       "    </tr>\n",
       "    <tr>\n",
       "      <th>3</th>\n",
       "      <td>-0.065833</td>\n",
       "      <td>-1.537105</td>\n",
       "      <td>-1.044826</td>\n",
       "      <td>-1.387263</td>\n",
       "      <td>-1.539092</td>\n",
       "      <td>-0.061843</td>\n",
       "      <td>-0.154425</td>\n",
       "      <td>0</td>\n",
       "      <td>0</td>\n",
       "      <td>0</td>\n",
       "      <td>...</td>\n",
       "      <td>0</td>\n",
       "      <td>0</td>\n",
       "      <td>0</td>\n",
       "      <td>0</td>\n",
       "      <td>0</td>\n",
       "      <td>0</td>\n",
       "      <td>0</td>\n",
       "      <td>0</td>\n",
       "      <td>0</td>\n",
       "      <td>1</td>\n",
       "    </tr>\n",
       "    <tr>\n",
       "      <th>4</th>\n",
       "      <td>0.737109</td>\n",
       "      <td>0.434570</td>\n",
       "      <td>0.046873</td>\n",
       "      <td>0.550729</td>\n",
       "      <td>0.437237</td>\n",
       "      <td>0.753518</td>\n",
       "      <td>1.448642</td>\n",
       "      <td>0</td>\n",
       "      <td>0</td>\n",
       "      <td>0</td>\n",
       "      <td>...</td>\n",
       "      <td>0</td>\n",
       "      <td>0</td>\n",
       "      <td>0</td>\n",
       "      <td>0</td>\n",
       "      <td>0</td>\n",
       "      <td>0</td>\n",
       "      <td>0</td>\n",
       "      <td>0</td>\n",
       "      <td>0</td>\n",
       "      <td>1</td>\n",
       "    </tr>\n",
       "  </tbody>\n",
       "</table>\n",
       "<p>5 rows × 45 columns</p>\n",
       "</div>"
      ],
      "text/plain": [
       "       goal   pledged   backers  usd pledged  usd_pledged_real  usd_goal_real  \\\n",
       "0 -1.014994 -1.748513 -1.420382    -1.595059         -1.750999      -0.769542   \n",
       "1  0.991278  0.628124  0.081841    -0.211511          0.631249       1.011618   \n",
       "2  1.230512 -0.102094 -0.669271     0.023234         -0.100693       1.254552   \n",
       "3 -0.065833 -1.537105 -1.044826    -1.387263         -1.539092      -0.061843   \n",
       "4  0.737109  0.434570  0.046873     0.550729          0.437237       0.753518   \n",
       "\n",
       "   days_until_deadline  main_category_Art  main_category_Comics  \\\n",
       "0             1.582675                  0                     0   \n",
       "1             1.625842                  0                     0   \n",
       "2             0.886965                  0                     0   \n",
       "3            -0.154425                  0                     0   \n",
       "4             1.448642                  0                     0   \n",
       "\n",
       "   main_category_Crafts  ...  country_IT  country_JP  country_LU  country_MX  \\\n",
       "0                     0  ...           0           0           0           0   \n",
       "1                     0  ...           0           0           0           0   \n",
       "2                     0  ...           0           0           0           0   \n",
       "3                     0  ...           0           0           0           0   \n",
       "4                     0  ...           0           0           0           0   \n",
       "\n",
       "   country_NL  country_NO  country_NZ  country_SE  country_SG  country_US  \n",
       "0           0           0           0           0           0           0  \n",
       "1           0           0           0           0           0           1  \n",
       "2           0           0           0           0           0           1  \n",
       "3           0           0           0           0           0           1  \n",
       "4           0           0           0           0           0           1  \n",
       "\n",
       "[5 rows x 45 columns]"
      ]
     },
     "execution_count": 19,
     "metadata": {},
     "output_type": "execute_result"
    }
   ],
   "source": [
    "X.head()"
   ]
  },
  {
   "cell_type": "markdown",
   "metadata": {},
   "source": [
    "### Split data into train and test sets"
   ]
  },
  {
   "cell_type": "code",
   "execution_count": 20,
   "metadata": {
    "ExecuteTime": {
     "end_time": "2020-10-22T18:42:50.194823Z",
     "start_time": "2020-10-22T18:42:49.960667Z"
    }
   },
   "outputs": [],
   "source": [
    "X_train, X_test, y_train, y_test = train_test_split(X,y,test_size = 0.2, stratify = y)"
   ]
  },
  {
   "cell_type": "code",
   "execution_count": 21,
   "metadata": {
    "ExecuteTime": {
     "end_time": "2020-10-22T18:42:57.971552Z",
     "start_time": "2020-10-22T18:42:50.306805Z"
    }
   },
   "outputs": [],
   "source": [
    "X_train.to_csv('data/train_test/X_train.csv')\n",
    "X_test.to_csv('data/train_test/X_test.csv')\n",
    "y_train.to_csv('data/train_test/y_train.csv')\n",
    "y_test.to_csv('data/train_test/y_test.csv')"
   ]
  }
 ],
 "metadata": {
  "kernelspec": {
   "display_name": "Python 3",
   "language": "python",
   "name": "python3"
  },
  "language_info": {
   "codemirror_mode": {
    "name": "ipython",
    "version": 3
   },
   "file_extension": ".py",
   "mimetype": "text/x-python",
   "name": "python",
   "nbconvert_exporter": "python",
   "pygments_lexer": "ipython3",
   "version": "3.8.3"
  },
  "varInspector": {
   "cols": {
    "lenName": 16,
    "lenType": 16,
    "lenVar": 40
   },
   "kernels_config": {
    "python": {
     "delete_cmd_postfix": "",
     "delete_cmd_prefix": "del ",
     "library": "var_list.py",
     "varRefreshCmd": "print(var_dic_list())"
    },
    "r": {
     "delete_cmd_postfix": ") ",
     "delete_cmd_prefix": "rm(",
     "library": "var_list.r",
     "varRefreshCmd": "cat(var_dic_list()) "
    }
   },
   "types_to_exclude": [
    "module",
    "function",
    "builtin_function_or_method",
    "instance",
    "_Feature"
   ],
   "window_display": false
  }
 },
 "nbformat": 4,
 "nbformat_minor": 4
}
