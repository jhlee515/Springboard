{
 "cells": [
  {
   "cell_type": "markdown",
   "metadata": {},
   "source": [
    "# Kickstarter Projects: Success or Bust?\n",
    "\n",
    "Kickstarter is an online platform where users can help bring “creative projects to life” by donating to projects as they wish. As of 2019, there have been 445,000 projects in categories ranging from music, video games, stage shows and technology. Kickstarter allows unique projects and personal dreams to come into fruition. However, many projects do not get completed and donors can feel like they wasted their money. \n",
    "\n",
    "\n",
    "**Objective:** Utilize past data to predict whether a Kickstarter project will meet its initial donation goal.\n",
    "\n",
    "1. Data Cleaning\n",
    "    * Null values\n",
    "    * Erroneous Values\n",
    "2. Exploratory Data Analysis\n",
    "    * Visualizing dataset\n",
    "    * Correlations    \n",
    "3. Data Preprocessing\n",
    "    * Scale numerical features\n",
    "    * One-hot encode categorical features\n",
    "    * train_test_split dataset    \n",
    "4. **Modeling**\n",
    "    * **Decision Tree/Random Forest Classifiers**\n",
    "    * **Gradient Boosting Classifier**\n",
    "    * **K-Nearest Neighbors Classifier**\n",
    "    * **Hyperparameter Tuning**\n",
    "\n",
    "This project uses the dataset from the Kaggle dataset \"Kickstarter Projects\" found [here.](https://www.kaggle.com/kemical/kickstarter-projects?select=ks-projects-201801.csv)"
   ]
  },
  {
   "cell_type": "markdown",
   "metadata": {},
   "source": [
    "### Import necessary packages"
   ]
  },
  {
   "cell_type": "code",
   "execution_count": 1,
   "metadata": {
    "ExecuteTime": {
     "end_time": "2020-10-26T17:45:35.762133Z",
     "start_time": "2020-10-26T17:45:33.730231Z"
    }
   },
   "outputs": [],
   "source": [
    "import pandas as pd\n",
    "import matplotlib.pyplot as plt\n",
    "import seaborn as sns\n",
    "import numpy as np\n",
    "from sklearn.model_selection import RandomizedSearchCV\n",
    "from sklearn import tree, metrics"
   ]
  },
  {
   "cell_type": "code",
   "execution_count": 2,
   "metadata": {
    "ExecuteTime": {
     "end_time": "2020-10-26T17:45:37.175077Z",
     "start_time": "2020-10-26T17:45:35.764106Z"
    }
   },
   "outputs": [],
   "source": [
    "X_train = pd.read_csv('data/train_test/X_train.csv',index_col = 0)\n",
    "X_test = pd.read_csv('data/train_test/X_test.csv', index_col = 0)\n",
    "y_train = pd.read_csv('data/train_test/y_train.csv', index_col = 0)\n",
    "y_test = pd.read_csv('data/train_test/y_test.csv', index_col = 0)"
   ]
  },
  {
   "cell_type": "code",
   "execution_count": 3,
   "metadata": {
    "ExecuteTime": {
     "end_time": "2020-10-26T17:45:37.221075Z",
     "start_time": "2020-10-26T17:45:37.177063Z"
    }
   },
   "outputs": [
    {
     "data": {
      "text/html": [
       "<div>\n",
       "<style scoped>\n",
       "    .dataframe tbody tr th:only-of-type {\n",
       "        vertical-align: middle;\n",
       "    }\n",
       "\n",
       "    .dataframe tbody tr th {\n",
       "        vertical-align: top;\n",
       "    }\n",
       "\n",
       "    .dataframe thead th {\n",
       "        text-align: right;\n",
       "    }\n",
       "</style>\n",
       "<table border=\"1\" class=\"dataframe\">\n",
       "  <thead>\n",
       "    <tr style=\"text-align: right;\">\n",
       "      <th></th>\n",
       "      <th>goal</th>\n",
       "      <th>pledged</th>\n",
       "      <th>backers</th>\n",
       "      <th>usd pledged</th>\n",
       "      <th>usd_pledged_real</th>\n",
       "      <th>usd_goal_real</th>\n",
       "      <th>days_until_deadline</th>\n",
       "      <th>main_category_Art</th>\n",
       "      <th>main_category_Comics</th>\n",
       "      <th>main_category_Crafts</th>\n",
       "      <th>...</th>\n",
       "      <th>country_IT</th>\n",
       "      <th>country_JP</th>\n",
       "      <th>country_LU</th>\n",
       "      <th>country_MX</th>\n",
       "      <th>country_NL</th>\n",
       "      <th>country_NO</th>\n",
       "      <th>country_NZ</th>\n",
       "      <th>country_SE</th>\n",
       "      <th>country_SG</th>\n",
       "      <th>country_US</th>\n",
       "    </tr>\n",
       "  </thead>\n",
       "  <tbody>\n",
       "    <tr>\n",
       "      <th>267583</th>\n",
       "      <td>-1.423389</td>\n",
       "      <td>0.379816</td>\n",
       "      <td>0.365343</td>\n",
       "      <td>0.496911</td>\n",
       "      <td>0.382354</td>\n",
       "      <td>-1.440397</td>\n",
       "      <td>-0.241498</td>\n",
       "      <td>0</td>\n",
       "      <td>0</td>\n",
       "      <td>0</td>\n",
       "      <td>...</td>\n",
       "      <td>0</td>\n",
       "      <td>0</td>\n",
       "      <td>0</td>\n",
       "      <td>0</td>\n",
       "      <td>0</td>\n",
       "      <td>0</td>\n",
       "      <td>0</td>\n",
       "      <td>0</td>\n",
       "      <td>0</td>\n",
       "      <td>1</td>\n",
       "    </tr>\n",
       "    <tr>\n",
       "      <th>30421</th>\n",
       "      <td>-1.225194</td>\n",
       "      <td>0.408290</td>\n",
       "      <td>0.009492</td>\n",
       "      <td>0.524899</td>\n",
       "      <td>0.410896</td>\n",
       "      <td>-1.239136</td>\n",
       "      <td>-0.154425</td>\n",
       "      <td>0</td>\n",
       "      <td>0</td>\n",
       "      <td>0</td>\n",
       "      <td>...</td>\n",
       "      <td>0</td>\n",
       "      <td>0</td>\n",
       "      <td>0</td>\n",
       "      <td>0</td>\n",
       "      <td>0</td>\n",
       "      <td>0</td>\n",
       "      <td>0</td>\n",
       "      <td>0</td>\n",
       "      <td>0</td>\n",
       "      <td>1</td>\n",
       "    </tr>\n",
       "    <tr>\n",
       "      <th>312140</th>\n",
       "      <td>-0.235538</td>\n",
       "      <td>0.831170</td>\n",
       "      <td>0.665675</td>\n",
       "      <td>0.940554</td>\n",
       "      <td>0.834773</td>\n",
       "      <td>-0.234173</td>\n",
       "      <td>0.584453</td>\n",
       "      <td>0</td>\n",
       "      <td>0</td>\n",
       "      <td>0</td>\n",
       "      <td>...</td>\n",
       "      <td>0</td>\n",
       "      <td>0</td>\n",
       "      <td>0</td>\n",
       "      <td>0</td>\n",
       "      <td>0</td>\n",
       "      <td>0</td>\n",
       "      <td>0</td>\n",
       "      <td>0</td>\n",
       "      <td>0</td>\n",
       "      <td>1</td>\n",
       "    </tr>\n",
       "    <tr>\n",
       "      <th>49853</th>\n",
       "      <td>1.400252</td>\n",
       "      <td>0.027494</td>\n",
       "      <td>-0.172813</td>\n",
       "      <td>0.069640</td>\n",
       "      <td>0.029201</td>\n",
       "      <td>1.426918</td>\n",
       "      <td>0.886965</td>\n",
       "      <td>0</td>\n",
       "      <td>0</td>\n",
       "      <td>0</td>\n",
       "      <td>...</td>\n",
       "      <td>0</td>\n",
       "      <td>0</td>\n",
       "      <td>0</td>\n",
       "      <td>0</td>\n",
       "      <td>0</td>\n",
       "      <td>0</td>\n",
       "      <td>0</td>\n",
       "      <td>0</td>\n",
       "      <td>0</td>\n",
       "      <td>1</td>\n",
       "    </tr>\n",
       "    <tr>\n",
       "      <th>89312</th>\n",
       "      <td>0.582313</td>\n",
       "      <td>0.363468</td>\n",
       "      <td>0.009492</td>\n",
       "      <td>0.480842</td>\n",
       "      <td>0.365968</td>\n",
       "      <td>0.596328</td>\n",
       "      <td>1.538770</td>\n",
       "      <td>1</td>\n",
       "      <td>0</td>\n",
       "      <td>0</td>\n",
       "      <td>...</td>\n",
       "      <td>0</td>\n",
       "      <td>0</td>\n",
       "      <td>0</td>\n",
       "      <td>0</td>\n",
       "      <td>0</td>\n",
       "      <td>0</td>\n",
       "      <td>0</td>\n",
       "      <td>0</td>\n",
       "      <td>0</td>\n",
       "      <td>1</td>\n",
       "    </tr>\n",
       "  </tbody>\n",
       "</table>\n",
       "<p>5 rows × 45 columns</p>\n",
       "</div>"
      ],
      "text/plain": [
       "            goal   pledged   backers  usd pledged  usd_pledged_real  \\\n",
       "267583 -1.423389  0.379816  0.365343     0.496911          0.382354   \n",
       "30421  -1.225194  0.408290  0.009492     0.524899          0.410896   \n",
       "312140 -0.235538  0.831170  0.665675     0.940554          0.834773   \n",
       "49853   1.400252  0.027494 -0.172813     0.069640          0.029201   \n",
       "89312   0.582313  0.363468  0.009492     0.480842          0.365968   \n",
       "\n",
       "        usd_goal_real  days_until_deadline  main_category_Art  \\\n",
       "267583      -1.440397            -0.241498                  0   \n",
       "30421       -1.239136            -0.154425                  0   \n",
       "312140      -0.234173             0.584453                  0   \n",
       "49853        1.426918             0.886965                  0   \n",
       "89312        0.596328             1.538770                  1   \n",
       "\n",
       "        main_category_Comics  main_category_Crafts  ...  country_IT  \\\n",
       "267583                     0                     0  ...           0   \n",
       "30421                      0                     0  ...           0   \n",
       "312140                     0                     0  ...           0   \n",
       "49853                      0                     0  ...           0   \n",
       "89312                      0                     0  ...           0   \n",
       "\n",
       "        country_JP  country_LU  country_MX  country_NL  country_NO  \\\n",
       "267583           0           0           0           0           0   \n",
       "30421            0           0           0           0           0   \n",
       "312140           0           0           0           0           0   \n",
       "49853            0           0           0           0           0   \n",
       "89312            0           0           0           0           0   \n",
       "\n",
       "        country_NZ  country_SE  country_SG  country_US  \n",
       "267583           0           0           0           1  \n",
       "30421            0           0           0           1  \n",
       "312140           0           0           0           1  \n",
       "49853            0           0           0           1  \n",
       "89312            0           0           0           1  \n",
       "\n",
       "[5 rows x 45 columns]"
      ]
     },
     "metadata": {},
     "output_type": "display_data"
    },
    {
     "data": {
      "text/html": [
       "<div>\n",
       "<style scoped>\n",
       "    .dataframe tbody tr th:only-of-type {\n",
       "        vertical-align: middle;\n",
       "    }\n",
       "\n",
       "    .dataframe tbody tr th {\n",
       "        vertical-align: top;\n",
       "    }\n",
       "\n",
       "    .dataframe thead th {\n",
       "        text-align: right;\n",
       "    }\n",
       "</style>\n",
       "<table border=\"1\" class=\"dataframe\">\n",
       "  <thead>\n",
       "    <tr style=\"text-align: right;\">\n",
       "      <th></th>\n",
       "      <th>state</th>\n",
       "    </tr>\n",
       "  </thead>\n",
       "  <tbody>\n",
       "    <tr>\n",
       "      <th>267583</th>\n",
       "      <td>1</td>\n",
       "    </tr>\n",
       "    <tr>\n",
       "      <th>30421</th>\n",
       "      <td>1</td>\n",
       "    </tr>\n",
       "    <tr>\n",
       "      <th>312140</th>\n",
       "      <td>1</td>\n",
       "    </tr>\n",
       "    <tr>\n",
       "      <th>49853</th>\n",
       "      <td>0</td>\n",
       "    </tr>\n",
       "    <tr>\n",
       "      <th>89312</th>\n",
       "      <td>0</td>\n",
       "    </tr>\n",
       "  </tbody>\n",
       "</table>\n",
       "</div>"
      ],
      "text/plain": [
       "        state\n",
       "267583      1\n",
       "30421       1\n",
       "312140      1\n",
       "49853       0\n",
       "89312       0"
      ]
     },
     "metadata": {},
     "output_type": "display_data"
    }
   ],
   "source": [
    "display(X_train.head(), y_train.head())"
   ]
  },
  {
   "cell_type": "markdown",
   "metadata": {},
   "source": [
    "### 0. Naive Classifier"
   ]
  },
  {
   "cell_type": "code",
   "execution_count": 4,
   "metadata": {
    "ExecuteTime": {
     "end_time": "2020-10-26T17:45:37.642098Z",
     "start_time": "2020-10-26T17:45:37.224061Z"
    }
   },
   "outputs": [
    {
     "name": "stdout",
     "output_type": "stream",
     "text": [
      "Baseline score using Naive Classifier (all predictions are 1)\n",
      "Accuracy: 0.3579\n",
      "Balanced Accuracy: 0.5000\n",
      "Precision score for yes: 0.3579\n",
      "Recall score for yes: 1.0000\n"
     ]
    },
    {
     "data": {
      "image/png": "[encoded data removed]",
      "text/plain": [
       "<Figure size 432x288 with 2 Axes>"
      ]
     },
     "metadata": {
      "needs_background": "light"
     },
     "output_type": "display_data"
    }
   ],
   "source": [
    "naive = [1]*len(y_test)\n",
    "naive_cm = metrics.confusion_matrix(y_test, naive)\n",
    "\n",
    "acc = metrics.accuracy_score(y_test, naive)\n",
    "bal_acc = metrics.balanced_accuracy_score(y_test, naive)\n",
    "precision = metrics.precision_score(y_test, naive, pos_label = 1)\n",
    "recall = metrics.recall_score(y_test, naive, pos_label = 1)\n",
    "\n",
    "print('Baseline score using Naive Classifier (all predictions are 1)')\n",
    "print(f'Accuracy: {acc:.4f}')\n",
    "print(f'Balanced Accuracy: {bal_acc:.4f}')\n",
    "print(f'Precision score for yes: {precision:.4f}')\n",
    "print(f'Recall score for yes: {recall:.4f}')\n",
    "\n",
    "disp = metrics.ConfusionMatrixDisplay(confusion_matrix = naive_cm)\n",
    "disp.plot()\n",
    "plt.show()"
   ]
  },
  {
   "cell_type": "markdown",
   "metadata": {},
   "source": [
    "A naive classifier was used to understand the baseline prediction accuracy if the model erroneously predicted all cases to be 1. This classifier should have a low accuracy score as not all or even most cases are of class 1. This is useful for understanding that a 99% accuracy does not necessarily translate to a great model. For example, if 99% of the cases in a dataset were class 1, naively predicting all cases to be 1 would provide an accurcay score of 99%, but failed to correctly predict the relevant 1% of cases. With this naive classifier, we can compare just how much of an improvement the next classifiers provide."
   ]
  },
  {
   "cell_type": "markdown",
   "metadata": {},
   "source": [
    "### 1. Decision Tree Classifier"
   ]
  },
  {
   "cell_type": "code",
   "execution_count": 5,
   "metadata": {
    "ExecuteTime": {
     "end_time": "2020-10-26T17:45:39.754036Z",
     "start_time": "2020-10-26T17:45:37.643088Z"
    }
   },
   "outputs": [],
   "source": [
    "baseline = tree.DecisionTreeClassifier(criterion = 'entropy')\n",
    "baseline.fit(X_train, y_train)\n",
    "\n",
    "baseline_pred = baseline.predict(X_test)"
   ]
  },
  {
   "cell_type": "code",
   "execution_count": 6,
   "metadata": {
    "ExecuteTime": {
     "end_time": "2020-10-26T17:45:39.770021Z",
     "start_time": "2020-10-26T17:45:39.755022Z"
    }
   },
   "outputs": [],
   "source": [
    "def score_model(model, prediction):\n",
    "    acc = metrics.accuracy_score(y_test, prediction)\n",
    "    bal_acc = metrics.balanced_accuracy_score(y_test, prediction)\n",
    "    precision = metrics.precision_score(y_test, prediction, pos_label = 1)\n",
    "    recall = metrics.recall_score(y_test, prediction, pos_label = 1)\n",
    "    \n",
    "    print(f'Accuracy: {acc:.4f}')\n",
    "    print(f'Balanced Accuracy: {bal_acc:.4f}')\n",
    "    print(f'Precision score for yes: {precision:.4f}')\n",
    "    print(f'Recall score for yes: {recall:.4f}')\n",
    "    \n",
    "    class_labels = model.classes_.astype(str)\n",
    "    \n",
    "    print(metrics.classification_report(y_test, prediction))\n",
    "    \n",
    "    metrics.plot_confusion_matrix(model, X_test, y_test, display_labels = class_labels)\n",
    "    plt.show()\n",
    "    \n",
    "    return"
   ]
  },
  {
   "cell_type": "code",
   "execution_count": 7,
   "metadata": {
    "ExecuteTime": {
     "end_time": "2020-10-26T17:45:40.173097Z",
     "start_time": "2020-10-26T17:45:39.773022Z"
    },
    "scrolled": false
   },
   "outputs": [
    {
     "name": "stdout",
     "output_type": "stream",
     "text": [
      "Baseline Decision Tree Model\n",
      "Accuracy: 0.9948\n",
      "Balanced Accuracy: 0.9941\n",
      "Precision score for yes: 0.9934\n",
      "Recall score for yes: 0.9919\n",
      "              precision    recall  f1-score   support\n",
      "\n",
      "           0       1.00      1.00      1.00     47201\n",
      "           1       0.99      0.99      0.99     26305\n",
      "\n",
      "    accuracy                           0.99     73506\n",
      "   macro avg       0.99      0.99      0.99     73506\n",
      "weighted avg       0.99      0.99      0.99     73506\n",
      "\n"
     ]
    },
    {
     "data": {
      "image/png": "[encoded data removed]",
      "text/plain": [
       "<Figure size 432x288 with 2 Axes>"
      ]
     },
     "metadata": {
      "needs_background": "light"
     },
     "output_type": "display_data"
    }
   ],
   "source": [
    "print(\"Baseline Decision Tree Model\")\n",
    "score_model(baseline, baseline_pred)"
   ]
  },
  {
   "cell_type": "markdown",
   "metadata": {},
   "source": [
    "From the baseline Decision Tree model, we are able to accurately predict whether Kickstarter projects will reach their goal or not. For this specific project, it would be wise to minimize the amount of false positive errors as it would lead to users feeling like they've been lied to if they donate to a project that is predicted to meet their goal but end up not actually doing so. By looking at the precision ($\\frac{True Positive}{True Positive + FalsPositive}$), we can see whether or not we are minimizing our false positive classifications. For this Decision Tree model, the precision was 0.9934 which is very impressive. However, with such good results, it seems like this could be too good to be true. To make sure, I will try hyperparameter tuning and other models to further optimize the model."
   ]
  },
  {
   "cell_type": "code",
   "execution_count": 8,
   "metadata": {
    "ExecuteTime": {
     "end_time": "2020-10-26T17:45:40.189094Z",
     "start_time": "2020-10-26T17:45:40.175085Z"
    },
    "scrolled": true
   },
   "outputs": [
    {
     "data": {
      "text/plain": [
       "33"
      ]
     },
     "execution_count": 8,
     "metadata": {},
     "output_type": "execute_result"
    }
   ],
   "source": [
    "baseline.get_depth()"
   ]
  },
  {
   "cell_type": "markdown",
   "metadata": {},
   "source": [
    "### 1a. Hyperparameter Tuning for Decision Tree"
   ]
  },
  {
   "cell_type": "code",
   "execution_count": 9,
   "metadata": {
    "ExecuteTime": {
     "end_time": "2020-10-26T17:45:40.204083Z",
     "start_time": "2020-10-26T17:45:40.191086Z"
    }
   },
   "outputs": [],
   "source": [
    "from sklearn.model_selection import RandomizedSearchCV\n",
    "\n",
    "def tune_model(model, param_grid):\n",
    "    model_randomsearch = RandomizedSearchCV(model, param_grid, cv = 5)\n",
    "    \n",
    "    model_randomsearch.fit(X_train, y_train.values.ravel())\n",
    "    \n",
    "    print(f'Optimal hyperparameters: {model_randomsearch.best_params_}')\n",
    "    \n",
    "    tuned_pred = model_randomsearch.predict(X_test)\n",
    "    \n",
    "    return model_randomsearch, tuned_pred"
   ]
  },
  {
   "cell_type": "code",
   "execution_count": 10,
   "metadata": {
    "ExecuteTime": {
     "end_time": "2020-10-26T17:46:01.929405Z",
     "start_time": "2020-10-26T17:45:40.206084Z"
    }
   },
   "outputs": [
    {
     "name": "stdout",
     "output_type": "stream",
     "text": [
      "Optimal hyperparameters: {'max_features': 8, 'max_depth': 20, 'criterion': 'gini'}\n"
     ]
    }
   ],
   "source": [
    "params = {'max_depth': [10,20,30,40, None],\n",
    "          'criterion': ['gini', 'entropy'],\n",
    "          'max_features': np.arange(1,10)}\n",
    "\n",
    "clf = tree.DecisionTreeClassifier()\n",
    "\n",
    "tree_cv, tree_cv_pred = tune_model(clf, params)"
   ]
  },
  {
   "cell_type": "code",
   "execution_count": 11,
   "metadata": {
    "ExecuteTime": {
     "end_time": "2020-10-26T17:46:02.321452Z",
     "start_time": "2020-10-26T17:46:01.930405Z"
    }
   },
   "outputs": [
    {
     "name": "stdout",
     "output_type": "stream",
     "text": [
      "Hyperparameter Tuned Decision Tree Model\n",
      "Accuracy: 0.9915\n",
      "Balanced Accuracy: 0.9911\n",
      "Precision score for yes: 0.9868\n",
      "Recall score for yes: 0.9895\n",
      "              precision    recall  f1-score   support\n",
      "\n",
      "           0       0.99      0.99      0.99     47201\n",
      "           1       0.99      0.99      0.99     26305\n",
      "\n",
      "    accuracy                           0.99     73506\n",
      "   macro avg       0.99      0.99      0.99     73506\n",
      "weighted avg       0.99      0.99      0.99     73506\n",
      "\n"
     ]
    },
    {
     "data": {
      "image/png": "[encoded data removed]",
      "text/plain": [
       "<Figure size 432x288 with 2 Axes>"
      ]
     },
     "metadata": {
      "needs_background": "light"
     },
     "output_type": "display_data"
    }
   ],
   "source": [
    "print('Hyperparameter Tuned Decision Tree Model')\n",
    "score_model(tree_cv, tree_cv_pred)"
   ]
  },
  {
   "cell_type": "markdown",
   "metadata": {},
   "source": [
    "Surprisingly. using `RandomizedSearchCV` performed slightly worse than the baseline model. The results are still outstanding for a classifier, scoring slightly under 0.99 for precision and recall, respectively. However, these results could probably be improved with a more robust model such as the Random Forest classifier."
   ]
  },
  {
   "cell_type": "markdown",
   "metadata": {},
   "source": [
    "### 2. Random Forest"
   ]
  },
  {
   "cell_type": "code",
   "execution_count": 12,
   "metadata": {
    "ExecuteTime": {
     "end_time": "2020-10-26T17:46:43.558653Z",
     "start_time": "2020-10-26T17:46:02.323439Z"
    }
   },
   "outputs": [],
   "source": [
    "from sklearn.ensemble import RandomForestClassifier\n",
    "\n",
    "base_forest = RandomForestClassifier(n_estimators = 300, n_jobs = -1)\n",
    "base_forest.fit(X_train, y_train.values.ravel())\n",
    "\n",
    "base_forest_pred = base_forest.predict(X_test)"
   ]
  },
  {
   "cell_type": "code",
   "execution_count": 13,
   "metadata": {
    "ExecuteTime": {
     "end_time": "2020-10-26T17:46:45.041607Z",
     "start_time": "2020-10-26T17:46:43.560654Z"
    }
   },
   "outputs": [
    {
     "name": "stdout",
     "output_type": "stream",
     "text": [
      "Base Random Forest Model\n",
      "Accuracy: 0.9962\n",
      "Balanced Accuracy: 0.9969\n",
      "Precision score for yes: 0.9899\n",
      "Recall score for yes: 0.9995\n",
      "              precision    recall  f1-score   support\n",
      "\n",
      "           0       1.00      0.99      1.00     47201\n",
      "           1       0.99      1.00      0.99     26305\n",
      "\n",
      "    accuracy                           1.00     73506\n",
      "   macro avg       0.99      1.00      1.00     73506\n",
      "weighted avg       1.00      1.00      1.00     73506\n",
      "\n"
     ]
    },
    {
     "data": {
      "image/png": "[encoded data removed]",
      "text/plain": [
       "<Figure size 432x288 with 2 Axes>"
      ]
     },
     "metadata": {
      "needs_background": "light"
     },
     "output_type": "display_data"
    }
   ],
   "source": [
    "print('Base Random Forest Model')\n",
    "score_model(base_forest, base_forest_pred)"
   ]
  },
  {
   "cell_type": "markdown",
   "metadata": {},
   "source": [
    "Overall, the baseline Random Forest model performed significantly better than the past two decision tree models which was expected, as a Random Forest is an ensemble of multiple Decision Trees working simultaneously. However, the precision score has decreased from the baseline Decision Tree model meaning there will be more false positives predicted with this model. Because this model is already performing extremely well, this model will stay as is without hyperparameter tuning."
   ]
  },
  {
   "cell_type": "code",
   "execution_count": 14,
   "metadata": {
    "ExecuteTime": {
     "end_time": "2020-10-26T17:46:45.307599Z",
     "start_time": "2020-10-26T17:46:45.043607Z"
    }
   },
   "outputs": [
    {
     "data": {
      "image/png": "[encoded data removed]",
      "text/plain": [
       "<Figure size 576x576 with 1 Axes>"
      ]
     },
     "metadata": {
      "needs_background": "light"
     },
     "output_type": "display_data"
    }
   ],
   "source": [
    "feature_importance = base_forest.feature_importances_\n",
    "feature_importance = 100*(feature_importance / max(feature_importance))[:20]\n",
    "sorted_idx = np.argsort(feature_importance)[:20]\n",
    "\n",
    "pos = np.arange(sorted_idx.shape[0]) + .5\n",
    "plt.figure(figsize = (8,8))\n",
    "plt.barh(pos, feature_importance[sorted_idx], align = 'center')\n",
    "plt.yticks(pos, X_train.columns[sorted_idx])\n",
    "plt.title('Relative Importance of Features')\n",
    "plt.xlabel('Relative Importance')\n",
    "plt.ylabel('Features')\n",
    "plt.show()"
   ]
  },
  {
   "cell_type": "markdown",
   "metadata": {},
   "source": [
    "From the graph above, it can be seen that the most important feature in terms of predicting whether the project's goal will be met is `usd_pledged_real` and `pledged`. This makes sense as more dollars are pledged to the Kickstarter project, the more likely it is that the initial donation goal is met. After the 7th most important feature, the features are the one hot encoded main category features with almost 0 relative importance. This means that the main category of a Kickstarter project has minimal impact on how this model made its predictions. "
   ]
  },
  {
   "cell_type": "markdown",
   "metadata": {},
   "source": [
    "### 3. Gradient Boosting Classifier"
   ]
  },
  {
   "cell_type": "code",
   "execution_count": 15,
   "metadata": {
    "ExecuteTime": {
     "end_time": "2020-10-26T17:47:53.140494Z",
     "start_time": "2020-10-26T17:46:45.309599Z"
    }
   },
   "outputs": [
    {
     "name": "stdout",
     "output_type": "stream",
     "text": [
      "Accuracy: 0.9894\n",
      "Balanced Accuracy: 0.9915\n",
      "Precision score for yes: 0.9718\n",
      "Recall score for yes: 0.9992\n",
      "              precision    recall  f1-score   support\n",
      "\n",
      "           0       1.00      0.98      0.99     47201\n",
      "           1       0.97      1.00      0.99     26305\n",
      "\n",
      "    accuracy                           0.99     73506\n",
      "   macro avg       0.99      0.99      0.99     73506\n",
      "weighted avg       0.99      0.99      0.99     73506\n",
      "\n"
     ]
    },
    {
     "data": {
      "image/png": "[encoded data removed]",
      "text/plain": [
       "<Figure size 432x288 with 2 Axes>"
      ]
     },
     "metadata": {
      "needs_background": "light"
     },
     "output_type": "display_data"
    }
   ],
   "source": [
    "from sklearn.ensemble import GradientBoostingClassifier\n",
    "\n",
    "base_gbm = GradientBoostingClassifier()\n",
    "base_gbm.fit(X_train, y_train.values.ravel())\n",
    "\n",
    "base_gbm_pred = base_gbm.predict(X_test)\n",
    "\n",
    "score_model(base_gbm, base_gbm_pred)"
   ]
  },
  {
   "cell_type": "markdown",
   "metadata": {},
   "source": [
    "### 3a. Hyperparameter Tuning for Gradient Boosting Classifier"
   ]
  },
  {
   "cell_type": "code",
   "execution_count": 16,
   "metadata": {
    "ExecuteTime": {
     "end_time": "2020-10-26T18:11:58.267623Z",
     "start_time": "2020-10-26T17:47:53.142494Z"
    }
   },
   "outputs": [
    {
     "name": "stdout",
     "output_type": "stream",
     "text": [
      "Optimal hyperparameters: {'n_estimators': 80, 'learning_rate': 0.2}\n"
     ]
    }
   ],
   "source": [
    "params = {'learning_rate': np.arange(0.05,0.2,0.05),\n",
    "          'n_estimators': np.arange(20,81,10)}\n",
    "\n",
    "gbm = GradientBoostingClassifier()\n",
    "\n",
    "gbm_cv, gbm_cv_pred = tune_model(gbm, params)"
   ]
  },
  {
   "cell_type": "code",
   "execution_count": 17,
   "metadata": {
    "ExecuteTime": {
     "end_time": "2020-10-26T18:11:58.783668Z",
     "start_time": "2020-10-26T18:11:58.269624Z"
    }
   },
   "outputs": [
    {
     "name": "stdout",
     "output_type": "stream",
     "text": [
      "Hyperparameter Tuned Gradient Boosting Classifier\n",
      "Accuracy: 0.9923\n",
      "Balanced Accuracy: 0.9938\n",
      "Precision score for yes: 0.9795\n",
      "Recall score for yes: 0.9993\n",
      "              precision    recall  f1-score   support\n",
      "\n",
      "           0       1.00      0.99      0.99     47201\n",
      "           1       0.98      1.00      0.99     26305\n",
      "\n",
      "    accuracy                           0.99     73506\n",
      "   macro avg       0.99      0.99      0.99     73506\n",
      "weighted avg       0.99      0.99      0.99     73506\n",
      "\n"
     ]
    },
    {
     "data": {
      "image/png": "[encoded data removed]",
      "text/plain": [
       "<Figure size 432x288 with 2 Axes>"
      ]
     },
     "metadata": {
      "needs_background": "light"
     },
     "output_type": "display_data"
    }
   ],
   "source": [
    "print('Hyperparameter Tuned Gradient Boosting Classifier')\n",
    "score_model(gbm_cv, gbm_cv_pred)"
   ]
  },
  {
   "cell_type": "markdown",
   "metadata": {},
   "source": [
    "Tuning the hyperparameters of the Gradient Boosting Machine classifier resulted in only a slight improvement of its predicting power. There are still as many incorrectly predicted 0 labels but was able to correctly predict all projects that have met their goal. However, even with the tuned hyperparameters, the Gradient Boosting classifier still makes significantly more false positive errors than the baseline decision tree model. Because this project aims to minimize the amount of unhappy users donating to a project that subsequently fails to meet its goal, it is crucial that the final model minimizes the amount of false positive errors."
   ]
  },
  {
   "cell_type": "markdown",
   "metadata": {},
   "source": [
    "### 4. K-Nearest Neighbors Classifier"
   ]
  },
  {
   "cell_type": "code",
   "execution_count": 18,
   "metadata": {
    "ExecuteTime": {
     "end_time": "2020-10-26T19:04:02.931690Z",
     "start_time": "2020-10-26T18:11:58.784644Z"
    }
   },
   "outputs": [],
   "source": [
    "from sklearn.neighbors import KNeighborsClassifier\n",
    "\n",
    "train_scores = []\n",
    "test_scores = []\n",
    "\n",
    "for i in range(1,11):\n",
    "    knn = KNeighborsClassifier(i)\n",
    "    knn.fit(X_train, y_train.values.ravel())\n",
    "    \n",
    "    train_scores.append(knn.score(X_train,y_train))\n",
    "    test_scores.append(knn.score(X_test,y_test))\n",
    "    "
   ]
  },
  {
   "cell_type": "code",
   "execution_count": 19,
   "metadata": {
    "ExecuteTime": {
     "end_time": "2020-10-26T19:04:03.071732Z",
     "start_time": "2020-10-26T19:04:02.932685Z"
    }
   },
   "outputs": [
    {
     "data": {
      "image/png": "[encoded data removed]",
      "text/plain": [
       "<Figure size 504x360 with 1 Axes>"
      ]
     },
     "metadata": {
      "needs_background": "light"
     },
     "output_type": "display_data"
    }
   ],
   "source": [
    "plt.figure(figsize = (7,5))\n",
    "plt.plot(range(1,11), train_scores, label = 'Train')\n",
    "plt.plot(range(1,11), test_scores, label = 'Test')\n",
    "plt.xticks(range(1,11))\n",
    "plt.xlabel('K neighbors')\n",
    "plt.ylabel('Score')\n",
    "plt.title('Train and Test Scores Using Various K-Neighbors')\n",
    "plt.legend()\n",
    "plt.show()"
   ]
  },
  {
   "cell_type": "code",
   "execution_count": 20,
   "metadata": {
    "ExecuteTime": {
     "end_time": "2020-10-26T19:06:20.768722Z",
     "start_time": "2020-10-26T19:04:03.072710Z"
    }
   },
   "outputs": [
    {
     "name": "stdout",
     "output_type": "stream",
     "text": [
      "K-Nearest Neighbors Classifier\n",
      "Accuracy: 0.9804\n",
      "Balanced Accuracy: 0.9813\n",
      "Precision score for yes: 0.9615\n",
      "Recall score for yes: 0.9846\n",
      "              precision    recall  f1-score   support\n",
      "\n",
      "           0       0.99      0.98      0.98     47201\n",
      "           1       0.96      0.98      0.97     26305\n",
      "\n",
      "    accuracy                           0.98     73506\n",
      "   macro avg       0.98      0.98      0.98     73506\n",
      "weighted avg       0.98      0.98      0.98     73506\n",
      "\n"
     ]
    },
    {
     "data": {
      "image/png": "[encoded data removed]",
      "text/plain": [
       "<Figure size 432x288 with 2 Axes>"
      ]
     },
     "metadata": {
      "needs_background": "light"
     },
     "output_type": "display_data"
    }
   ],
   "source": [
    "knn = KNeighborsClassifier(3)\n",
    "knn.fit(X_train, y_train.values.ravel())\n",
    "\n",
    "knn_pred = knn.predict(X_test)\n",
    "\n",
    "print('K-Nearest Neighbors Classifier')\n",
    "score_model(knn, knn_pred)"
   ]
  },
  {
   "cell_type": "markdown",
   "metadata": {},
   "source": [
    "At a $K$ value of 3, the imporvement on training set score decreased and so $K=3$ was used to predict outcomes on the test set. Although the model objectively did well, the previous models have performed far better than the K-Nearest Neighbors classifier. "
   ]
  },
  {
   "cell_type": "markdown",
   "metadata": {},
   "source": [
    "### 5. ROC Curve"
   ]
  },
  {
   "cell_type": "code",
   "execution_count": 21,
   "metadata": {
    "ExecuteTime": {
     "end_time": "2020-10-26T19:07:00.854510Z",
     "start_time": "2020-10-26T19:06:20.770722Z"
    }
   },
   "outputs": [
    {
     "data": {
      "image/png": "[encoded data removed]",
      "text/plain": [
       "<Figure size 432x288 with 1 Axes>"
      ]
     },
     "metadata": {
      "needs_background": "light"
     },
     "output_type": "display_data"
    }
   ],
   "source": [
    "ax = plt.gca()\n",
    "knn_roc = metrics.plot_roc_curve(knn, X_test, y_test, ax = ax)\n",
    "forest_roc = metrics.plot_roc_curve(base_forest, X_test, y_test, ax = ax)\n",
    "gbm_roc = metrics.plot_roc_curve(gbm_cv, X_test, y_test, ax = ax)\n",
    "tree_roc = metrics.plot_roc_curve(tree_cv, X_test, y_test, ax = ax)\n",
    "plt.plot([0,1], [0,1], linestyle = '--', label = 'Random Chance')\n",
    "plt.legend()\n",
    "plt.show()"
   ]
  },
  {
   "cell_type": "markdown",
   "metadata": {},
   "source": [
    "From the tests done above, the final model chosen to predict whether a Kickstarter project will meet it's goal by the deadline will be the baseline Decision Tree model. Although it is technically the simplest model, the Decision Tree classifier outperformed the other models in both overall prediction accuracy and, most importantly, minimizing the precision score. Minimizing precision score will allow Kickstarter users to more confidently donate their money to the projects that are more likely be successfully funded and not have to worry about their donations going to a fruite"
   ]
  }
 ],
 "metadata": {
  "kernelspec": {
   "display_name": "Python 3",
   "language": "python",
   "name": "python3"
  },
  "language_info": {
   "codemirror_mode": {
    "name": "ipython",
    "version": 3
   },
   "file_extension": ".py",
   "mimetype": "text/x-python",
   "name": "python",
   "nbconvert_exporter": "python",
   "pygments_lexer": "ipython3",
   "version": "3.8.3"
  },
  "varInspector": {
   "cols": {
    "lenName": 16,
    "lenType": 16,
    "lenVar": 40
   },
   "kernels_config": {
    "python": {
     "delete_cmd_postfix": "",
     "delete_cmd_prefix": "del ",
     "library": "var_list.py",
     "varRefreshCmd": "print(var_dic_list())"
    },
    "r": {
     "delete_cmd_postfix": ") ",
     "delete_cmd_prefix": "rm(",
     "library": "var_list.r",
     "varRefreshCmd": "cat(var_dic_list()) "
    }
   },
   "types_to_exclude": [
    "module",
    "function",
    "builtin_function_or_method",
    "instance",
    "_Feature"
   ],
   "window_display": false
  }
 },
 "nbformat": 4,
 "nbformat_minor": 4
}
